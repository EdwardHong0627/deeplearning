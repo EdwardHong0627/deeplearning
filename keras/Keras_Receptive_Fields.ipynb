{
 "cells": [
  {
   "cell_type": "markdown",
   "metadata": {},
   "source": [
    "# Keras_Receptive_Fields\n",
    "## 說明\n",
    "簡中譯為感受野，繁中譯為接受區，國家教育研究院雙語詞彙中在魚類應用中為受精區，主要說明著在Convolution與Pooling之後的每一個元素所能包含到原始輸入圖像中範圍元素。  \n",
    "\n",
    "舉個簡單的範例，輸入圖像為5x5，執行Convolution，filter_size=(3,3)，stride=1，在Convolution之後的output dimension為(3,3)，其output中的每一個元素皆包含上層(3x3)的資訊在裡面，再經過第二次的Convolution，filter_size(3,3)，stride=1，output dimension為(1,1)，這唯一的一個元素所包含的原始輸入圖像即(5x5)，意即receptive_fields為5。\n",
    "\n",
    "如下圖所示：\n",
    "![](./images/receptive_fields.jpg)\n",
    "\n",
    "計算receptive_fields的用意在於，建置模型的同時我們可以理解轉fully-connected之前的output，每一個元素究竟能夠包含輸入圖像多少訊息在裡面，以Alexnet來說，它的pool5 layer的receptive_fields為195，而它的input shape為227，這數值是非常大的，以inception為例，它在保留極大的receptive_fields的情況下瘦身了模型，它的參數僅Alexnet的1/12，而VGG的參數量卻是Alexnet的3倍左右，但inception的效能卻不輸Alexnet與VGG。\n",
    "\n",
    "因此這提供我們一個方向，模型建構的同時，如果能夠在保留極大receptive_fields的情況下減少參數量，對於訓練學習過程中的時間與建置完成的模型大小都有很大的幫助。\n",
    "## 如何計算\n",
    "參考如連結：http://shawnleezx.github.io/blog/2017/02/11/calculating-receptive-field-of-cnn/   \n",
    "\n",
    "![](./images/receptive_fields_2.jpg)  \n",
    "* $l_{k-1}$: 為k-1層的receptive_fields\n",
    "* $f_k$: k層的filter_size<sub>假設filter_size的h,w是相同</sub>\n",
    "* $s_i$: 為第i層的stride\n",
    "\n",
    "## 範例\n",
    "### 簡單範例\n",
    "以上面說明範例計算\n",
    "1. layer_1: 第一層的receptive field皆為1\n",
    "2. layer_2: 1 + (3-1)\\*1 = 1 + 2 = 3\n",
    "3. layer_3: 3 + (3-1)\\*1 = 3 + 2 = 5  \n",
    "\n",
    "### 程式碼\n",
    "#### 載入需求套件"
   ]
  },
  {
   "cell_type": "code",
   "execution_count": 1,
   "metadata": {},
   "outputs": [
    {
     "name": "stderr",
     "output_type": "stream",
     "text": [
      "Using TensorFlow backend.\n"
     ]
    }
   ],
   "source": [
    "# import numpy as np\n",
    "\n",
    "# seed = 10\n",
    "# np.random.seed(seed)\n",
    "\n",
    "# import pandas as pd\n",
    "# import matplotlib.pyplot as plt\n",
    "from keras.models import Sequential\n",
    "from keras.layers import Dense, AveragePooling2D, GlobalAveragePooling2D, Input, Dropout, Flatten, Activation\n",
    "from keras.layers.convolutional import Conv2D,MaxPooling2D\n",
    "from keras.optimizers import SGD\n",
    "# import os\n",
    "# import tensorflow as tf\n",
    "# from keras import backend as K\n",
    "\n",
    "# %matplotlib inline"
   ]
  },
  {
   "cell_type": "markdown",
   "metadata": {},
   "source": [
    "### 建構模型\n",
    "模型依範例建構，沒有很正式，請不要太介意"
   ]
  },
  {
   "cell_type": "code",
   "execution_count": 15,
   "metadata": {},
   "outputs": [],
   "source": [
    "model = Sequential()\n",
    "model.add(Conv2D(1, (3,3), strides=(1,1), input_shape=(5,5,1)))\n",
    "model.add(Conv2D(1, (3,3), strides=(1,1), input_shape=(5,5,1)))\n",
    "model.compile(loss='categorical_crossentropy',optimizer='sgd',metrics=['accuracy'])"
   ]
  },
  {
   "cell_type": "code",
   "execution_count": 16,
   "metadata": {},
   "outputs": [
    {
     "name": "stdout",
     "output_type": "stream",
     "text": [
      "_________________________________________________________________\n",
      "Layer (type)                 Output Shape              Param #   \n",
      "=================================================================\n",
      "conv2d_5 (Conv2D)            (None, 3, 3, 1)           10        \n",
      "_________________________________________________________________\n",
      "conv2d_6 (Conv2D)            (None, 1, 1, 1)           10        \n",
      "=================================================================\n",
      "Total params: 20\n",
      "Trainable params: 20\n",
      "Non-trainable params: 0\n",
      "_________________________________________________________________\n"
     ]
    }
   ],
   "source": [
    "model.summary()"
   ]
  },
  {
   "cell_type": "markdown",
   "metadata": {},
   "source": [
    "### 建立function\n",
    "設置計算receptive fields的function，該function是在下在尋找資料的時候於網路上所得，但回頭尋找來源的時候遍尋不著並且網頁疑似已404，如作者發現在下是抄襲您的程式碼的時候請來信告知。"
   ]
  },
  {
   "cell_type": "code",
   "execution_count": 21,
   "metadata": {
    "collapsed": true
   },
   "outputs": [],
   "source": [
    "#  Receptive Fields(感受野)的計算\n",
    "def print_receptive_fields(model):\n",
    "    #  初始receptive fields為1\n",
    "    r, s = 1, 1\n",
    "    print('{:15}, {:4}, {:4}, {:4}, {:4}'.format('layer', ' r', ' s', ' R', ' S'))\n",
    "    print('-' * 39)\n",
    "    print('{:15}, {:4}, {:4}, {:4}, {:4}'.format('input', 1, 1, r, s))\n",
    "    #  取得模型各layer資訊\n",
    "    layer = model.input_layers[0]\n",
    "    while layer is not None:\n",
    "        if hasattr(layer, 'kernel_size'):\n",
    "            #  假設filter_size與stride的h與w相同\n",
    "            assert layer.kernel_size[0] == layer.kernel_size[1]\n",
    "            assert layer.strides[0] == layer.strides[1]\n",
    "            lr = layer.kernel_size[0]\n",
    "            ls = layer.strides[0]\n",
    "            r = r+(lr-1)*s\n",
    "            s = s*ls\n",
    "            print('{:15}, {:4}, {:4}, {:4}, {:4}'.format(layer.name, lr, ls, r, s))\n",
    "        if hasattr(layer, 'pool_size'):\n",
    "            #  假設filter_size與stride的h與w相同\n",
    "            assert layer.pool_size[0] == layer.pool_size[1]\n",
    "            assert layer.strides[0] == layer.strides[1]\n",
    "            lr = layer.pool_size[0]\n",
    "            ls = layer.strides[0]\n",
    "            r = r+(lr-1)*s\n",
    "            s = s*ls\n",
    "            print('{:15}, {:4}, {:4}, {:4}, {:4}'.format(layer.name, lr, ls, r, s))\n",
    "        if layer._outbound_nodes:\n",
    "            layer = layer._outbound_nodes[0].outbound_layer\n",
    "        else:\n",
    "            layer = None\n",
    "     "
   ]
  },
  {
   "cell_type": "code",
   "execution_count": 22,
   "metadata": {},
   "outputs": [
    {
     "name": "stdout",
     "output_type": "stream",
     "text": [
      "layer          ,  r  ,  s  ,  R  ,  S  \n",
      "---------------------------------------\n",
      "input          ,    1,    1,    1,    1\n",
      "conv2d_5       ,    3,    1,    3,    1\n",
      "conv2d_6       ,    3,    1,    5,    1\n"
     ]
    }
   ],
   "source": [
    "print_receptive_fields(model)      "
   ]
  }
 ],
 "metadata": {
  "kernelspec": {
   "display_name": "Python 3",
   "language": "python",
   "name": "python3"
  },
  "language_info": {
   "codemirror_mode": {
    "name": "ipython",
    "version": 3
   },
   "file_extension": ".py",
   "mimetype": "text/x-python",
   "name": "python",
   "nbconvert_exporter": "python",
   "pygments_lexer": "ipython3",
   "version": "3.5.3"
  }
 },
 "nbformat": 4,
 "nbformat_minor": 2
}
