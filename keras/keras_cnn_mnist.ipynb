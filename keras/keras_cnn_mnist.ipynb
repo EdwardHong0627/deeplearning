{
 "cells": [
  {
   "cell_type": "markdown",
   "metadata": {},
   "source": [
    "## INFO\n",
    "Editor:Shaoe.chen(Marty.chen)"
   ]
  },
  {
   "cell_type": "markdown",
   "metadata": {},
   "source": [
    "## Convolution"
   ]
  },
  {
   "cell_type": "markdown",
   "metadata": {},
   "source": [
    "CNN由三巨頭之一的Yann LeCun(楊立昆)創並且提出了LeNet卷積架構，CNN並非只能應用於2D的影像，1D如時間序列數據或3D如超音波影像亦可處理，在神經網路中，卷積這個行為是一個input與kernel(filter)加權來得到一個output(map\\_映射)。  \n",
    "註：後面以filter來稱呼kernel\n",
    "\n",
    "卷積：   \n",
    "下圖所表示的是一個卷積的行為，filter(2x2x1)與2D(4x5x1)資料做一次計算，再依設置的stride(範例為1，若為2則一次像右移動兩格)向右滑動，由左至右，由上而下的計算覆蓋區域與filter的各別元素乘積加總。\n",
    "<img src=\"./images/conv1.gif\" style=\"width:400;height:100;\">\n",
    "\n",
    "由上圖的執行也可以發現，四個角的部份在卷積過程中都只計算一次，邊緣部份也只得少數計算，這可能會造成邊緣資訊的提供不足，也因此有了另一個超參數padding的設置，透過padding的設置將圖片外推出去，以此方式讓邊緣資訊也可以有效提供神經網路，常聽到same padding所指即卷積過後其圖片大小不變。  \n",
    "\n",
    "padding：  \n",
    "<img src=\"./images/conv2.jpg\" style=\"width:200;height:200;\">  \n",
    "上圖可以看到，透過padding將圖片外推，最左上角的a不再只計算一次，而是四次(如果沒算錯的話)，這讓邊緣資訊可以有效提供給予神經網路。\n",
    "\n",
    "stride：\n",
    "<img src=\"./images/conv2.gif\" style=\"width:200;height:200;\">  \n",
    "上圖為stride設置為2的移動狀況\n",
    "\n",
    "filter：  \n",
    "圖片一般來說有rgb三個通道(channel)，二值化或灰值之後就不會有3個channel，上例來看，輸入是4x5，那filter就只會是fxf(2x2)，如果輸入是彩色照片4x5x3(rgb)，那filter就會是2x2x3，filter的channel與上層輸入必需相同，輸出則依filter數量產生不同channel輸出，上例來看，如果filter設置有10個，那輸出照片即為3x4x10(channel)。所以，filter需要設置每次卷積的尺寸f與數量channel。\n",
    "\n",
    "filter的設置主要在於不同的filter可以學習到不同的邊緣檢測，愈前面的神經網路所學到的愈細節，這是一個很重要的觀念，這關係到transfer learning為什麼可以在拿掉最後的sofrmax，然後重新訓練最後一層的權重之後就可以拿來給我們應用(相同領域下效果較佳)，因為細節在前面的filter都已經學習到了，可能你只需要再重新訓練後面幾層的權重之後就可以讓你的模型效能有不錯的取得。\n",
    "\n",
    "註一：『卷積』一詞為一種數學上特殊的線性計算，而應用於神經網路中的卷積與其它領域的卷積其定義不一定相同。(參考：深度學習deep_learning)"
   ]
  },
  {
   "cell_type": "markdown",
   "metadata": {},
   "source": [
    "上面我們已經有了卷積的基本觀念，用這個觀念我們可以計算出卷積之後的尺寸，在神經網路的實作中，維度的確認是非常重要的一個觀念，雖然透過framework(tensorflow,keras,pytorch,cntk...)沒有這個煩惱，但有了理論基礎在未來實作模型的時候遇到錯誤也比較能夠快速debug。  \n",
    "輸出=(輸入 + 2\\*padding - filter) / s + 1  \n",
    "\n",
    "舉例：  \n",
    "* 輸入\n",
    "    * 39x39x3  \n",
    "* conv\n",
    "    * filter\n",
    "        * 3x3\n",
    "        * 10\n",
    "    * padding\n",
    "        * 0\n",
    "    * stride\n",
    "        * 1\n",
    "* 輸出\n",
    "    * (39 + 2\\*0 - 3 ) / 1 + 1 = 37\n",
    "    * 37x37x10"
   ]
  },
  {
   "cell_type": "markdown",
   "metadata": {},
   "source": [
    "## Pooling"
   ]
  },
  {
   "cell_type": "markdown",
   "metadata": {},
   "source": [
    "在實作CNN的時候，伴隨在convolution後面的總是pooling，pooling的主要用途除了縮減尺寸(實作上也會執行same padding)，直觀來看也可以當成一個特徵提取的行為，觀念上與卷積雷同，最大差異在於pooling並沒有學習參數的問題，單純的計算。\n",
    "\n",
    "實作上較常見的兩種pooling方式為max pooling與average pooling，如下兩圖可見差異：  \n",
    "max pooling：\n",
    "<img src=\"./images/pooling1.gif\" style=\"width:200;height:200;\">  \n",
    "\n",
    "average pooling：\n",
    "<img src=\"./images/pooling2.gif\" style=\"width:200;height:200;\">  \n",
    "\n",
    "max pooling會取區域內最大值，而average pooling則取區域內平均值，這兩者之間較常見為max pooling，相同於convolution，也需要設置filter(並非指convloution kernel)、stride與padding(實務上較少)。"
   ]
  },
  {
   "cell_type": "markdown",
   "metadata": {},
   "source": [
    "我們利用上面的範例，接續著執行pooling  \n",
    "* 輸入\n",
    "    * 39x39x3  \n",
    "* conv\n",
    "    * filter\n",
    "        * 3x3\n",
    "        * 10\n",
    "    * padding\n",
    "        * 0\n",
    "    * stride\n",
    "        * 1\n",
    "* 輸出\n",
    "    * (39 + 2\\*0 - 3 ) / 1 + 1 = 37\n",
    "    * 37x37x10\n",
    "* pooling\n",
    "    * filter\n",
    "        * 3x3\n",
    "    * stride\n",
    "        * 2\n",
    "    * padding\n",
    "        * 0\n",
    "* 輸出\n",
    "    * (37 - 3) / 2 + 1 = 18\n",
    "    * 18x18x10\n",
    "    \n",
    "在執行pooling之後可以發現，輸出的尺寸幾乎減半了，也注意到，這邊的filter單純指遮罩尺寸，而非convolution kernel，印象中實作pooling的時候是以迴圈來執行每一個維度的pooling計算，上例來看，因為conv之後是37x37x10，故會迴圈執行10次。"
   ]
  },
  {
   "cell_type": "markdown",
   "metadata": {},
   "source": [
    "## Summary"
   ]
  },
  {
   "cell_type": "markdown",
   "metadata": {},
   "source": [
    "為什麼我們需要利用卷積來計算?直觀來看利用卷積有兩個原因，『權值(參數)共享』與『稀疏連結』，共享的部份可以由一個filter將一個3x3x3計算成一個pixel來理解，卷積透過filter這個學習參數的集合體來計算。稀疏連結則在於這輸出的pixel只跟它相對應的pixel有關，標準神經網路(DNN)中，每一個unit都跟上、下層神經網路的hidden unit相連結，但這情況在CNN中並沒有發生。  \n",
    "\n",
    "稀疏連結：\n",
    "<img src=\"./images/conv4.jpg\" style=\"width:200;height:200;\">   \n",
    "上圖我們可以看的出，輸入點19僅跟輸出16、17有關聯。\n",
    "<img src=\"./images/conv3.jpg\" style=\"width:200;height:200;\">   \n",
    "上圖我們可以看的出，輸出20僅與14、15、19、20有關聯。\n",
    "\n",
    "透過卷積的計算，還可利用可視化的方式來觀察每個filter學習到細節各自為何，執行卷積較為快速的方式就是直接取用已經預訓練好的模型來做transfer learning，這可以減少很多自行建模摸索的時間，對企業導入是一個很好的方向，但是transfter learning對於應用在不同領域的資料集上可能需要做更多的重新訓練，這部份需依實際狀況來調整。  \n",
    "\n",
    "最後，很多CNN的經典架構，如LeNet、AlexNet、VGG、Inception...等，如果有興趣都可以查詢相關論文了解，這是一個了解CNN的不錯方式，提供一個網站[SnailTyan](http://noahsnail.com/2017/07/18/2017-7-18-AlexNet%E8%AE%BA%E6%96%87%E7%BF%BB%E8%AF%91%E2%80%94%E2%80%94%E4%B8%AD%E6%96%87%E7%89%88/)，上面作者有做了很多論文的翻譯以及中英文對照。  \n",
    "\n",
    "這只是一個初淺的說明，動手去實作就會有更深刻的體驗。  \n",
    "Mr.Shaoe"
   ]
  },
  {
   "cell_type": "markdown",
   "metadata": {},
   "source": [
    "## 範例\n",
    "上面我們了解了CNN的基本概念，預計利用CNN來做手寫辨識的範例，以此了解跟DNN所實作的模型效能差異性。"
   ]
  },
  {
   "cell_type": "markdown",
   "metadata": {},
   "source": [
    "在傳統神經網路(MLP)中，我們在訓練模型之前會先將圖片轉置為n維向量，但是在CNN中是不需要的，以mnist為例，它是28x28的一個二值化圖片，在MLP的時候我們會將它轉為28\\x28=784的向量(784, m)，在CNN中，我們會直接以原維度下去訓練。  \n",
    "\n",
    "先import需求套件，並且載入模型，本機內如果沒有資料集的話會從網路直接下載，不用擔心。"
   ]
  },
  {
   "cell_type": "code",
   "execution_count": 1,
   "metadata": {},
   "outputs": [
    {
     "name": "stderr",
     "output_type": "stream",
     "text": [
      "C:\\ProgramData\\Anaconda3\\envs\\tensorflow\\lib\\site-packages\\h5py\\__init__.py:34: FutureWarning: Conversion of the second argument of issubdtype from `float` to `np.floating` is deprecated. In future, it will be treated as `np.float64 == np.dtype(float).type`.\n",
      "  from ._conv import register_converters as _register_converters\n",
      "Using TensorFlow backend.\n"
     ]
    }
   ],
   "source": [
    "#  載入需求套件\n",
    "from keras.datasets import mnist\n",
    "from keras.utils import np_utils\n",
    "from keras.models import Sequential\n",
    "from keras.layers import Dense,Flatten,Conv2D,MaxPool2D\n",
    "from keras.optimizers import SGD\n",
    "import numpy as np\n",
    "import pandas as pd"
   ]
  },
  {
   "cell_type": "code",
   "execution_count": 2,
   "metadata": {
    "collapsed": true
   },
   "outputs": [],
   "source": [
    "#  載入資料集\n",
    "(X_train_original, y_train_original), (X_test_original, y_test_original) = mnist.load_data()"
   ]
  },
  {
   "cell_type": "markdown",
   "metadata": {},
   "source": [
    "資料集載入之後，首要即為確認資料維度，可以確認訓練集有60000，照片維度為28x28，而測試資料集有10000。"
   ]
  },
  {
   "cell_type": "code",
   "execution_count": 3,
   "metadata": {},
   "outputs": [
    {
     "name": "stdout",
     "output_type": "stream",
     "text": [
      "train_data_dimension: (60000, 28, 28)\n",
      "train_data: 60000\n",
      "train_label_dimension: (60000,)\n",
      "test_data: 10000\n",
      "test_label_dimension: (10000,)\n"
     ]
    }
   ],
   "source": [
    "print('train_data_dimension:', X_train_original.shape)\n",
    "print('train_data:', X_train_original.shape[0])\n",
    "print('train_label_dimension:', y_train_original.shape)\n",
    "print('test_data:', X_test_original.shape[0])\n",
    "print('test_label_dimension:', y_test_original.shape)"
   ]
  },
  {
   "cell_type": "markdown",
   "metadata": {},
   "source": [
    "確認維度之後，我們要開始執行資料的前置預處理，主要有三：\n",
    "1. 維度的調整，照片本身為28x28，預計將它調整為28x28x1，這可利用`np.reshape`來達成\n",
    "2. 調整之後的資料統一/255做標準化，將資料縮放至0-1之間\n",
    "3. lable的調整，預計輸出10個類別(0-9)，要將類別轉為one-hot來表示，keras內置工具'np_utils.to_categorical'可協助。\n",
    "\n",
    "在CNN中，究竟是pixel x pixel x channel還是channel x pixel x pixel並沒有一個定論，如果你的bacnend為theano，那就必需以後者為主，如果是tensorflow那就以前者為主。"
   ]
  },
  {
   "cell_type": "code",
   "execution_count": 4,
   "metadata": {
    "collapsed": true
   },
   "outputs": [],
   "source": [
    "#  資料標準化\n",
    "X_train_norm = X_train_original / 255\n",
    "X_test_norm = X_test_original / 255\n",
    "\n",
    "#  資料維度調整\n",
    "X_train = X_train_norm.reshape((X_train_norm.shape[0], X_train_norm.shape[1], X_train_norm.shape[2], 1))\n",
    "X_test = X_test_norm.reshape((X_test_norm.shape[0], X_test_norm.shape[1], X_test_norm.shape[2], 1))\n",
    "\n",
    "#  lable執行one-hot encoder\n",
    "#  參數10代表轉為10個類別\n",
    "y_train = np_utils.to_categorical(y_train_original, 10)\n",
    "y_test = np_utils.to_categorical(y_test_original, 10)"
   ]
  },
  {
   "cell_type": "markdown",
   "metadata": {},
   "source": [
    "調整之後，記得再次的確認目前的資料維度"
   ]
  },
  {
   "cell_type": "code",
   "execution_count": 6,
   "metadata": {},
   "outputs": [
    {
     "name": "stdout",
     "output_type": "stream",
     "text": [
      "train_data_dimension: (60000, 28, 28, 1)\n",
      "test_data_dimension: (10000, 28, 28, 1)\n",
      "train_label_dimension: (60000, 10)\n",
      "test_label_dimension: (10000, 10)\n"
     ]
    }
   ],
   "source": [
    "print('train_data_dimension:', X_train.shape)\n",
    "print('test_data_dimension:', X_test.shape)\n",
    "print('train_label_dimension:', y_train.shape)\n",
    "print('test_label_dimension:', y_test.shape)"
   ]
  },
  {
   "cell_type": "markdown",
   "metadata": {
    "collapsed": true
   },
   "source": [
    "前置預處理對於於DNN還需要平整化是相對簡單，接下來就可以開始組裝模型，keras的開發之初即是希望從業人員可以專注意模型的建立，而不是程式的編寫。\n",
    "\n",
    "預計利用keras來實作LeNet-5做手寫辨識，用著我們從Yann LeCun身上學習到的知識來建置他所開發的模型。\n",
    "\n",
    "LeNet-5的『5』所指為5層，一般來說有權重參數的才會算是一層，故pooling不算，兩層conv，三層fully connect，共計五層。    \n",
    "\n",
    "\n",
    "[LeNet](http://yann.lecun.com/exdb/lenet/)  \n",
    "網站上有著各層提取特徵的可視化"
   ]
  },
  {
   "cell_type": "code",
   "execution_count": 8,
   "metadata": {
    "collapsed": true
   },
   "outputs": [],
   "source": [
    "model = Sequential()\n",
    "\n",
    "#  只有輸入層的部份需要定義input_shape，後續的維度由framework自行展開\n",
    "model.add(Conv2D(filters=6, kernel_size=(5, 5), padding='valid', \n",
    "                input_shape=(28,28,1), activation='tanh'))\n",
    "model.add(MaxPool2D(pool_size=(2, 2)))\n",
    "\n",
    "model.add(Conv2D(filters=16, kernel_size=(5, 5), padding='valid',\n",
    "                 activation='tanh'))\n",
    "model.add(MaxPool2D(pool_size=(2, 2)))\n",
    "\n",
    "#  到這邊，經過兩次pooling已經是變成4x4x16(channel)的大小\n",
    "#  透過Flatten平整之後變成4*4*16=256維的向量\n",
    "model.add(Flatten())\n",
    "#  Flatten之後接上fully connect\n",
    "model.add(Dense(120, activation='tanh'))\n",
    "model.add(Dense(84, activation='tanh'))\n",
    "#  最後是輸出層，因為有10個類別，所以使用sofrmax，並記得neural unit設置為10\n",
    "model.add(Dense(10, activation='softmax'))"
   ]
  },
  {
   "cell_type": "markdown",
   "metadata": {},
   "source": [
    "架構好模型之後，要定義最佳化的方式，這可利用`keras.model.compile`來設置。"
   ]
  },
  {
   "cell_type": "code",
   "execution_count": 9,
   "metadata": {
    "collapsed": true
   },
   "outputs": [],
   "source": [
    "model.compile(loss='categorical_crossentropy',\n",
    "              optimizer=SGD(lr=0.1),\n",
    "              metrics=['accuracy'])"
   ]
  },
  {
   "cell_type": "markdown",
   "metadata": {},
   "source": [
    "可以開始訓練模型了，利用`keras.model.fit`，並設置batch_size與Epochs，訓練期間我們也拆分了20%的資料集做驗證使用。"
   ]
  },
  {
   "cell_type": "code",
   "execution_count": 11,
   "metadata": {
    "scrolled": true
   },
   "outputs": [
    {
     "name": "stdout",
     "output_type": "stream",
     "text": [
      "Train on 48000 samples, validate on 12000 samples\n",
      "Epoch 1/20\n",
      "48000/48000 [==============================] - 29s 601us/step - loss: 0.1509 - acc: 0.9550 - val_loss: 0.1099 - val_acc: 0.9687\n",
      "Epoch 2/20\n",
      "48000/48000 [==============================] - 29s 605us/step - loss: 0.1036 - acc: 0.9687 - val_loss: 0.0925 - val_acc: 0.9713\n",
      "Epoch 3/20\n",
      "48000/48000 [==============================] - 28s 591us/step - loss: 0.0894 - acc: 0.9723 - val_loss: 0.0842 - val_acc: 0.9738\n",
      "Epoch 4/20\n",
      "48000/48000 [==============================] - 29s 602us/step - loss: 0.0764 - acc: 0.9763 - val_loss: 0.0785 - val_acc: 0.9766\n",
      "Epoch 5/20\n",
      "48000/48000 [==============================] - 28s 592us/step - loss: 0.0610 - acc: 0.9813 - val_loss: 0.0658 - val_acc: 0.9799\n",
      "Epoch 6/20\n",
      "48000/48000 [==============================] - 29s 603us/step - loss: 0.0625 - acc: 0.9805 - val_loss: 0.0687 - val_acc: 0.9786\n",
      "Epoch 7/20\n",
      "48000/48000 [==============================] - 29s 608us/step - loss: 0.0508 - acc: 0.9843 - val_loss: 0.0609 - val_acc: 0.9807\n",
      "Epoch 8/20\n",
      "48000/48000 [==============================] - 30s 627us/step - loss: 0.0513 - acc: 0.9841 - val_loss: 0.0547 - val_acc: 0.9838\n",
      "Epoch 9/20\n",
      "48000/48000 [==============================] - 35s 734us/step - loss: 0.0441 - acc: 0.9865 - val_loss: 0.0588 - val_acc: 0.9827\n",
      "Epoch 10/20\n",
      "48000/48000 [==============================] - 32s 675us/step - loss: 0.0389 - acc: 0.9880 - val_loss: 0.0539 - val_acc: 0.9839\n",
      "Epoch 11/20\n",
      "48000/48000 [==============================] - 32s 672us/step - loss: 0.0348 - acc: 0.9894 - val_loss: 0.0546 - val_acc: 0.9836\n",
      "Epoch 12/20\n",
      "48000/48000 [==============================] - 32s 671us/step - loss: 0.0344 - acc: 0.9893 - val_loss: 0.0531 - val_acc: 0.9847\n",
      "Epoch 13/20\n",
      "48000/48000 [==============================] - 31s 644us/step - loss: 0.0305 - acc: 0.9905 - val_loss: 0.0516 - val_acc: 0.9851\n",
      "Epoch 14/20\n",
      "48000/48000 [==============================] - 32s 658us/step - loss: 0.0265 - acc: 0.9920 - val_loss: 0.0492 - val_acc: 0.9857\n",
      "Epoch 15/20\n",
      "48000/48000 [==============================] - 30s 618us/step - loss: 0.0250 - acc: 0.9924 - val_loss: 0.0516 - val_acc: 0.9847\n",
      "Epoch 16/20\n",
      "48000/48000 [==============================] - 30s 625us/step - loss: 0.0250 - acc: 0.9924 - val_loss: 0.0484 - val_acc: 0.9858\n",
      "Epoch 17/20\n",
      "48000/48000 [==============================] - 29s 612us/step - loss: 0.0244 - acc: 0.9930 - val_loss: 0.0507 - val_acc: 0.9857\n",
      "Epoch 18/20\n",
      "48000/48000 [==============================] - 30s 617us/step - loss: 0.0212 - acc: 0.9936 - val_loss: 0.0545 - val_acc: 0.9841\n",
      "Epoch 19/20\n",
      "48000/48000 [==============================] - 32s 662us/step - loss: 0.0187 - acc: 0.9948 - val_loss: 0.0508 - val_acc: 0.9843\n",
      "Epoch 20/20\n",
      "48000/48000 [==============================] - 31s 655us/step - loss: 0.0199 - acc: 0.9940 - val_loss: 0.0512 - val_acc: 0.9846\n"
     ]
    }
   ],
   "source": [
    "history = model.fit(X_train, y_train, batch_size=128, epochs=20,\n",
    "                    validation_split=0.2)"
   ]
  },
  {
   "cell_type": "markdown",
   "metadata": {},
   "source": [
    "下面我們利用圖面來確認模型狀況，請先執行最下方的function，詳見function說明。  \n",
    "看的出來模型本身存在著overfitting的問題，但cost function是有確實的收斂。"
   ]
  },
  {
   "cell_type": "code",
   "execution_count": 19,
   "metadata": {},
   "outputs": [
    {
     "data": {
      "image/png": "[encoded data removed]",
      "text/plain": [
       "<matplotlib.figure.Figure at 0x1a0350b8>"
      ]
     },
     "metadata": {},
     "output_type": "display_data"
    }
   ],
   "source": [
    "model_history_plot(history=history.history, epoch=history.epoch)"
   ]
  },
  {
   "cell_type": "markdown",
   "metadata": {},
   "source": [
    "訓練完畢之後就可以確認模型性能狀況，請先執行最下面的function，相關功能如function說明。"
   ]
  },
  {
   "cell_type": "code",
   "execution_count": 13,
   "metadata": {},
   "outputs": [
    {
     "name": "stdout",
     "output_type": "stream",
     "text": [
      "60000/60000 [==============================] - 24s 394us/step\n",
      "10000/10000 [==============================] - 4s 363us/step\n",
      "60000/60000 [==============================] - 23s 377us/step\n",
      "10000/10000 [==============================] - 4s 388us/step\n"
     ]
    }
   ],
   "source": [
    "#  請先執行最下面的function\n",
    "ds_predict = utils_predict(model, {'X_train':X_train, 'X_test':X_test, 'y_train':y_train, 'y_test':y_test})"
   ]
  },
  {
   "cell_type": "code",
   "execution_count": 15,
   "metadata": {},
   "outputs": [
    {
     "name": "stdout",
     "output_type": "stream",
     "text": [
      "train_score: 0.9923833333333333\n",
      "tes_score: 0.9832\n"
     ]
    }
   ],
   "source": [
    "print('train_score:', ds_predict['train_score'])\n",
    "print('tes_score:', ds_predict['test_score'])"
   ]
  },
  {
   "cell_type": "markdown",
   "metadata": {},
   "source": [
    "透過混肴矩陣可以清楚的看出模型中true label與predict label的相關性，這可利用`pandas.crosstab`來達成，相關的predict label我們記錄在稍早所執行的function所回傳的ds_predict中。"
   ]
  },
  {
   "cell_type": "code",
   "execution_count": 23,
   "metadata": {},
   "outputs": [
    {
     "data": {
      "text/html": [
       "<div>\n",
       "<style>\n",
       "    .dataframe thead tr:only-child th {\n",
       "        text-align: right;\n",
       "    }\n",
       "\n",
       "    .dataframe thead th {\n",
       "        text-align: left;\n",
       "    }\n",
       "\n",
       "    .dataframe tbody tr th {\n",
       "        vertical-align: top;\n",
       "    }\n",
       "</style>\n",
       "<table border=\"1\" class=\"dataframe\">\n",
       "  <thead>\n",
       "    <tr style=\"text-align: right;\">\n",
       "      <th>predict_label</th>\n",
       "      <th>0</th>\n",
       "      <th>1</th>\n",
       "      <th>2</th>\n",
       "      <th>3</th>\n",
       "      <th>4</th>\n",
       "      <th>5</th>\n",
       "      <th>6</th>\n",
       "      <th>7</th>\n",
       "      <th>8</th>\n",
       "      <th>9</th>\n",
       "    </tr>\n",
       "    <tr>\n",
       "      <th>test_label</th>\n",
       "      <th></th>\n",
       "      <th></th>\n",
       "      <th></th>\n",
       "      <th></th>\n",
       "      <th></th>\n",
       "      <th></th>\n",
       "      <th></th>\n",
       "      <th></th>\n",
       "      <th></th>\n",
       "      <th></th>\n",
       "    </tr>\n",
       "  </thead>\n",
       "  <tbody>\n",
       "    <tr>\n",
       "      <th>0</th>\n",
       "      <td>973</td>\n",
       "      <td>1</td>\n",
       "      <td>1</td>\n",
       "      <td>0</td>\n",
       "      <td>0</td>\n",
       "      <td>0</td>\n",
       "      <td>3</td>\n",
       "      <td>2</td>\n",
       "      <td>0</td>\n",
       "      <td>0</td>\n",
       "    </tr>\n",
       "    <tr>\n",
       "      <th>1</th>\n",
       "      <td>0</td>\n",
       "      <td>1125</td>\n",
       "      <td>1</td>\n",
       "      <td>3</td>\n",
       "      <td>0</td>\n",
       "      <td>0</td>\n",
       "      <td>4</td>\n",
       "      <td>0</td>\n",
       "      <td>2</td>\n",
       "      <td>0</td>\n",
       "    </tr>\n",
       "    <tr>\n",
       "      <th>2</th>\n",
       "      <td>1</td>\n",
       "      <td>1</td>\n",
       "      <td>1023</td>\n",
       "      <td>0</td>\n",
       "      <td>2</td>\n",
       "      <td>0</td>\n",
       "      <td>0</td>\n",
       "      <td>1</td>\n",
       "      <td>3</td>\n",
       "      <td>1</td>\n",
       "    </tr>\n",
       "    <tr>\n",
       "      <th>3</th>\n",
       "      <td>0</td>\n",
       "      <td>0</td>\n",
       "      <td>3</td>\n",
       "      <td>997</td>\n",
       "      <td>0</td>\n",
       "      <td>5</td>\n",
       "      <td>0</td>\n",
       "      <td>0</td>\n",
       "      <td>0</td>\n",
       "      <td>5</td>\n",
       "    </tr>\n",
       "    <tr>\n",
       "      <th>4</th>\n",
       "      <td>0</td>\n",
       "      <td>0</td>\n",
       "      <td>0</td>\n",
       "      <td>0</td>\n",
       "      <td>971</td>\n",
       "      <td>0</td>\n",
       "      <td>4</td>\n",
       "      <td>0</td>\n",
       "      <td>1</td>\n",
       "      <td>6</td>\n",
       "    </tr>\n",
       "    <tr>\n",
       "      <th>5</th>\n",
       "      <td>1</td>\n",
       "      <td>0</td>\n",
       "      <td>1</td>\n",
       "      <td>3</td>\n",
       "      <td>0</td>\n",
       "      <td>881</td>\n",
       "      <td>3</td>\n",
       "      <td>1</td>\n",
       "      <td>1</td>\n",
       "      <td>1</td>\n",
       "    </tr>\n",
       "    <tr>\n",
       "      <th>6</th>\n",
       "      <td>2</td>\n",
       "      <td>2</td>\n",
       "      <td>0</td>\n",
       "      <td>0</td>\n",
       "      <td>4</td>\n",
       "      <td>4</td>\n",
       "      <td>945</td>\n",
       "      <td>0</td>\n",
       "      <td>1</td>\n",
       "      <td>0</td>\n",
       "    </tr>\n",
       "    <tr>\n",
       "      <th>7</th>\n",
       "      <td>1</td>\n",
       "      <td>3</td>\n",
       "      <td>14</td>\n",
       "      <td>6</td>\n",
       "      <td>2</td>\n",
       "      <td>2</td>\n",
       "      <td>0</td>\n",
       "      <td>990</td>\n",
       "      <td>2</td>\n",
       "      <td>8</td>\n",
       "    </tr>\n",
       "    <tr>\n",
       "      <th>8</th>\n",
       "      <td>3</td>\n",
       "      <td>1</td>\n",
       "      <td>4</td>\n",
       "      <td>3</td>\n",
       "      <td>0</td>\n",
       "      <td>1</td>\n",
       "      <td>1</td>\n",
       "      <td>4</td>\n",
       "      <td>955</td>\n",
       "      <td>2</td>\n",
       "    </tr>\n",
       "    <tr>\n",
       "      <th>9</th>\n",
       "      <td>2</td>\n",
       "      <td>3</td>\n",
       "      <td>0</td>\n",
       "      <td>4</td>\n",
       "      <td>13</td>\n",
       "      <td>4</td>\n",
       "      <td>2</td>\n",
       "      <td>6</td>\n",
       "      <td>3</td>\n",
       "      <td>972</td>\n",
       "    </tr>\n",
       "  </tbody>\n",
       "</table>\n",
       "</div>"
      ],
      "text/plain": [
       "predict_label    0     1     2    3    4    5    6    7    8    9\n",
       "test_label                                                       \n",
       "0              973     1     1    0    0    0    3    2    0    0\n",
       "1                0  1125     1    3    0    0    4    0    2    0\n",
       "2                1     1  1023    0    2    0    0    1    3    1\n",
       "3                0     0     3  997    0    5    0    0    0    5\n",
       "4                0     0     0    0  971    0    4    0    1    6\n",
       "5                1     0     1    3    0  881    3    1    1    1\n",
       "6                2     2     0    0    4    4  945    0    1    0\n",
       "7                1     3    14    6    2    2    0  990    2    8\n",
       "8                3     1     4    3    0    1    1    4  955    2\n",
       "9                2     3     0    4   13    4    2    6    3  972"
      ]
     },
     "execution_count": 23,
     "metadata": {},
     "output_type": "execute_result"
    }
   ],
   "source": [
    "pd.crosstab(y_test_original, ds_predict['test_predict'], rownames=['test_label'], colnames=['predict_label'])"
   ]
  },
  {
   "cell_type": "markdown",
   "metadata": {},
   "source": [
    "最後，我們可以利用遮罩來單純的檢視判斷錯誤的部份，這有利於調整模型，以此判斷究竟是資料集本身的問題還是模型的問題，該如何調整overfitting..等問題。\n",
    "\n",
    "執行之前請記得先執行最下面的function"
   ]
  },
  {
   "cell_type": "code",
   "execution_count": 25,
   "metadata": {
    "collapsed": true
   },
   "outputs": [],
   "source": [
    "#  先設置遮罩\n",
    "mask_train = y_train_original != ds_predict['train_predict']\n",
    "mask_test = y_test_original != ds_predict['test_predict']"
   ]
  },
  {
   "cell_type": "code",
   "execution_count": 26,
   "metadata": {},
   "outputs": [
    {
     "name": "stdout",
     "output_type": "stream",
     "text": [
      "train_error_count: 457\n",
      "test_error_count: 168\n"
     ]
    }
   ],
   "source": [
    "#  確認錯誤筆數\n",
    "print('train_error_count:', y_train_original[mask_train].shape[0])\n",
    "print('test_error_count:', y_test_original[mask_test].shape[0])"
   ]
  },
  {
   "cell_type": "code",
   "execution_count": 36,
   "metadata": {},
   "outputs": [
    {
     "data": {
      "image/png": "[encoded data removed]",
      "text/plain": [
       "<matplotlib.figure.Figure at 0x1bb81b38>"
      ]
     },
     "metadata": {},
     "output_type": "display_data"
    }
   ],
   "source": [
    "plt_image(X_train_original[mask_train], y_train_original[mask_train], predict_labels=ds_predict['train_predict'][mask_train],\n",
    "          idx_start=0, idx_batch_size=10, fig_size='small')"
   ]
  },
  {
   "cell_type": "markdown",
   "metadata": {},
   "source": [
    "以下為自己寫的function，請先執行。"
   ]
  },
  {
   "cell_type": "code",
   "execution_count": 12,
   "metadata": {
    "collapsed": true
   },
   "outputs": [],
   "source": [
    "def utils_predict(model, datasets, evaluate=True, need_prob=False):\n",
    "    \"\"\"\n",
    "    keras預測之後回傳為概率，透過此function可轉為類別\n",
    "    再依需求調控是否回傳概率與模型效能評估\n",
    "    \n",
    "    model:keras.model，訓練之後的模型\n",
    "    datasets:資料集，格式為dict，索引名稱必需為X_train, X_test, y_train, y_test\n",
    "        datasets:\n",
    "            'X_train':train_dataset\n",
    "            'X_test':test_dataset\n",
    "            'y_train':train_label\n",
    "            'y_test':test_label\n",
    "    evaluate:是否執行model.evaluate，如果是，那資料集就必需有y_train與y_test\n",
    "    need_prob:是否回傳概率\n",
    "    \n",
    "    return datasets\n",
    "        預測類別：\n",
    "            train_predict, test_predict\n",
    "        預測概率：\n",
    "            train_predict_prob, test_predict_prob\n",
    "        模型評估：\n",
    "            train_score, test_score\n",
    "        \n",
    "    datasets:dict    \n",
    "    \"\"\"\n",
    "    train_dataset = datasets['X_train']\n",
    "    test_dataset = datasets['X_test']\n",
    "    \n",
    "    train_prob = model.predict(train_dataset, verbose=1)\n",
    "    test_prob = model.predict(test_dataset, verbose=1)\n",
    "    \n",
    "    train_labels = train_prob.argmax(axis=-1)\n",
    "    test_labels = test_prob.argmax(axis=-1)\n",
    "    \n",
    "    datasets['train_predict'] = train_labels\n",
    "    datasets['test_predict'] = test_labels\n",
    "    \n",
    "    if evaluate:\n",
    "        scores_train = model.evaluate(X_train, y_train)\n",
    "        scores_test = model.evaluate(X_test, y_test)\n",
    "        datasets['train_score'] = scores_train[1]\n",
    "        datasets['test_score'] = scores_test[1]\n",
    "        \n",
    "    if need_prob:\n",
    "        datasets['train_predict_prob'] = train_prob\n",
    "        datasets['test_predict_prob'] = test_prob\n",
    "        \n",
    "    \n",
    "    return datasets"
   ]
  },
  {
   "cell_type": "code",
   "execution_count": 18,
   "metadata": {
    "collapsed": true
   },
   "outputs": [],
   "source": [
    "#  產生圖面(acc，val)\n",
    "import matplotlib.pyplot as plt\n",
    "def model_history_plot(history, epoch):\n",
    "    \"\"\"\n",
    "    history:訓練記錄，為keras.History.history\n",
    "    epoch:迭代次數，為keras.History.epoch\n",
    "    \n",
    "    首先判斷物件長度是否為4，如果是那代表有啟用驗證資料集，若為2，就代表只有訓練資料集。\n",
    "    \"\"\"\n",
    "    #  用以判斷是否有驗證資料集，如果dict長度為4則賦值為True\n",
    "    val = False\n",
    "    \n",
    "    if len(history)==4:\n",
    "        val = True\n",
    "        val_acc = history['val_acc']\n",
    "        val_loss = history['val_loss']\n",
    "        \n",
    "    acc = history['acc']\n",
    "    loss = history['loss']\n",
    "       \n",
    "    #  設置圖表\n",
    "    plt.figure(figsize=(16,9))\n",
    "    \n",
    "    #  準確度_acc\n",
    "    plt.subplot(121)\n",
    "    plt.xlabel('epoch')\n",
    "    plt.ylabel('acc')\n",
    "    plt.xlim(min(epoch), max(epoch)+1)\n",
    "    plt.plot(epoch, acc, label='train_acc')\n",
    "    \n",
    "    if val:\n",
    "        plt.plot(epoch, val_acc, label='val_cc')\n",
    "    plt.legend(loc='best')\n",
    "    \n",
    "    #  訓練成本_loss\n",
    "    plt.subplot(122)    \n",
    "    plt.xlabel('epoch')\n",
    "    plt.ylabel('loss')\n",
    "    plt.xlim(min(epoch), max(epoch)+1)\n",
    "    plt.plot(epoch, loss, label='train_loss')\n",
    "    \n",
    "    if val:\n",
    "        plt.plot(epoch, val_loss, label='val_loss')            \n",
    "    plt.legend(loc='best')\n",
    "    \n",
    "    plt.tight_layout()\n",
    "    plt.show()"
   ]
  },
  {
   "cell_type": "code",
   "execution_count": 32,
   "metadata": {
    "collapsed": true
   },
   "outputs": [],
   "source": [
    "import math\n",
    "\n",
    "def plt_image(images, labels, predict_labels=[], idx_start=0, idx_batch_size=10, cel_num=5, fig_size='big'):\n",
    "    \"\"\"\n",
    "    images:來源照片(x)\n",
    "    labels：來源照片類別(y)\n",
    "    predict_labels:預測照片類別\n",
    "    idx_start:起始索引\n",
    "        預設為0\n",
    "    idx_batch_size:每次讀取量\n",
    "        預設為10\n",
    "    cel_num:每row顯示幾張照片\n",
    "        預設為5\n",
    "    fig_size:figure.figsize設置\n",
    "        big:16,9\n",
    "        middle:12,7\n",
    "        small:8,4\n",
    "        \n",
    "    當每次讀取批量>20的時候會以20取值\n",
    "    如果照片想要大點來看，就必需將cel_num設置小一點，然後設置size為big或是middle\n",
    "    \"\"\"\n",
    "    #  判斷索引值是否超過10，若超過20則idx_batch_size重新賦值\n",
    "    if idx_batch_size > 20:\n",
    "        idx_batch_size = 20   \n",
    "    \n",
    "    rows = int(math.ceil(idx_batch_size / cel_num))\n",
    "    \n",
    "    if fig_size=='big':\n",
    "        _size=(16, 9)\n",
    "    elif fig_size=='middle':\n",
    "        _size=(12, 7)\n",
    "    elif fig_size=='small':\n",
    "        _size=(8, 4)\n",
    "        \n",
    "    #  設置圖表尺寸\n",
    "    plt.figure(figsize=(_size))\n",
    "    for i in range(idx_batch_size): \n",
    "        ax = plt.subplot(rows,cel_num,i+1)\n",
    "        #  取消x、y軸的刻度\n",
    "        plt.xticks(())        \n",
    "        plt.yticks(())\n",
    "        #  設置x軸的label為\n",
    "        ax.set_xlabel('True labels:' + str(labels[idx_start]) + ',idx:' + str(idx_start))\n",
    "        #  如果predict_labls不是空值，那就帶入資料\n",
    "        if len(predict_labels)>0:            \n",
    "            ax.set_title('Predict labels:' + str(predict_labels[idx_start]))\n",
    "        ax.imshow(images[idx_start])\n",
    "        #  換下一筆\n",
    "        idx_start += 1        \n",
    "         \n",
    "    #  確保資料呈現正常    \n",
    "    plt.tight_layout()    \n",
    "    plt.show()        "
   ]
  }
 ],
 "metadata": {
  "kernelspec": {
   "display_name": "Python 3",
   "language": "python",
   "name": "python3"
  },
  "language_info": {
   "codemirror_mode": {
    "name": "ipython",
    "version": 3
   },
   "file_extension": ".py",
   "mimetype": "text/x-python",
   "name": "python",
   "nbconvert_exporter": "python",
   "pygments_lexer": "ipython3",
   "version": "3.6.1"
  }
 },
 "nbformat": 4,
 "nbformat_minor": 2
}
