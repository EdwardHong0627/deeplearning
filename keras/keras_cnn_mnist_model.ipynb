{
 "cells": [
  {
   "cell_type": "markdown",
   "metadata": {},
   "source": [
    "## 範例\n",
    "在『[keras_cnn_mnist](https://github.com/shaoeChen/deeplearning/blob/master/keras/keras_cnn_mnist.ipynb)』中，我們利用了`keras.models.Sequential`建置模型，這邊我們練習透過`keras.models.Model`來建置。  \n",
    "整體流程來說，資料預處理與最後的最佳化設置是相同的，唯一模型建置上我們會設置一個function，並在function內建置好模型之後回傳物件"
   ]
  },
  {
   "cell_type": "code",
   "execution_count": 6,
   "metadata": {
    "collapsed": true
   },
   "outputs": [],
   "source": [
    "#  載入需求套件\n",
    "from keras.datasets import mnist\n",
    "from keras.utils import np_utils\n",
    "from keras.models import Model\n",
    "from keras.layers import Dense,Flatten,Conv2D,MaxPool2D,Input\n",
    "from keras.optimizers import SGD\n",
    "import numpy as np\n",
    "import pandas as pd"
   ]
  },
  {
   "cell_type": "code",
   "execution_count": 10,
   "metadata": {
    "collapsed": true
   },
   "outputs": [],
   "source": [
    "#  載入資料集\n",
    "(X_train_original, y_train_original), (X_test_original, y_test_original) = mnist.load_data()"
   ]
  },
  {
   "cell_type": "markdown",
   "metadata": {},
   "source": [
    "資料集載入之後，首要即為確認資料維度，可以確認訓練集有60000，照片維度為28x28，而測試資料集有10000。"
   ]
  },
  {
   "cell_type": "code",
   "execution_count": 12,
   "metadata": {},
   "outputs": [
    {
     "name": "stdout",
     "output_type": "stream",
     "text": [
      "train_data_dimension: (60000, 28, 28)\n",
      "train_data: 60000\n",
      "train_label_dimension: (60000,)\n",
      "test_data: 10000\n",
      "test_label_dimension: (10000,)\n"
     ]
    }
   ],
   "source": [
    "print('train_data_dimension:', X_train_original.shape)\n",
    "print('train_data:', X_train_original.shape[0])\n",
    "print('train_label_dimension:', y_train_original.shape)\n",
    "print('test_data:', X_test_original.shape[0])\n",
    "print('test_label_dimension:', y_test_original.shape)"
   ]
  },
  {
   "cell_type": "markdown",
   "metadata": {},
   "source": [
    "確認維度之後，我們要開始執行資料的前置預處理，主要有三：\n",
    "1. 維度的調整，照片本身為28x28，預計將它調整為28x28x1，這可利用`np.reshape`來達成\n",
    "2. 調整之後的資料統一/255做標準化，將資料縮放至0-1之間\n",
    "3. lable的調整，預計輸出10個類別(0-9)，要將類別轉為one-hot來表示，keras內置工具'np_utils.to_categorical'可協助。\n",
    "\n",
    "在CNN中，究竟是pixel x pixel x channel還是channel x pixel x pixel並沒有一個定論，如果你的bacnend為theano，那就必需以後者為主，如果是tensorflow那就以前者為主。"
   ]
  },
  {
   "cell_type": "code",
   "execution_count": 13,
   "metadata": {
    "collapsed": true
   },
   "outputs": [],
   "source": [
    "#  資料標準化\n",
    "X_train_norm = X_train_original / 255\n",
    "X_test_norm = X_test_original / 255\n",
    "\n",
    "#  資料維度調整\n",
    "X_train = X_train_norm.reshape((X_train_norm.shape[0], X_train_norm.shape[1], X_train_norm.shape[2], 1))\n",
    "X_test = X_test_norm.reshape((X_test_norm.shape[0], X_test_norm.shape[1], X_test_norm.shape[2], 1))\n",
    "\n",
    "#  lable執行one-hot encoder\n",
    "#  參數10代表轉為10個類別\n",
    "y_train = np_utils.to_categorical(y_train_original, 10)\n",
    "y_test = np_utils.to_categorical(y_test_original, 10)"
   ]
  },
  {
   "cell_type": "markdown",
   "metadata": {},
   "source": [
    "調整之後，記得再次的確認目前的資料維度"
   ]
  },
  {
   "cell_type": "code",
   "execution_count": 14,
   "metadata": {},
   "outputs": [
    {
     "name": "stdout",
     "output_type": "stream",
     "text": [
      "train_data_dimension: (60000, 28, 28, 1)\n",
      "test_data_dimension: (10000, 28, 28, 1)\n",
      "train_label_dimension: (60000, 10)\n",
      "test_label_dimension: (10000, 10)\n"
     ]
    }
   ],
   "source": [
    "print('train_data_dimension:', X_train.shape)\n",
    "print('test_data_dimension:', X_test.shape)\n",
    "print('train_label_dimension:', y_train.shape)\n",
    "print('test_label_dimension:', y_test.shape)"
   ]
  },
  {
   "cell_type": "markdown",
   "metadata": {},
   "source": [
    "前置預處理對於於DNN還需要平整化是相對簡單，接下來就可以開始組裝模型，keras的開發之初即是希望從業人員可以專注意模型的建立，而不是程式的編寫。\n",
    "\n",
    "預計利用keras來實作LeNet-5做手寫辨識，用著我們從Yann LeCun身上學習到的知識來建置他所開發的模型。\n",
    "\n",
    "LeNet-5的『5』所指為5層，一般來說有權重參數的才會算是一層，故pooling不算，兩層conv，三層fully connect，共計五層。    \n",
    "\n",
    "\n",
    "[LeNet](http://yann.lecun.com/exdb/lenet/)  \n",
    "網站上有著各層提取特徵的可視化"
   ]
  },
  {
   "cell_type": "markdown",
   "metadata": {},
   "source": [
    "下面，我們建立一個function，參數為輸入的dimension與預測類別的數量，最後回傳物件model，更詳細的說明可見[官方文件](https://keras.io/zh/getting-started/functional-api-guide/#_1)  "
   ]
  },
  {
   "cell_type": "code",
   "execution_count": 16,
   "metadata": {
    "collapsed": true
   },
   "outputs": [],
   "source": [
    "def LeNet_5(input_shape, output_class):\n",
    "    input_shape = Input(shape=(input_shape))\n",
    "    X = Conv2D(filters=6, kernel_size=(5, 5), padding='valid', activation='tanh', name='Conv_1')(input_shape)\n",
    "    X = MaxPool2D(pool_size=(2, 2), name='MaxPool_1')(X)\n",
    "    X = Conv2D(filters=16, kernel_size=(5, 5), padding='valid', activation='tanh', name='Conv_2')(X)\n",
    "    X = MaxPool2D(pool_size=(2, 2), name='MaxPool_2')(X)\n",
    "    X = Flatten(name='Flatten_1')(X)\n",
    "    X = Dense(120, activation='tanh', name='Fully_Connected_1')(X)\n",
    "    X = Dense(84, activation='tanh', name='Fully_Connected_2')(X)\n",
    "    output = Dense(output_class, activation='softmax', name='Output_softmax')(X)\n",
    "    \n",
    "    model = Model(inputs = input_shape, outputs=output, name='LeNet_5')\n",
    "    return model"
   ]
  },
  {
   "cell_type": "markdown",
   "metadata": {},
   "source": [
    "又或許，你也不一定要以function的方式來執行，這部份依實務需求調整即可    \n",
    "```python\n",
    "input_shape = Input(shape=(input_shape))\n",
    "X = Conv2D(filters=6, kernel_size=(5, 5), padding='valid', activation='tanh', name='Conv_1')(input_shape)\n",
    "X = MaxPool2D(pool_size=(2, 2), name='MaxPool_1')(X)\n",
    "X = Conv2D(filters=16, kernel_size=(5, 5), padding='valid', activation='tanh', name='Conv_2')(X)\n",
    "X = MaxPool2D(pool_size=(2, 2), name='MaxPool_2')(X)\n",
    "X = Flatten(name='Flatten_1')(X)\n",
    "X = Dense(120, activation='tanh', name='Fully_Connected_1')(X)\n",
    "X = Dense(84, activation='tanh', name='Fully_Connected_2')(X)\n",
    "output = Dense(output_class, activation='softmax', name='Output_softmax')(X)\n",
    "\n",
    "model = Model(inputs = input_shape, outputs=output, name='LeNet_5')\n",
    "```"
   ]
  },
  {
   "cell_type": "code",
   "execution_count": 18,
   "metadata": {},
   "outputs": [
    {
     "data": {
      "text/plain": [
       "(28, 28, 1)"
      ]
     },
     "execution_count": 18,
     "metadata": {},
     "output_type": "execute_result"
    }
   ],
   "source": [
    "input_shape = (X_train.shape[1], X_train.shape[2], X_train.shape[3])\n",
    "input_shape"
   ]
  },
  {
   "cell_type": "code",
   "execution_count": 19,
   "metadata": {
    "collapsed": true
   },
   "outputs": [],
   "source": [
    "model = LeNet_5(input_shape=input_shape, output_class=y_train.shape[1])"
   ]
  },
  {
   "cell_type": "code",
   "execution_count": 22,
   "metadata": {},
   "outputs": [
    {
     "name": "stdout",
     "output_type": "stream",
     "text": [
      "_________________________________________________________________\n",
      "Layer (type)                 Output Shape              Param #   \n",
      "=================================================================\n",
      "input_1 (InputLayer)         (None, 28, 28, 1)         0         \n",
      "_________________________________________________________________\n",
      "Conv_1 (Conv2D)              (None, 24, 24, 6)         156       \n",
      "_________________________________________________________________\n",
      "MaxPool_1 (MaxPooling2D)     (None, 12, 12, 6)         0         \n",
      "_________________________________________________________________\n",
      "Conv_2 (Conv2D)              (None, 8, 8, 16)          2416      \n",
      "_________________________________________________________________\n",
      "MaxPool_2 (MaxPooling2D)     (None, 4, 4, 16)          0         \n",
      "_________________________________________________________________\n",
      "Flatten_1 (Flatten)          (None, 256)               0         \n",
      "_________________________________________________________________\n",
      "Fully_Connected_1 (Dense)    (None, 120)               30840     \n",
      "_________________________________________________________________\n",
      "Fully_Connected_2 (Dense)    (None, 84)                10164     \n",
      "_________________________________________________________________\n",
      "Output_softmax (Dense)       (None, 10)                850       \n",
      "=================================================================\n",
      "Total params: 44,426\n",
      "Trainable params: 44,426\n",
      "Non-trainable params: 0\n",
      "_________________________________________________________________\n"
     ]
    }
   ],
   "source": [
    "#  確認模型架構\n",
    "model.summary()"
   ]
  },
  {
   "cell_type": "markdown",
   "metadata": {},
   "source": [
    "架構好模型之後，要定義最佳化的方式，這可利用`keras.model.compile`來設置。"
   ]
  },
  {
   "cell_type": "code",
   "execution_count": 23,
   "metadata": {
    "collapsed": true
   },
   "outputs": [],
   "source": [
    "model.compile(loss='categorical_crossentropy',\n",
    "              optimizer=SGD(lr=0.1),\n",
    "              metrics=['accuracy'])"
   ]
  },
  {
   "cell_type": "markdown",
   "metadata": {},
   "source": [
    "可以開始訓練模型了，利用`keras.model.fit`，並設置batch_size與Epochs，訓練期間我們也拆分了20%的資料集做驗證使用。"
   ]
  },
  {
   "cell_type": "code",
   "execution_count": 24,
   "metadata": {},
   "outputs": [
    {
     "name": "stdout",
     "output_type": "stream",
     "text": [
      "Train on 48000 samples, validate on 12000 samples\n",
      "Epoch 1/20\n",
      "48000/48000 [==============================] - 30s 619us/step - loss: 0.3840 - acc: 0.8951 - val_loss: 0.1587 - val_acc: 0.9558\n",
      "Epoch 2/20\n",
      "48000/48000 [==============================] - 29s 607us/step - loss: 0.1280 - acc: 0.9635 - val_loss: 0.1027 - val_acc: 0.9705\n",
      "Epoch 3/20\n",
      "48000/48000 [==============================] - 29s 604us/step - loss: 0.0872 - acc: 0.9749 - val_loss: 0.0810 - val_acc: 0.9753\n",
      "Epoch 4/20\n",
      "48000/48000 [==============================] - 29s 596us/step - loss: 0.0692 - acc: 0.9799 - val_loss: 0.0711 - val_acc: 0.9792\n",
      "Epoch 5/20\n",
      "48000/48000 [==============================] - 28s 590us/step - loss: 0.0570 - acc: 0.9832 - val_loss: 0.0630 - val_acc: 0.9817\n",
      "Epoch 6/20\n",
      "48000/48000 [==============================] - 28s 585us/step - loss: 0.0494 - acc: 0.9851 - val_loss: 0.0583 - val_acc: 0.9829\n",
      "Epoch 7/20\n",
      "48000/48000 [==============================] - 28s 593us/step - loss: 0.0434 - acc: 0.9871 - val_loss: 0.0591 - val_acc: 0.9824\n",
      "Epoch 8/20\n",
      "48000/48000 [==============================] - 28s 589us/step - loss: 0.0385 - acc: 0.9883 - val_loss: 0.0548 - val_acc: 0.9844\n",
      "Epoch 9/20\n",
      "48000/48000 [==============================] - 28s 589us/step - loss: 0.0349 - acc: 0.9896 - val_loss: 0.0515 - val_acc: 0.9846\n",
      "Epoch 10/20\n",
      "48000/48000 [==============================] - 29s 596us/step - loss: 0.0314 - acc: 0.9906 - val_loss: 0.0500 - val_acc: 0.9850\n",
      "Epoch 11/20\n",
      "48000/48000 [==============================] - 29s 614us/step - loss: 0.0281 - acc: 0.9917 - val_loss: 0.0535 - val_acc: 0.9848\n",
      "Epoch 12/20\n",
      "48000/48000 [==============================] - 29s 614us/step - loss: 0.0255 - acc: 0.9926 - val_loss: 0.0508 - val_acc: 0.9855\n",
      "Epoch 13/20\n",
      "48000/48000 [==============================] - 29s 608us/step - loss: 0.0232 - acc: 0.9933 - val_loss: 0.0478 - val_acc: 0.9868\n",
      "Epoch 14/20\n",
      "48000/48000 [==============================] - 28s 590us/step - loss: 0.0207 - acc: 0.9946 - val_loss: 0.0466 - val_acc: 0.9870\n",
      "Epoch 15/20\n",
      "48000/48000 [==============================] - 28s 593us/step - loss: 0.0190 - acc: 0.9950 - val_loss: 0.0461 - val_acc: 0.9867\n",
      "Epoch 16/20\n",
      "48000/48000 [==============================] - 30s 629us/step - loss: 0.0178 - acc: 0.9954 - val_loss: 0.0460 - val_acc: 0.9864\n",
      "Epoch 17/20\n",
      "48000/48000 [==============================] - 32s 677us/step - loss: 0.0156 - acc: 0.9962 - val_loss: 0.0450 - val_acc: 0.9869\n",
      "Epoch 18/20\n",
      "48000/48000 [==============================] - 30s 618us/step - loss: 0.0144 - acc: 0.9964 - val_loss: 0.0453 - val_acc: 0.9867\n",
      "Epoch 19/20\n",
      "48000/48000 [==============================] - 30s 617us/step - loss: 0.0134 - acc: 0.9969 - val_loss: 0.0446 - val_acc: 0.9870\n",
      "Epoch 20/20\n",
      "48000/48000 [==============================] - 30s 620us/step - loss: 0.0121 - acc: 0.9973 - val_loss: 0.0457 - val_acc: 0.9863\n"
     ]
    }
   ],
   "source": [
    "history = model.fit(X_train, y_train, batch_size=128, epochs=20,\n",
    "                    validation_split=0.2)"
   ]
  },
  {
   "cell_type": "markdown",
   "metadata": {},
   "source": [
    "下面我們利用圖面來確認模型狀況，請先執行最下方的function，詳見function說明。  \n",
    "看的出來模型本身存在著overfitting的問題，但cost function是有確實的收斂。"
   ]
  },
  {
   "cell_type": "code",
   "execution_count": 29,
   "metadata": {},
   "outputs": [
    {
     "data": {
      "image/png": "[encoded data removed]",
      "text/plain": [
       "<matplotlib.figure.Figure at 0x1bca1c88>"
      ]
     },
     "metadata": {},
     "output_type": "display_data"
    }
   ],
   "source": [
    "model_history_plot(history=history.history, epoch=history.epoch)"
   ]
  },
  {
   "cell_type": "markdown",
   "metadata": {},
   "source": [
    "訓練完畢之後就可以確認模型性能狀況，"
   ]
  },
  {
   "cell_type": "code",
   "execution_count": 30,
   "metadata": {},
   "outputs": [
    {
     "name": "stdout",
     "output_type": "stream",
     "text": [
      "60000/60000 [==============================] - 21s 354us/step\n",
      "10000/10000 [==============================] - 4s 380us/step\n",
      "60000/60000 [==============================] - 22s 366us/step\n",
      "10000/10000 [==============================] - 4s 364us/step\n"
     ]
    }
   ],
   "source": [
    "#  請先執行最下面的function\n",
    "ds_predict = utils_predict(model, {'X_train':X_train, 'X_test':X_test, 'y_train':y_train, 'y_test':y_test})"
   ]
  },
  {
   "cell_type": "code",
   "execution_count": 31,
   "metadata": {},
   "outputs": [
    {
     "name": "stdout",
     "output_type": "stream",
     "text": [
      "train_score: 0.9954666666666667\n",
      "tes_score: 0.9891\n"
     ]
    }
   ],
   "source": [
    "print('train_score:', ds_predict['train_score'])\n",
    "print('tes_score:', ds_predict['test_score'])"
   ]
  },
  {
   "cell_type": "markdown",
   "metadata": {},
   "source": [
    "透過混肴矩陣可以清楚的看出模型中true label與predict label的相關性，這可利用pandas.crosstab來達成，相關的predict label我們記錄在稍早所執行的function所回傳的ds_predict中。"
   ]
  },
  {
   "cell_type": "code",
   "execution_count": 32,
   "metadata": {},
   "outputs": [
    {
     "data": {
      "text/html": [
       "<div>\n",
       "<style>\n",
       "    .dataframe thead tr:only-child th {\n",
       "        text-align: right;\n",
       "    }\n",
       "\n",
       "    .dataframe thead th {\n",
       "        text-align: left;\n",
       "    }\n",
       "\n",
       "    .dataframe tbody tr th {\n",
       "        vertical-align: top;\n",
       "    }\n",
       "</style>\n",
       "<table border=\"1\" class=\"dataframe\">\n",
       "  <thead>\n",
       "    <tr style=\"text-align: right;\">\n",
       "      <th>predict_label</th>\n",
       "      <th>0</th>\n",
       "      <th>1</th>\n",
       "      <th>2</th>\n",
       "      <th>3</th>\n",
       "      <th>4</th>\n",
       "      <th>5</th>\n",
       "      <th>6</th>\n",
       "      <th>7</th>\n",
       "      <th>8</th>\n",
       "      <th>9</th>\n",
       "    </tr>\n",
       "    <tr>\n",
       "      <th>test_label</th>\n",
       "      <th></th>\n",
       "      <th></th>\n",
       "      <th></th>\n",
       "      <th></th>\n",
       "      <th></th>\n",
       "      <th></th>\n",
       "      <th></th>\n",
       "      <th></th>\n",
       "      <th></th>\n",
       "      <th></th>\n",
       "    </tr>\n",
       "  </thead>\n",
       "  <tbody>\n",
       "    <tr>\n",
       "      <th>0</th>\n",
       "      <td>976</td>\n",
       "      <td>0</td>\n",
       "      <td>1</td>\n",
       "      <td>0</td>\n",
       "      <td>0</td>\n",
       "      <td>0</td>\n",
       "      <td>2</td>\n",
       "      <td>1</td>\n",
       "      <td>0</td>\n",
       "      <td>0</td>\n",
       "    </tr>\n",
       "    <tr>\n",
       "      <th>1</th>\n",
       "      <td>0</td>\n",
       "      <td>1133</td>\n",
       "      <td>1</td>\n",
       "      <td>0</td>\n",
       "      <td>0</td>\n",
       "      <td>0</td>\n",
       "      <td>1</td>\n",
       "      <td>0</td>\n",
       "      <td>0</td>\n",
       "      <td>0</td>\n",
       "    </tr>\n",
       "    <tr>\n",
       "      <th>2</th>\n",
       "      <td>1</td>\n",
       "      <td>3</td>\n",
       "      <td>1022</td>\n",
       "      <td>0</td>\n",
       "      <td>2</td>\n",
       "      <td>0</td>\n",
       "      <td>0</td>\n",
       "      <td>4</td>\n",
       "      <td>0</td>\n",
       "      <td>0</td>\n",
       "    </tr>\n",
       "    <tr>\n",
       "      <th>3</th>\n",
       "      <td>0</td>\n",
       "      <td>0</td>\n",
       "      <td>2</td>\n",
       "      <td>997</td>\n",
       "      <td>0</td>\n",
       "      <td>4</td>\n",
       "      <td>0</td>\n",
       "      <td>2</td>\n",
       "      <td>2</td>\n",
       "      <td>3</td>\n",
       "    </tr>\n",
       "    <tr>\n",
       "      <th>4</th>\n",
       "      <td>0</td>\n",
       "      <td>0</td>\n",
       "      <td>1</td>\n",
       "      <td>0</td>\n",
       "      <td>975</td>\n",
       "      <td>0</td>\n",
       "      <td>3</td>\n",
       "      <td>0</td>\n",
       "      <td>0</td>\n",
       "      <td>3</td>\n",
       "    </tr>\n",
       "    <tr>\n",
       "      <th>5</th>\n",
       "      <td>2</td>\n",
       "      <td>0</td>\n",
       "      <td>0</td>\n",
       "      <td>7</td>\n",
       "      <td>0</td>\n",
       "      <td>876</td>\n",
       "      <td>3</td>\n",
       "      <td>1</td>\n",
       "      <td>0</td>\n",
       "      <td>3</td>\n",
       "    </tr>\n",
       "    <tr>\n",
       "      <th>6</th>\n",
       "      <td>4</td>\n",
       "      <td>3</td>\n",
       "      <td>0</td>\n",
       "      <td>1</td>\n",
       "      <td>1</td>\n",
       "      <td>2</td>\n",
       "      <td>946</td>\n",
       "      <td>0</td>\n",
       "      <td>1</td>\n",
       "      <td>0</td>\n",
       "    </tr>\n",
       "    <tr>\n",
       "      <th>7</th>\n",
       "      <td>0</td>\n",
       "      <td>2</td>\n",
       "      <td>2</td>\n",
       "      <td>1</td>\n",
       "      <td>0</td>\n",
       "      <td>0</td>\n",
       "      <td>0</td>\n",
       "      <td>1020</td>\n",
       "      <td>1</td>\n",
       "      <td>2</td>\n",
       "    </tr>\n",
       "    <tr>\n",
       "      <th>8</th>\n",
       "      <td>4</td>\n",
       "      <td>0</td>\n",
       "      <td>4</td>\n",
       "      <td>2</td>\n",
       "      <td>0</td>\n",
       "      <td>0</td>\n",
       "      <td>1</td>\n",
       "      <td>3</td>\n",
       "      <td>958</td>\n",
       "      <td>2</td>\n",
       "    </tr>\n",
       "    <tr>\n",
       "      <th>9</th>\n",
       "      <td>1</td>\n",
       "      <td>2</td>\n",
       "      <td>0</td>\n",
       "      <td>2</td>\n",
       "      <td>6</td>\n",
       "      <td>3</td>\n",
       "      <td>0</td>\n",
       "      <td>5</td>\n",
       "      <td>2</td>\n",
       "      <td>988</td>\n",
       "    </tr>\n",
       "  </tbody>\n",
       "</table>\n",
       "</div>"
      ],
      "text/plain": [
       "predict_label    0     1     2    3    4    5    6     7    8    9\n",
       "test_label                                                        \n",
       "0              976     0     1    0    0    0    2     1    0    0\n",
       "1                0  1133     1    0    0    0    1     0    0    0\n",
       "2                1     3  1022    0    2    0    0     4    0    0\n",
       "3                0     0     2  997    0    4    0     2    2    3\n",
       "4                0     0     1    0  975    0    3     0    0    3\n",
       "5                2     0     0    7    0  876    3     1    0    3\n",
       "6                4     3     0    1    1    2  946     0    1    0\n",
       "7                0     2     2    1    0    0    0  1020    1    2\n",
       "8                4     0     4    2    0    0    1     3  958    2\n",
       "9                1     2     0    2    6    3    0     5    2  988"
      ]
     },
     "execution_count": 32,
     "metadata": {},
     "output_type": "execute_result"
    }
   ],
   "source": [
    "pd.crosstab(y_test_original, ds_predict['test_predict'], rownames=['test_label'], colnames=['predict_label'])"
   ]
  },
  {
   "cell_type": "markdown",
   "metadata": {},
   "source": [
    "最後，我們可以利用遮罩來單純的檢視判斷錯誤的部份，這有利於調整模型，以此判斷究竟是資料集本身的問題還是模型的問題，該如何調整overfitting..等問題。\n",
    "\n",
    "執行之前請記得先執行最下面的function"
   ]
  },
  {
   "cell_type": "code",
   "execution_count": 33,
   "metadata": {
    "collapsed": true
   },
   "outputs": [],
   "source": [
    "#  先設置遮罩\n",
    "mask_train = y_train_original != ds_predict['train_predict']\n",
    "mask_test = y_test_original != ds_predict['test_predict']"
   ]
  },
  {
   "cell_type": "code",
   "execution_count": 34,
   "metadata": {},
   "outputs": [
    {
     "name": "stdout",
     "output_type": "stream",
     "text": [
      "train_error_count: 272\n",
      "test_error_count: 109\n"
     ]
    }
   ],
   "source": [
    "#  確認錯誤筆數\n",
    "print('train_error_count:', y_train_original[mask_train].shape[0])\n",
    "print('test_error_count:', y_test_original[mask_test].shape[0])"
   ]
  },
  {
   "cell_type": "code",
   "execution_count": 35,
   "metadata": {},
   "outputs": [
    {
     "data": {
      "image/png": "[encoded data removed]",
      "text/plain": [
       "<matplotlib.figure.Figure at 0x1bdf5da0>"
      ]
     },
     "metadata": {},
     "output_type": "display_data"
    }
   ],
   "source": [
    "plt_image(X_train_original[mask_train], y_train_original[mask_train], predict_labels=ds_predict['train_predict'][mask_train],\n",
    "          idx_start=0, idx_batch_size=10, fig_size='small')"
   ]
  },
  {
   "cell_type": "markdown",
   "metadata": {},
   "source": [
    "以下為自己寫的function，請先執行。"
   ]
  },
  {
   "cell_type": "code",
   "execution_count": 26,
   "metadata": {
    "collapsed": true
   },
   "outputs": [],
   "source": [
    "def utils_predict(model, datasets, evaluate=True, need_prob=False):\n",
    "    \"\"\"\n",
    "    keras預測之後回傳為概率，透過此function可轉為類別\n",
    "    再依需求調控是否回傳概率與模型效能評估\n",
    "    \n",
    "    model:keras.model，訓練之後的模型\n",
    "    datasets:資料集，格式為dict，索引名稱必需為X_train, X_test, y_train, y_test\n",
    "        datasets:\n",
    "            'X_train':train_dataset\n",
    "            'X_test':test_dataset\n",
    "            'y_train':train_label\n",
    "            'y_test':test_label\n",
    "    evaluate:是否執行model.evaluate，如果是，那資料集就必需有y_train與y_test\n",
    "    need_prob:是否回傳概率\n",
    "    \n",
    "    return datasets\n",
    "        預測類別：\n",
    "            train_predict, test_predict\n",
    "        預測概率：\n",
    "            train_predict_prob, test_predict_prob\n",
    "        模型評估：\n",
    "            train_score, test_score\n",
    "        \n",
    "    datasets:dict    \n",
    "    \"\"\"\n",
    "    train_dataset = datasets['X_train']\n",
    "    test_dataset = datasets['X_test']\n",
    "    \n",
    "    train_prob = model.predict(train_dataset, verbose=1)\n",
    "    test_prob = model.predict(test_dataset, verbose=1)\n",
    "    \n",
    "    train_labels = train_prob.argmax(axis=-1)\n",
    "    test_labels = test_prob.argmax(axis=-1)\n",
    "    \n",
    "    datasets['train_predict'] = train_labels\n",
    "    datasets['test_predict'] = test_labels\n",
    "    \n",
    "    if evaluate:\n",
    "        scores_train = model.evaluate(X_train, y_train)\n",
    "        scores_test = model.evaluate(X_test, y_test)\n",
    "        datasets['train_score'] = scores_train[1]\n",
    "        datasets['test_score'] = scores_test[1]\n",
    "        \n",
    "    if need_prob:\n",
    "        datasets['train_predict_prob'] = train_prob\n",
    "        datasets['test_predict_prob'] = test_prob\n",
    "        \n",
    "    \n",
    "    return datasets"
   ]
  },
  {
   "cell_type": "code",
   "execution_count": 27,
   "metadata": {
    "collapsed": true
   },
   "outputs": [],
   "source": [
    "#  產生圖面(acc，val)\n",
    "import matplotlib.pyplot as plt\n",
    "def model_history_plot(history, epoch):\n",
    "    \"\"\"\n",
    "    history:訓練記錄，為keras.History.history\n",
    "    epoch:迭代次數，為keras.History.epoch\n",
    "    \n",
    "    首先判斷物件長度是否為4，如果是那代表有啟用驗證資料集，若為2，就代表只有訓練資料集。\n",
    "    \"\"\"\n",
    "    #  用以判斷是否有驗證資料集，如果dict長度為4則賦值為True\n",
    "    val = False\n",
    "    \n",
    "    if len(history)==4:\n",
    "        val = True\n",
    "        val_acc = history['val_acc']\n",
    "        val_loss = history['val_loss']\n",
    "        \n",
    "    acc = history['acc']\n",
    "    loss = history['loss']\n",
    "       \n",
    "    #  設置圖表\n",
    "    plt.figure(figsize=(16,9))\n",
    "    \n",
    "    #  準確度_acc\n",
    "    plt.subplot(121)\n",
    "    plt.xlabel('epoch')\n",
    "    plt.ylabel('acc')\n",
    "    plt.xlim(min(epoch), max(epoch)+1)\n",
    "    plt.plot(epoch, acc, label='train_acc')\n",
    "    \n",
    "    if val:\n",
    "        plt.plot(epoch, val_acc, label='val_cc')\n",
    "    plt.legend(loc='best')\n",
    "    \n",
    "    #  訓練成本_loss\n",
    "    plt.subplot(122)    \n",
    "    plt.xlabel('epoch')\n",
    "    plt.ylabel('loss')\n",
    "    plt.xlim(min(epoch), max(epoch)+1)\n",
    "    plt.plot(epoch, loss, label='train_loss')\n",
    "    \n",
    "    if val:\n",
    "        plt.plot(epoch, val_loss, label='val_loss')            \n",
    "    plt.legend(loc='best')\n",
    "    \n",
    "    plt.tight_layout()\n",
    "    plt.show()"
   ]
  },
  {
   "cell_type": "code",
   "execution_count": 28,
   "metadata": {
    "collapsed": true
   },
   "outputs": [],
   "source": [
    "import math\n",
    "\n",
    "def plt_image(images, labels, predict_labels=[], idx_start=0, idx_batch_size=10, cel_num=5, fig_size='big'):\n",
    "    \"\"\"\n",
    "    images:來源照片(x)\n",
    "    labels：來源照片類別(y)\n",
    "    predict_labels:預測照片類別\n",
    "    idx_start:起始索引\n",
    "        預設為0\n",
    "    idx_batch_size:每次讀取量\n",
    "        預設為10\n",
    "    cel_num:每row顯示幾張照片\n",
    "        預設為5\n",
    "    fig_size:figure.figsize設置\n",
    "        big:16,9\n",
    "        middle:12,7\n",
    "        small:8,4\n",
    "        \n",
    "    當每次讀取批量>20的時候會以20取值\n",
    "    如果照片想要大點來看，就必需將cel_num設置小一點，然後設置size為big或是middle\n",
    "    \"\"\"\n",
    "    #  判斷索引值是否超過10，若超過20則idx_batch_size重新賦值\n",
    "    if idx_batch_size > 20:\n",
    "        idx_batch_size = 20   \n",
    "    \n",
    "    rows = int(math.ceil(idx_batch_size / cel_num))\n",
    "    \n",
    "    if fig_size=='big':\n",
    "        _size=(16, 9)\n",
    "    elif fig_size=='middle':\n",
    "        _size=(12, 7)\n",
    "    elif fig_size=='small':\n",
    "        _size=(8, 4)\n",
    "        \n",
    "    #  設置圖表尺寸\n",
    "    plt.figure(figsize=(_size))\n",
    "    for i in range(idx_batch_size): \n",
    "        ax = plt.subplot(rows,cel_num,i+1)\n",
    "        #  取消x、y軸的刻度\n",
    "        plt.xticks(())        \n",
    "        plt.yticks(())\n",
    "        #  設置x軸的label為\n",
    "        ax.set_xlabel('True labels:' + str(labels[idx_start]) + ',idx:' + str(idx_start))\n",
    "        #  如果predict_labls不是空值，那就帶入資料\n",
    "        if len(predict_labels)>0:            \n",
    "            ax.set_title('Predict labels:' + str(predict_labels[idx_start]))\n",
    "        ax.imshow(images[idx_start])\n",
    "        #  換下一筆\n",
    "        idx_start += 1        \n",
    "         \n",
    "    #  確保資料呈現正常    \n",
    "    plt.tight_layout()    \n",
    "    plt.show()        "
   ]
  }
 ],
 "metadata": {
  "kernelspec": {
   "display_name": "Python 3",
   "language": "python",
   "name": "python3"
  },
  "language_info": {
   "codemirror_mode": {
    "name": "ipython",
    "version": 3
   },
   "file_extension": ".py",
   "mimetype": "text/x-python",
   "name": "python",
   "nbconvert_exporter": "python",
   "pygments_lexer": "ipython3",
   "version": "3.5.3"
  }
 },
 "nbformat": 4,
 "nbformat_minor": 2
}
