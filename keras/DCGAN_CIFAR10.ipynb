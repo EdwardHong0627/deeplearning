{
 "cells": [
  {
   "cell_type": "markdown",
   "metadata": {},
   "source": [
    "# DCGAN"
   ]
  },
  {
   "cell_type": "markdown",
   "metadata": {},
   "source": [
    "DCGAN，即deep convolutional GAN的簡寫"
   ]
  },
  {
   "cell_type": "markdown",
   "metadata": {},
   "source": [
    "## 數據集"
   ]
  },
  {
   "cell_type": "markdown",
   "metadata": {},
   "source": [
    "CIFAR10為32x32x3的照片，並擁有10個輸出類別，每個類別5,000張，共計50,000張照片"
   ]
  },
  {
   "cell_type": "markdown",
   "metadata": {},
   "source": [
    "## 範例說明"
   ]
  },
  {
   "cell_type": "markdown",
   "metadata": {},
   "source": [
    "為了簡化範例，單純的使用一個類別做測試"
   ]
  },
  {
   "cell_type": "markdown",
   "metadata": {},
   "source": [
    "這邊會著重在實作，不會有過深的理論說明"
   ]
  },
  {
   "cell_type": "markdown",
   "metadata": {},
   "source": [
    "## 作業開始"
   ]
  },
  {
   "cell_type": "markdown",
   "metadata": {},
   "source": [
    "GAN由Generator與Discriminator兩個`nn`結合而成，迭代過程大致如下說明：  \n",
    "1. 初始化Generator-v1與Discriminator-v1\n",
    "2. 空間中sample出一筆資料，經過Generator-v1生成\n",
    "3. Discriminator-v1驗證真假，發現是假\n",
    "4. Generator-v1升級為Generator-v2\n",
    "5. 成功騙過Discriminator\n",
    "6. Discriminator-v1升級為Discriminator-v2\n",
    "7. Discriminator-v2驗證真假，發現是假\n",
    "8. ...."
   ]
  },
  {
   "cell_type": "markdown",
   "metadata": {},
   "source": [
    "作業開始之前定義使用的GPU資源"
   ]
  },
  {
   "cell_type": "code",
   "execution_count": 1,
   "metadata": {},
   "outputs": [],
   "source": [
    "import os\n",
    "# 限制gpu資源\n",
    "os.environ[\"CUDA_VISIBLE_DEVICES\"] = \"0\""
   ]
  },
  {
   "cell_type": "markdown",
   "metadata": {},
   "source": [
    "首先我們建置Generator"
   ]
  },
  {
   "cell_type": "markdown",
   "metadata": {},
   "source": [
    "載入建置Generator的需求套件"
   ]
  },
  {
   "cell_type": "code",
   "execution_count": 3,
   "metadata": {},
   "outputs": [],
   "source": [
    "import keras\n",
    "from keras import layers\n",
    "import numpy as np"
   ]
  },
  {
   "cell_type": "markdown",
   "metadata": {},
   "source": [
    "這是後面保有照片會用到的套件"
   ]
  },
  {
   "cell_type": "code",
   "execution_count": 41,
   "metadata": {},
   "outputs": [],
   "source": [
    "from keras.preprocessing import image"
   ]
  },
  {
   "cell_type": "markdown",
   "metadata": {},
   "source": [
    "定義dimension，CIFAR10的照片維度為32x32x3"
   ]
  },
  {
   "cell_type": "markdown",
   "metadata": {},
   "source": [
    "Generator會從空間中sample出一個點，那個點是一個Vector，在下面範例中即是laten_dim的設置"
   ]
  },
  {
   "cell_type": "code",
   "execution_count": 9,
   "metadata": {},
   "outputs": [],
   "source": [
    "# CIFAR10資料維度\n",
    "height = 32\n",
    "width = 32\n",
    "channel =3\n",
    "\n",
    "# 預計生成資料維度\n",
    "laten_dim = 32"
   ]
  },
  {
   "cell_type": "markdown",
   "metadata": {},
   "source": [
    "* W：輸入維度\n",
    "* F：filter size\n",
    "* S：stride\n",
    "* P：padding size\n",
    "* N：輸入維度"
   ]
  },
  {
   "cell_type": "markdown",
   "metadata": {},
   "source": [
    "`layers.Conv2D`：卷積，經過卷積之後的維度計算如下：  \n",
    "$N=(W-F+2P)/S+1$"
   ]
  },
  {
   "cell_type": "markdown",
   "metadata": {},
   "source": [
    "`layers.Conv2DTranspose`：反卷積，經過反卷積之後的維度計算如下：  \n",
    "$W=(N-1)*S-2P+F$"
   ]
  },
  {
   "cell_type": "code",
   "execution_count": 7,
   "metadata": {},
   "outputs": [],
   "source": [
    "generator_input = keras.Input(shape=(laten_dim, ))\n",
    "x = layers.Dense(128 * 16 * 16)(generator_input)\n",
    "x = layers.LeakyReLU()(x)\n",
    "x = layers.Reshape((16, 16, 128))(x)\n",
    "\n",
    "x = layers.Conv2D(256, 5, padding='same')(x)\n",
    "x = layers.LeakyReLU()(x)\n",
    "\n",
    "# 輸出為32x32\n",
    "x = layers.Conv2DTranspose(256, 4, strides=2, padding='same')(x)\n",
    "x = layers.LeakyReLU()(x)\n",
    "\n",
    "x = layers.Conv2D(256, 5, padding='same')(x)\n",
    "x = layers.LeakyReLU()(x)\n",
    "x = layers.Conv2D(256, 5, padding='same')(x)\n",
    "x = layers.LeakyReLU()(x)\n",
    "\n",
    "# 圖片channel設置為3，即輸出為32x32x3\n",
    "x = layers.Conv2D(channel, 7, activation='tanh', padding='same')(x)\n",
    "\n",
    "generator = keras.models.Model(generator_input, x)"
   ]
  },
  {
   "cell_type": "markdown",
   "metadata": {},
   "source": [
    "利用`Model.summary()`來確認模型的資料維度變化"
   ]
  },
  {
   "cell_type": "code",
   "execution_count": 8,
   "metadata": {},
   "outputs": [
    {
     "name": "stdout",
     "output_type": "stream",
     "text": [
      "_________________________________________________________________\n",
      "Layer (type)                 Output Shape              Param #   \n",
      "=================================================================\n",
      "input_2 (InputLayer)         (None, 32)                0         \n",
      "_________________________________________________________________\n",
      "dense_2 (Dense)              (None, 32768)             1081344   \n",
      "_________________________________________________________________\n",
      "leaky_re_lu_6 (LeakyReLU)    (None, 32768)             0         \n",
      "_________________________________________________________________\n",
      "reshape_2 (Reshape)          (None, 16, 16, 128)       0         \n",
      "_________________________________________________________________\n",
      "conv2d_5 (Conv2D)            (None, 16, 16, 256)       819456    \n",
      "_________________________________________________________________\n",
      "leaky_re_lu_7 (LeakyReLU)    (None, 16, 16, 256)       0         \n",
      "_________________________________________________________________\n",
      "conv2d_transpose_2 (Conv2DTr (None, 32, 32, 256)       1048832   \n",
      "_________________________________________________________________\n",
      "leaky_re_lu_8 (LeakyReLU)    (None, 32, 32, 256)       0         \n",
      "_________________________________________________________________\n",
      "conv2d_6 (Conv2D)            (None, 32, 32, 256)       1638656   \n",
      "_________________________________________________________________\n",
      "leaky_re_lu_9 (LeakyReLU)    (None, 32, 32, 256)       0         \n",
      "_________________________________________________________________\n",
      "conv2d_7 (Conv2D)            (None, 32, 32, 256)       1638656   \n",
      "_________________________________________________________________\n",
      "leaky_re_lu_10 (LeakyReLU)   (None, 32, 32, 256)       0         \n",
      "_________________________________________________________________\n",
      "conv2d_8 (Conv2D)            (None, 32, 32, 3)         37635     \n",
      "=================================================================\n",
      "Total params: 6,264,579\n",
      "Trainable params: 6,264,579\n",
      "Non-trainable params: 0\n",
      "_________________________________________________________________\n"
     ]
    }
   ],
   "source": [
    "generator.summary()"
   ]
  },
  {
   "cell_type": "markdown",
   "metadata": {},
   "source": [
    "Generator完成之後我們要架構Discriminator，Discriminator的作用就是判斷給定的資料是真或假，因此它的輸入維度即照片維度(範例為32x32x3)"
   ]
  },
  {
   "cell_type": "code",
   "execution_count": 10,
   "metadata": {},
   "outputs": [
    {
     "name": "stdout",
     "output_type": "stream",
     "text": [
      "WARNING:tensorflow:From /usr/local/lib/python3.5/dist-packages/keras/backend/tensorflow_backend.py:3445: calling dropout (from tensorflow.python.ops.nn_ops) with keep_prob is deprecated and will be removed in a future version.\n",
      "Instructions for updating:\n",
      "Please use `rate` instead of `keep_prob`. Rate should be set to `rate = 1 - keep_prob`.\n"
     ]
    }
   ],
   "source": [
    "discriminator_input = layers.Input(shape=(height, width, channel))\n",
    "x = layers.Conv2D(128, 3)(discriminator_input)\n",
    "x = layers.LeakyReLU()(x)\n",
    "x = layers.Conv2D(128, 4, strides=2)(x)\n",
    "x = layers.LeakyReLU()(x)\n",
    "x = layers.Conv2D(128, 4, strides=2)(x)\n",
    "x = layers.LeakyReLU()(x)\n",
    "x = layers.Conv2D(128, 4, strides=2)(x)\n",
    "x = layers.LeakyReLU()(x)\n",
    "x = layers.Flatten()(x)\n",
    "x = layers.Dropout(0.5)(x)\n",
    "# 判斷真假，因此輸出為1個unit，並搭配sigmoid\n",
    "x = layers.Dense(1, activation='sigmoid')(x)\n",
    "\n",
    "discriminator = keras.models.Model(discriminator_input, x)"
   ]
  },
  {
   "cell_type": "markdown",
   "metadata": {},
   "source": [
    "利用`Model.summary()`確認模型維度變化"
   ]
  },
  {
   "cell_type": "code",
   "execution_count": 11,
   "metadata": {},
   "outputs": [
    {
     "name": "stdout",
     "output_type": "stream",
     "text": [
      "_________________________________________________________________\n",
      "Layer (type)                 Output Shape              Param #   \n",
      "=================================================================\n",
      "input_3 (InputLayer)         (None, 32, 32, 3)         0         \n",
      "_________________________________________________________________\n",
      "conv2d_9 (Conv2D)            (None, 30, 30, 128)       3584      \n",
      "_________________________________________________________________\n",
      "leaky_re_lu_11 (LeakyReLU)   (None, 30, 30, 128)       0         \n",
      "_________________________________________________________________\n",
      "conv2d_10 (Conv2D)           (None, 14, 14, 128)       262272    \n",
      "_________________________________________________________________\n",
      "leaky_re_lu_12 (LeakyReLU)   (None, 14, 14, 128)       0         \n",
      "_________________________________________________________________\n",
      "conv2d_11 (Conv2D)           (None, 6, 6, 128)         262272    \n",
      "_________________________________________________________________\n",
      "leaky_re_lu_13 (LeakyReLU)   (None, 6, 6, 128)         0         \n",
      "_________________________________________________________________\n",
      "conv2d_12 (Conv2D)           (None, 2, 2, 128)         262272    \n",
      "_________________________________________________________________\n",
      "leaky_re_lu_14 (LeakyReLU)   (None, 2, 2, 128)         0         \n",
      "_________________________________________________________________\n",
      "flatten_1 (Flatten)          (None, 512)               0         \n",
      "_________________________________________________________________\n",
      "dropout_1 (Dropout)          (None, 512)               0         \n",
      "_________________________________________________________________\n",
      "dense_3 (Dense)              (None, 1)                 513       \n",
      "=================================================================\n",
      "Total params: 790,913\n",
      "Trainable params: 790,913\n",
      "Non-trainable params: 0\n",
      "_________________________________________________________________\n"
     ]
    }
   ],
   "source": [
    "discriminator.summary()"
   ]
  },
  {
   "cell_type": "markdown",
   "metadata": {},
   "source": [
    "定義模型最佳化方式"
   ]
  },
  {
   "cell_type": "markdown",
   "metadata": {},
   "source": [
    "範例使用`RMSprop`做為最佳化的方式，透過`clipvalue`來限制梯度範圍"
   ]
  },
  {
   "cell_type": "code",
   "execution_count": 13,
   "metadata": {},
   "outputs": [],
   "source": [
    "discriminator_optimizer = keras.optimizers.RMSprop(\n",
    "    lr = 0.0008,\n",
    "    clipvalue=1.0,\n",
    "    decay=1e-8\n",
    ")"
   ]
  },
  {
   "cell_type": "code",
   "execution_count": 14,
   "metadata": {},
   "outputs": [],
   "source": [
    "discriminator.compile(optimizer=discriminator_optimizer,\n",
    "                      loss='binary_crossentropy')"
   ]
  },
  {
   "cell_type": "markdown",
   "metadata": {},
   "source": [
    "Generator與Discriminator都已經設置好了，現在我們要讓他們對抗，幾個點簡單說明：  \n",
    "1. 原始GAN中雖然提到Generator要訓練多次，但實際上Ian Goodfellow只訓練一次而以\n",
    "2. 訓練Generator的時候Discriminator是凍結的"
   ]
  },
  {
   "cell_type": "markdown",
   "metadata": {},
   "source": [
    "首先，將discriminator凍結"
   ]
  },
  {
   "cell_type": "code",
   "execution_count": 15,
   "metadata": {},
   "outputs": [],
   "source": [
    "discriminator.trainable = False"
   ]
  },
  {
   "cell_type": "markdown",
   "metadata": {},
   "source": [
    "gan model的input是一開始所設置的`laten_dim`，而output的部份則是`generator model`的output給`discriminator model`的input所做的判斷，即判斷`generator model`所生成的資料是真還是假"
   ]
  },
  {
   "cell_type": "code",
   "execution_count": null,
   "metadata": {},
   "outputs": [],
   "source": [
    "gan_input = keras.Input(shape=(laten_dim, ))\n",
    "gan_output = discriminator(generator(gan_input))\n",
    "gan = keras.models.Model(gan_input, gan_output)"
   ]
  },
  {
   "cell_type": "markdown",
   "metadata": {},
   "source": [
    "設置`gan model`的最佳化方式"
   ]
  },
  {
   "cell_type": "code",
   "execution_count": 19,
   "metadata": {},
   "outputs": [],
   "source": [
    "gan_optimizer = keras.optimizers.RMSprop(\n",
    "    lr=0.0004,\n",
    "    clipvalue=1.0,\n",
    "    decay=1e-8\n",
    ")"
   ]
  },
  {
   "cell_type": "code",
   "execution_count": 20,
   "metadata": {},
   "outputs": [],
   "source": [
    "gan.compile(optimizer=gan_optimizer,\n",
    "            loss='binary_crossentropy')"
   ]
  },
  {
   "cell_type": "code",
   "execution_count": 21,
   "metadata": {},
   "outputs": [
    {
     "name": "stdout",
     "output_type": "stream",
     "text": [
      "_________________________________________________________________\n",
      "Layer (type)                 Output Shape              Param #   \n",
      "=================================================================\n",
      "input_5 (InputLayer)         (None, 32)                0         \n",
      "_________________________________________________________________\n",
      "model_2 (Model)              (None, 32, 32, 3)         6264579   \n",
      "_________________________________________________________________\n",
      "model_3 (Model)              (None, 1)                 790913    \n",
      "=================================================================\n",
      "Total params: 7,055,492\n",
      "Trainable params: 6,264,579\n",
      "Non-trainable params: 790,913\n",
      "_________________________________________________________________\n"
     ]
    }
   ],
   "source": [
    "gan.summary()"
   ]
  },
  {
   "cell_type": "markdown",
   "metadata": {},
   "source": [
    "現在我們可以開始來訓練模型，上面提到，我們會從空間隨機sample出資料，經過`generator model`來生成，這筆資料當然假資料，其標記為`Negative`，另外我們也會有真實的資料，其標記為`Positive`。"
   ]
  },
  {
   "cell_type": "markdown",
   "metadata": {},
   "source": [
    "首先我們先下載keras自帶的資料集，`CIFAR10`：\n",
    "* 0: airplane\n",
    "* 1: automobile\n",
    "* 2: bird\n",
    "* 3: cat\n",
    "* 4: deer\n",
    "* 5: dog\n",
    "* 6: frog\n",
    "* 7: horse\n",
    "* 8: ship\n",
    "* 9: truck"
   ]
  },
  {
   "cell_type": "code",
   "execution_count": 23,
   "metadata": {},
   "outputs": [
    {
     "name": "stdout",
     "output_type": "stream",
     "text": [
      "Downloading data from https://www.cs.toronto.edu/~kriz/cifar-10-python.tar.gz\n",
      "170500096/170498071 [==============================] - 109s 1us/step\n"
     ]
    }
   ],
   "source": [
    "(x_train, y_train), (_, _) = keras.datasets.cifar10.load_data()"
   ]
  },
  {
   "cell_type": "markdown",
   "metadata": {},
   "source": [
    "任何資料集都請務必先行驗證確認資料維度"
   ]
  },
  {
   "cell_type": "code",
   "execution_count": 28,
   "metadata": {},
   "outputs": [
    {
     "data": {
      "text/plain": [
       "((50000, 32, 32, 3), (50000, 1))"
      ]
     },
     "execution_count": 28,
     "metadata": {},
     "output_type": "execute_result"
    }
   ],
   "source": [
    "x_train.shape, y_train.shape"
   ]
  },
  {
   "cell_type": "markdown",
   "metadata": {},
   "source": [
    "下載下來的照片資料，我們只會採用其中一個類別來簡化範例的進行"
   ]
  },
  {
   "cell_type": "markdown",
   "metadata": {},
   "source": [
    "以`y_train.flatten() == 5`為mask來取得資料"
   ]
  },
  {
   "cell_type": "code",
   "execution_count": 30,
   "metadata": {},
   "outputs": [],
   "source": [
    "x_train = x_train[y_train.flatten() == 5]"
   ]
  },
  {
   "cell_type": "markdown",
   "metadata": {},
   "source": [
    "調整之後確認資料維度"
   ]
  },
  {
   "cell_type": "code",
   "execution_count": 31,
   "metadata": {},
   "outputs": [
    {
     "data": {
      "text/plain": [
       "(5000, 32, 32, 3)"
      ]
     },
     "execution_count": 31,
     "metadata": {},
     "output_type": "execute_result"
    }
   ],
   "source": [
    "x_train.shape"
   ]
  },
  {
   "cell_type": "markdown",
   "metadata": {},
   "source": [
    "後面不需要太過在意`y_train`，因為對我們目前需求來說，所有真實資料皆為`Positive`"
   ]
  },
  {
   "cell_type": "code",
   "execution_count": 32,
   "metadata": {},
   "outputs": [
    {
     "data": {
      "text/plain": [
       "dtype('uint8')"
      ]
     },
     "execution_count": 32,
     "metadata": {},
     "output_type": "execute_result"
    }
   ],
   "source": [
    "x_train.dtype"
   ]
  },
  {
   "cell_type": "markdown",
   "metadata": {},
   "source": [
    "資料標準化"
   ]
  },
  {
   "cell_type": "code",
   "execution_count": 34,
   "metadata": {},
   "outputs": [],
   "source": [
    "x_train = x_train / 255."
   ]
  },
  {
   "cell_type": "code",
   "execution_count": 35,
   "metadata": {},
   "outputs": [
    {
     "data": {
      "text/plain": [
       "dtype('float64')"
      ]
     },
     "execution_count": 35,
     "metadata": {},
     "output_type": "execute_result"
    }
   ],
   "source": [
    "x_train.dtype"
   ]
  },
  {
   "cell_type": "markdown",
   "metadata": {},
   "source": [
    "轉換型別，理論上使用`float32`足矣"
   ]
  },
  {
   "cell_type": "code",
   "execution_count": 36,
   "metadata": {},
   "outputs": [],
   "source": [
    "x_train = x_train.astype(np.float32)"
   ]
  },
  {
   "cell_type": "code",
   "execution_count": 37,
   "metadata": {},
   "outputs": [
    {
     "data": {
      "text/plain": [
       "dtype('float32')"
      ]
     },
     "execution_count": 37,
     "metadata": {},
     "output_type": "execute_result"
    }
   ],
   "source": [
    "x_train.dtype"
   ]
  },
  {
   "cell_type": "markdown",
   "metadata": {},
   "source": [
    "設置幾個簡單參數"
   ]
  },
  {
   "cell_type": "code",
   "execution_count": 107,
   "metadata": {},
   "outputs": [],
   "source": [
    "# 預計執行迭代次數\n",
    "iterations = 50000\n",
    "# 每次處理數量\n",
    "batch_size = 20\n",
    "# 預計保存生成照片資料集，依個人需求設置\n",
    "folder_path = '/tf/GAN/DCGAN' "
   ]
  },
  {
   "cell_type": "markdown",
   "metadata": {},
   "source": [
    "前置作業完畢之後就可以正式的來訓練模型"
   ]
  },
  {
   "cell_type": "code",
   "execution_count": 108,
   "metadata": {},
   "outputs": [
    {
     "name": "stderr",
     "output_type": "stream",
     "text": [
      "/usr/local/lib/python3.5/dist-packages/keras/engine/training.py:490: UserWarning: Discrepancy between trainable weights and collected trainable weights, did you set `model.trainable` without calling `model.compile` after ?\n",
      "  'Discrepancy between trainable weights and collected trainable'\n"
     ]
    },
    {
     "name": "stdout",
     "output_type": "stream",
     "text": [
      "discriminator loss:  0.71282643\n",
      "gan loss:  0.87302893\n",
      "discriminator loss:  0.66943425\n",
      "gan loss:  0.7812395\n",
      "discriminator loss:  0.697122\n",
      "gan loss:  0.8018481\n",
      "discriminator loss:  0.6686786\n",
      "gan loss:  0.7651623\n",
      "discriminator loss:  0.7016796\n",
      "gan loss:  0.7988683\n",
      "discriminator loss:  0.6718914\n",
      "gan loss:  0.75036573\n",
      "discriminator loss:  0.6425274\n",
      "gan loss:  0.88958186\n",
      "discriminator loss:  0.6744896\n",
      "gan loss:  0.77555877\n",
      "discriminator loss:  0.7213212\n",
      "gan loss:  0.821689\n",
      "discriminator loss:  0.7596559\n",
      "gan loss:  0.56101835\n",
      "discriminator loss:  0.68560475\n",
      "gan loss:  0.71743935\n",
      "discriminator loss:  0.6524574\n",
      "gan loss:  0.77833223\n",
      "discriminator loss:  0.6425224\n",
      "gan loss:  0.98320067\n",
      "discriminator loss:  0.6600302\n",
      "gan loss:  0.7566779\n",
      "discriminator loss:  0.7357922\n",
      "gan loss:  0.74119204\n",
      "discriminator loss:  0.704436\n",
      "gan loss:  0.9978873\n",
      "discriminator loss:  0.57642615\n",
      "gan loss:  0.66470855\n",
      "discriminator loss:  0.6887396\n",
      "gan loss:  0.7631684\n",
      "discriminator loss:  0.71840274\n",
      "gan loss:  1.2065418\n",
      "discriminator loss:  0.7956027\n",
      "gan loss:  0.6915475\n",
      "discriminator loss:  0.73511106\n",
      "gan loss:  0.88486135\n",
      "discriminator loss:  0.7185983\n",
      "gan loss:  1.3073694\n",
      "discriminator loss:  0.60175484\n",
      "gan loss:  0.8610972\n",
      "discriminator loss:  0.6729022\n",
      "gan loss:  0.7422757\n",
      "discriminator loss:  0.734814\n",
      "gan loss:  0.7557834\n",
      "discriminator loss:  0.6818015\n",
      "gan loss:  0.86736333\n",
      "discriminator loss:  0.64728796\n",
      "gan loss:  1.1415823\n",
      "discriminator loss:  0.67910206\n",
      "gan loss:  0.82699615\n",
      "discriminator loss:  0.68955773\n",
      "gan loss:  0.83415735\n",
      "discriminator loss:  0.6418172\n",
      "gan loss:  0.79069686\n",
      "discriminator loss:  0.7565874\n",
      "gan loss:  0.79784924\n",
      "discriminator loss:  0.6034611\n",
      "gan loss:  0.9143292\n",
      "discriminator loss:  0.6734072\n",
      "gan loss:  0.90962726\n",
      "discriminator loss:  0.7010164\n",
      "gan loss:  0.7560893\n",
      "discriminator loss:  0.6546241\n",
      "gan loss:  0.8290655\n",
      "discriminator loss:  0.7594928\n",
      "gan loss:  0.9676014\n",
      "discriminator loss:  0.7097157\n",
      "gan loss:  1.2738528\n",
      "discriminator loss:  0.629131\n",
      "gan loss:  0.72889614\n",
      "discriminator loss:  0.65838593\n",
      "gan loss:  0.82606393\n",
      "discriminator loss:  0.7141706\n",
      "gan loss:  0.91454726\n",
      "discriminator loss:  0.62381667\n",
      "gan loss:  0.9389924\n",
      "discriminator loss:  0.575848\n",
      "gan loss:  1.1762888\n",
      "discriminator loss:  0.6279694\n",
      "gan loss:  1.00851\n",
      "discriminator loss:  0.6534295\n",
      "gan loss:  0.9503201\n",
      "discriminator loss:  0.66008264\n",
      "gan loss:  1.0129609\n",
      "discriminator loss:  0.6850151\n",
      "gan loss:  0.6994979\n",
      "discriminator loss:  0.6022216\n",
      "gan loss:  0.82452756\n",
      "discriminator loss:  0.6511866\n",
      "gan loss:  0.78197\n",
      "discriminator loss:  0.65078497\n",
      "gan loss:  0.74892735\n",
      "discriminator loss:  0.6655859\n",
      "gan loss:  0.97488415\n",
      "discriminator loss:  0.6729773\n",
      "gan loss:  0.88548243\n",
      "discriminator loss:  0.5880965\n",
      "gan loss:  0.9837518\n",
      "discriminator loss:  0.65699345\n",
      "gan loss:  0.99034405\n",
      "discriminator loss:  0.6461727\n",
      "gan loss:  0.8176754\n",
      "discriminator loss:  0.6969069\n",
      "gan loss:  0.7883165\n",
      "discriminator loss:  0.6645154\n",
      "gan loss:  1.0589913\n",
      "discriminator loss:  0.66679794\n",
      "gan loss:  1.0433238\n",
      "discriminator loss:  0.6545907\n",
      "gan loss:  1.161965\n",
      "discriminator loss:  0.7832594\n",
      "gan loss:  0.94938457\n",
      "discriminator loss:  0.73015475\n",
      "gan loss:  1.1341959\n",
      "discriminator loss:  0.67762166\n",
      "gan loss:  0.9775957\n",
      "discriminator loss:  0.7060185\n",
      "gan loss:  0.71951836\n",
      "discriminator loss:  0.6322479\n",
      "gan loss:  0.7528807\n",
      "discriminator loss:  0.6494238\n",
      "gan loss:  0.69838464\n",
      "discriminator loss:  0.6765991\n",
      "gan loss:  0.809281\n",
      "discriminator loss:  0.63013047\n",
      "gan loss:  1.0455296\n",
      "discriminator loss:  0.6345376\n",
      "gan loss:  0.9289867\n",
      "discriminator loss:  0.6539017\n",
      "gan loss:  0.98527974\n",
      "discriminator loss:  0.83851165\n",
      "gan loss:  1.3036497\n",
      "discriminator loss:  0.7538532\n",
      "gan loss:  0.6736752\n",
      "discriminator loss:  0.638913\n",
      "gan loss:  1.0778698\n",
      "discriminator loss:  0.6950736\n",
      "gan loss:  1.0088011\n",
      "discriminator loss:  0.6482147\n",
      "gan loss:  1.2529777\n",
      "discriminator loss:  0.61980146\n",
      "gan loss:  1.2819306\n",
      "discriminator loss:  0.6864961\n",
      "gan loss:  1.8126917\n",
      "discriminator loss:  0.7384405\n",
      "gan loss:  1.2186419\n",
      "discriminator loss:  0.587267\n",
      "gan loss:  0.99280465\n",
      "discriminator loss:  0.6378819\n",
      "gan loss:  0.93700516\n",
      "discriminator loss:  0.67053396\n",
      "gan loss:  1.1692533\n",
      "discriminator loss:  0.49769735\n",
      "gan loss:  2.097853\n",
      "discriminator loss:  0.69923574\n",
      "gan loss:  1.2089422\n",
      "discriminator loss:  0.6036526\n",
      "gan loss:  1.3708954\n",
      "discriminator loss:  0.70084125\n",
      "gan loss:  0.8404833\n",
      "discriminator loss:  0.68812\n",
      "gan loss:  0.75229156\n",
      "discriminator loss:  0.4385272\n",
      "gan loss:  2.1348572\n",
      "discriminator loss:  0.41121665\n",
      "gan loss:  1.2870817\n",
      "discriminator loss:  0.54934365\n",
      "gan loss:  2.2626433\n",
      "discriminator loss:  0.6830329\n",
      "gan loss:  1.7171202\n",
      "discriminator loss:  0.60485387\n",
      "gan loss:  1.0974768\n",
      "discriminator loss:  0.50165904\n",
      "gan loss:  2.1315541\n",
      "discriminator loss:  0.027933594\n",
      "gan loss:  13.719084\n",
      "discriminator loss:  0.56854385\n",
      "gan loss:  1.4314315\n",
      "discriminator loss:  0.2806052\n",
      "gan loss:  6.5619173\n",
      "discriminator loss:  0.7053231\n",
      "gan loss:  1.9978831\n",
      "discriminator loss:  0.36442977\n",
      "gan loss:  3.0760274\n",
      "discriminator loss:  -0.1441001\n",
      "gan loss:  15.942385\n",
      "discriminator loss:  0.5643301\n",
      "gan loss:  1.6354519\n",
      "discriminator loss:  0.19313386\n",
      "gan loss:  10.332018\n",
      "discriminator loss:  0.061222255\n",
      "gan loss:  10.631473\n",
      "discriminator loss:  0.51117706\n",
      "gan loss:  2.9219782\n",
      "discriminator loss:  0.21174219\n",
      "gan loss:  7.377471\n",
      "discriminator loss:  0.47993058\n",
      "gan loss:  2.264305\n",
      "discriminator loss:  0.29397553\n",
      "gan loss:  0.9523138\n",
      "discriminator loss:  0.9887036\n",
      "gan loss:  3.9491622\n",
      "discriminator loss:  0.5935584\n",
      "gan loss:  1.1948531\n",
      "discriminator loss:  0.3743375\n",
      "gan loss:  2.3786678\n",
      "discriminator loss:  0.29142743\n",
      "gan loss:  1.722477\n",
      "discriminator loss:  0.53829277\n",
      "gan loss:  1.4550078\n",
      "discriminator loss:  0.5417303\n",
      "gan loss:  1.1083136\n",
      "discriminator loss:  0.16692168\n",
      "gan loss:  4.058092\n",
      "discriminator loss:  0.67767185\n",
      "gan loss:  2.8328738\n",
      "discriminator loss:  0.29506436\n",
      "gan loss:  9.392721\n",
      "discriminator loss:  0.7071597\n",
      "gan loss:  14.354792\n",
      "discriminator loss:  0.52648664\n",
      "gan loss:  1.709512\n",
      "discriminator loss:  1.0241022\n",
      "gan loss:  1.9641361\n",
      "discriminator loss:  0.451394\n",
      "gan loss:  0.90407056\n",
      "discriminator loss:  0.16693965\n",
      "gan loss:  5.433736\n",
      "discriminator loss:  1.1594385\n",
      "gan loss:  12.636365\n",
      "discriminator loss:  0.47015685\n",
      "gan loss:  1.7993841\n",
      "discriminator loss:  0.62862045\n",
      "gan loss:  1.5681242\n",
      "discriminator loss:  0.4143386\n",
      "gan loss:  6.0340695\n",
      "discriminator loss:  -0.032286394\n",
      "gan loss:  11.7654295\n",
      "discriminator loss:  0.6517736\n",
      "gan loss:  3.7059884\n",
      "discriminator loss:  0.121152006\n",
      "gan loss:  5.3643346\n",
      "discriminator loss:  0.9557457\n",
      "gan loss:  0.35227832\n",
      "discriminator loss:  0.3779797\n",
      "gan loss:  1.2457203\n",
      "discriminator loss:  0.06723738\n",
      "gan loss:  14.450562\n",
      "discriminator loss:  0.60757315\n",
      "gan loss:  1.4359993\n",
      "discriminator loss:  -0.08006935\n",
      "gan loss:  13.96478\n",
      "discriminator loss:  0.3655422\n",
      "gan loss:  6.92946\n",
      "discriminator loss:  0.38746834\n",
      "gan loss:  2.1435566\n",
      "discriminator loss:  0.2153677\n",
      "gan loss:  5.918977\n",
      "discriminator loss:  -0.093324505\n",
      "gan loss:  15.942385\n",
      "discriminator loss:  0.19089833\n",
      "gan loss:  6.9056907\n",
      "discriminator loss:  0.4936467\n",
      "gan loss:  0.7638735\n",
      "discriminator loss:  0.20686615\n",
      "gan loss:  5.7042246\n",
      "discriminator loss:  -0.16607518\n",
      "gan loss:  15.561203\n",
      "discriminator loss:  0.20271914\n",
      "gan loss:  4.182176\n",
      "discriminator loss:  0.31812003\n",
      "gan loss:  2.4328685\n",
      "discriminator loss:  -0.15473835\n",
      "gan loss:  15.942385\n",
      "discriminator loss:  0.014517343\n",
      "gan loss:  8.9791565\n",
      "discriminator loss:  0.17521536\n",
      "gan loss:  4.702389\n",
      "discriminator loss:  0.1786209\n",
      "gan loss:  7.334788\n",
      "discriminator loss:  -0.19770096\n",
      "gan loss:  15.942385\n",
      "discriminator loss:  -0.07636153\n",
      "gan loss:  15.00162\n",
      "discriminator loss:  0.058760364\n",
      "gan loss:  7.1603255\n",
      "discriminator loss:  0.29147315\n",
      "gan loss:  3.1955917\n",
      "discriminator loss:  0.5980363\n",
      "gan loss:  1.1902152\n",
      "discriminator loss:  0.32551906\n",
      "gan loss:  11.038958\n",
      "discriminator loss:  0.5993344\n",
      "gan loss:  1.5081056\n",
      "discriminator loss:  -0.13526079\n",
      "gan loss:  15.942385\n",
      "discriminator loss:  0.9289185\n",
      "gan loss:  5.909236\n",
      "discriminator loss:  0.21616285\n",
      "gan loss:  5.5527945\n",
      "discriminator loss:  0.61660856\n",
      "gan loss:  2.456183\n",
      "discriminator loss:  0.5973612\n",
      "gan loss:  4.5612917\n",
      "discriminator loss:  0.2216332\n",
      "gan loss:  5.102216\n"
     ]
    },
    {
     "name": "stdout",
     "output_type": "stream",
     "text": [
      "discriminator loss:  0.45834723\n",
      "gan loss:  2.1585457\n",
      "discriminator loss:  -0.0016404182\n",
      "gan loss:  12.681487\n",
      "discriminator loss:  -0.11279134\n",
      "gan loss:  14.133786\n",
      "discriminator loss:  -0.09021057\n",
      "gan loss:  15.625987\n",
      "discriminator loss:  -0.08346568\n",
      "gan loss:  15.942385\n",
      "discriminator loss:  -0.19760992\n",
      "gan loss:  15.942385\n",
      "discriminator loss:  -0.13909705\n",
      "gan loss:  15.942385\n",
      "discriminator loss:  -0.1126558\n",
      "gan loss:  15.942385\n",
      "discriminator loss:  -0.19497378\n",
      "gan loss:  15.942385\n",
      "discriminator loss:  -0.1329669\n",
      "gan loss:  15.942385\n",
      "discriminator loss:  -0.15841036\n",
      "gan loss:  15.942385\n",
      "discriminator loss:  -0.0883198\n",
      "gan loss:  15.942385\n",
      "discriminator loss:  -0.15021986\n",
      "gan loss:  15.942385\n",
      "discriminator loss:  -0.13882737\n",
      "gan loss:  15.942385\n",
      "discriminator loss:  -0.12894946\n",
      "gan loss:  15.942385\n",
      "discriminator loss:  -0.14658801\n",
      "gan loss:  15.942385\n",
      "discriminator loss:  -0.109984934\n",
      "gan loss:  15.942385\n",
      "discriminator loss:  -0.13582467\n",
      "gan loss:  15.942385\n",
      "discriminator loss:  -0.14946464\n",
      "gan loss:  15.942385\n",
      "discriminator loss:  -0.10413345\n",
      "gan loss:  15.942385\n",
      "discriminator loss:  -0.12364389\n",
      "gan loss:  15.942385\n",
      "discriminator loss:  -0.12211597\n",
      "gan loss:  15.942385\n",
      "discriminator loss:  -0.15339844\n",
      "gan loss:  15.942385\n",
      "discriminator loss:  -0.15082061\n",
      "gan loss:  15.942385\n",
      "discriminator loss:  -0.14472981\n",
      "gan loss:  15.942385\n",
      "discriminator loss:  -0.14321716\n",
      "gan loss:  15.942385\n",
      "discriminator loss:  -0.122123286\n",
      "gan loss:  15.942385\n",
      "discriminator loss:  -0.16581707\n",
      "gan loss:  15.942385\n",
      "discriminator loss:  -0.113195084\n",
      "gan loss:  15.942385\n",
      "discriminator loss:  -0.1766036\n",
      "gan loss:  15.942385\n",
      "discriminator loss:  -0.15441291\n",
      "gan loss:  15.942385\n",
      "discriminator loss:  -0.12097903\n",
      "gan loss:  15.942385\n",
      "discriminator loss:  -0.16764288\n",
      "gan loss:  15.942385\n",
      "discriminator loss:  -0.14971885\n",
      "gan loss:  15.942385\n",
      "discriminator loss:  -0.14394392\n",
      "gan loss:  15.942385\n",
      "discriminator loss:  -0.089602895\n",
      "gan loss:  15.942385\n",
      "discriminator loss:  -0.1217968\n",
      "gan loss:  15.942385\n",
      "discriminator loss:  -0.10282185\n",
      "gan loss:  15.942385\n",
      "discriminator loss:  -0.10105648\n",
      "gan loss:  15.942385\n",
      "discriminator loss:  -0.1259636\n",
      "gan loss:  15.942385\n",
      "discriminator loss:  -0.16402629\n",
      "gan loss:  15.942385\n",
      "discriminator loss:  -0.08829033\n",
      "gan loss:  15.942385\n",
      "discriminator loss:  -0.08956483\n",
      "gan loss:  15.942385\n",
      "discriminator loss:  -0.12421516\n",
      "gan loss:  15.942385\n",
      "discriminator loss:  -0.0938612\n",
      "gan loss:  15.942385\n",
      "discriminator loss:  -0.1868923\n",
      "gan loss:  15.942385\n",
      "discriminator loss:  -0.111928485\n",
      "gan loss:  15.942385\n",
      "discriminator loss:  -0.12726833\n",
      "gan loss:  15.942385\n",
      "discriminator loss:  -0.114981435\n",
      "gan loss:  15.942385\n",
      "discriminator loss:  -0.11570845\n",
      "gan loss:  15.942385\n",
      "discriminator loss:  -0.14020966\n",
      "gan loss:  15.942385\n",
      "discriminator loss:  -0.17041472\n",
      "gan loss:  15.942385\n",
      "discriminator loss:  -0.10052673\n",
      "gan loss:  15.942385\n",
      "discriminator loss:  -0.15321977\n",
      "gan loss:  15.942385\n",
      "discriminator loss:  -0.15763569\n",
      "gan loss:  15.942385\n",
      "discriminator loss:  -0.10687838\n",
      "gan loss:  15.942385\n",
      "discriminator loss:  -0.117154576\n",
      "gan loss:  15.942385\n",
      "discriminator loss:  -0.14334303\n",
      "gan loss:  15.942385\n",
      "discriminator loss:  -0.12441291\n",
      "gan loss:  15.942385\n",
      "discriminator loss:  -0.15471646\n",
      "gan loss:  15.942385\n",
      "discriminator loss:  -0.11106149\n",
      "gan loss:  15.942385\n",
      "discriminator loss:  -0.11392927\n",
      "gan loss:  15.942385\n",
      "discriminator loss:  -0.11228774\n",
      "gan loss:  15.942385\n",
      "discriminator loss:  -0.141493\n",
      "gan loss:  15.942385\n",
      "discriminator loss:  -0.17504196\n",
      "gan loss:  15.942385\n",
      "discriminator loss:  -0.14231789\n",
      "gan loss:  15.942385\n",
      "discriminator loss:  -0.13258912\n",
      "gan loss:  15.942385\n",
      "discriminator loss:  -0.17618246\n",
      "gan loss:  15.942385\n",
      "discriminator loss:  -0.14571154\n",
      "gan loss:  15.942385\n",
      "discriminator loss:  -0.15133521\n",
      "gan loss:  15.942385\n",
      "discriminator loss:  -0.10812525\n",
      "gan loss:  15.942385\n",
      "discriminator loss:  -0.1329991\n",
      "gan loss:  15.942385\n",
      "discriminator loss:  -0.12272741\n",
      "gan loss:  15.942385\n",
      "discriminator loss:  -0.14619377\n",
      "gan loss:  15.942385\n",
      "discriminator loss:  -0.121351585\n",
      "gan loss:  15.942385\n",
      "discriminator loss:  -0.11510247\n",
      "gan loss:  15.942385\n",
      "discriminator loss:  -0.13604827\n",
      "gan loss:  15.942385\n",
      "discriminator loss:  -0.14615619\n",
      "gan loss:  15.942385\n",
      "discriminator loss:  -0.16299279\n",
      "gan loss:  15.942385\n",
      "discriminator loss:  -0.13012397\n",
      "gan loss:  15.942385\n",
      "discriminator loss:  -0.17816108\n",
      "gan loss:  15.942385\n",
      "discriminator loss:  -0.17374736\n",
      "gan loss:  15.942385\n",
      "discriminator loss:  -0.16385034\n",
      "gan loss:  15.942385\n",
      "discriminator loss:  -0.13709156\n",
      "gan loss:  15.942385\n",
      "discriminator loss:  -0.1421741\n",
      "gan loss:  15.942385\n",
      "discriminator loss:  -0.17205502\n",
      "gan loss:  15.942385\n",
      "discriminator loss:  -0.08916583\n",
      "gan loss:  15.942385\n",
      "discriminator loss:  -0.16492435\n",
      "gan loss:  15.942385\n",
      "discriminator loss:  -0.12345805\n",
      "gan loss:  15.942385\n",
      "discriminator loss:  -0.11454563\n",
      "gan loss:  15.942385\n",
      "discriminator loss:  -0.15947765\n",
      "gan loss:  15.942385\n",
      "discriminator loss:  -0.17603934\n",
      "gan loss:  15.942385\n",
      "discriminator loss:  -0.11279019\n",
      "gan loss:  15.942385\n",
      "discriminator loss:  -0.1305525\n",
      "gan loss:  15.942385\n",
      "discriminator loss:  -0.104612604\n",
      "gan loss:  15.942385\n",
      "discriminator loss:  -0.21018068\n",
      "gan loss:  15.942385\n",
      "discriminator loss:  -0.115325764\n",
      "gan loss:  15.942385\n",
      "discriminator loss:  -0.13315257\n",
      "gan loss:  15.942385\n",
      "discriminator loss:  -0.13034758\n",
      "gan loss:  15.942385\n",
      "discriminator loss:  -0.14953154\n",
      "gan loss:  15.942385\n",
      "discriminator loss:  -0.114631355\n",
      "gan loss:  15.942385\n",
      "discriminator loss:  -0.1487656\n",
      "gan loss:  15.942385\n",
      "discriminator loss:  -0.09231673\n",
      "gan loss:  15.942385\n",
      "discriminator loss:  -0.08911304\n",
      "gan loss:  15.942385\n",
      "discriminator loss:  -0.14474502\n",
      "gan loss:  15.942385\n",
      "discriminator loss:  -0.14746125\n",
      "gan loss:  15.942385\n",
      "discriminator loss:  -0.12990665\n",
      "gan loss:  15.942385\n",
      "discriminator loss:  -0.10747764\n",
      "gan loss:  15.942385\n",
      "discriminator loss:  -0.1496445\n",
      "gan loss:  15.942385\n",
      "discriminator loss:  -0.08497258\n",
      "gan loss:  15.942385\n",
      "discriminator loss:  -0.10489184\n",
      "gan loss:  15.942385\n",
      "discriminator loss:  -0.16849253\n",
      "gan loss:  15.942385\n",
      "discriminator loss:  -0.080061994\n",
      "gan loss:  15.942385\n",
      "discriminator loss:  -0.13731027\n",
      "gan loss:  15.942385\n",
      "discriminator loss:  -0.13678403\n",
      "gan loss:  15.942385\n",
      "discriminator loss:  -0.14758395\n",
      "gan loss:  15.942385\n",
      "discriminator loss:  -0.20729995\n",
      "gan loss:  15.942385\n",
      "discriminator loss:  -0.115770996\n",
      "gan loss:  15.942385\n",
      "discriminator loss:  -0.099485956\n",
      "gan loss:  15.942385\n",
      "discriminator loss:  -0.1821169\n",
      "gan loss:  15.942385\n",
      "discriminator loss:  -0.14769742\n",
      "gan loss:  15.942385\n",
      "discriminator loss:  -0.12055831\n",
      "gan loss:  15.942385\n",
      "discriminator loss:  -0.16811983\n",
      "gan loss:  15.942385\n",
      "discriminator loss:  -0.18955126\n",
      "gan loss:  15.942385\n",
      "discriminator loss:  -0.11513215\n",
      "gan loss:  15.942385\n",
      "discriminator loss:  -0.13101676\n",
      "gan loss:  15.942385\n",
      "discriminator loss:  -0.18166266\n",
      "gan loss:  15.942385\n",
      "discriminator loss:  -0.1439428\n",
      "gan loss:  15.942385\n",
      "discriminator loss:  -0.13655052\n",
      "gan loss:  15.942385\n",
      "discriminator loss:  -0.16554806\n",
      "gan loss:  15.942385\n",
      "discriminator loss:  -0.122504495\n",
      "gan loss:  15.942385\n",
      "discriminator loss:  -0.19428816\n",
      "gan loss:  15.942385\n",
      "discriminator loss:  -0.10425063\n",
      "gan loss:  15.942385\n",
      "discriminator loss:  -0.13192792\n",
      "gan loss:  15.942385\n",
      "discriminator loss:  -0.1519414\n",
      "gan loss:  15.942385\n",
      "discriminator loss:  -0.12799606\n",
      "gan loss:  15.942385\n",
      "discriminator loss:  -0.14907442\n",
      "gan loss:  15.942385\n",
      "discriminator loss:  -0.12559226\n",
      "gan loss:  15.942385\n",
      "discriminator loss:  -0.15846984\n",
      "gan loss:  15.942385\n",
      "discriminator loss:  -0.0987131\n",
      "gan loss:  15.942385\n",
      "discriminator loss:  -0.15954028\n",
      "gan loss:  15.942385\n",
      "discriminator loss:  -0.16297902\n",
      "gan loss:  15.942385\n",
      "discriminator loss:  -0.1308733\n",
      "gan loss:  15.942385\n",
      "discriminator loss:  -0.14118545\n",
      "gan loss:  15.942385\n",
      "discriminator loss:  -0.1503021\n",
      "gan loss:  15.942385\n",
      "discriminator loss:  -0.14844266\n",
      "gan loss:  15.942385\n",
      "discriminator loss:  -0.2155054\n",
      "gan loss:  15.942385\n",
      "discriminator loss:  -0.16486779\n",
      "gan loss:  15.942385\n",
      "discriminator loss:  -0.17277399\n",
      "gan loss:  15.942385\n",
      "discriminator loss:  -0.16238992\n",
      "gan loss:  15.942385\n",
      "discriminator loss:  -0.14199853\n",
      "gan loss:  15.942385\n",
      "discriminator loss:  -0.12139146\n",
      "gan loss:  15.942385\n"
     ]
    },
    {
     "name": "stdout",
     "output_type": "stream",
     "text": [
      "discriminator loss:  -0.123353615\n",
      "gan loss:  15.942385\n",
      "discriminator loss:  -0.17884359\n",
      "gan loss:  15.942385\n",
      "discriminator loss:  -0.13867031\n",
      "gan loss:  15.942385\n",
      "discriminator loss:  -0.15428571\n",
      "gan loss:  15.942385\n",
      "discriminator loss:  -0.1610001\n",
      "gan loss:  15.942385\n",
      "discriminator loss:  -0.08125786\n",
      "gan loss:  15.942385\n",
      "discriminator loss:  -0.13780746\n",
      "gan loss:  15.942385\n",
      "discriminator loss:  -0.13964298\n",
      "gan loss:  15.942385\n",
      "discriminator loss:  -0.14595878\n",
      "gan loss:  15.942385\n",
      "discriminator loss:  -0.12967394\n",
      "gan loss:  15.942385\n",
      "discriminator loss:  -0.17993483\n",
      "gan loss:  15.942385\n",
      "discriminator loss:  -0.14487562\n",
      "gan loss:  15.942385\n",
      "discriminator loss:  -0.13019896\n",
      "gan loss:  15.942385\n",
      "discriminator loss:  -0.11352603\n",
      "gan loss:  15.942385\n",
      "discriminator loss:  -0.110939525\n",
      "gan loss:  15.942385\n",
      "discriminator loss:  -0.14877193\n",
      "gan loss:  15.942385\n",
      "discriminator loss:  -0.13520889\n",
      "gan loss:  15.942385\n",
      "discriminator loss:  -0.118448414\n",
      "gan loss:  15.942385\n",
      "discriminator loss:  -0.18759172\n",
      "gan loss:  15.942385\n",
      "discriminator loss:  -0.09490625\n",
      "gan loss:  15.942385\n",
      "discriminator loss:  -0.119504154\n",
      "gan loss:  15.942385\n",
      "discriminator loss:  -0.12883547\n",
      "gan loss:  15.942385\n",
      "discriminator loss:  -0.15472057\n",
      "gan loss:  15.942385\n",
      "discriminator loss:  -0.1243225\n",
      "gan loss:  15.942385\n",
      "discriminator loss:  -0.12992136\n",
      "gan loss:  15.942385\n",
      "discriminator loss:  -0.1635736\n",
      "gan loss:  15.942385\n",
      "discriminator loss:  -0.13321033\n",
      "gan loss:  15.942385\n",
      "discriminator loss:  -0.13387582\n",
      "gan loss:  15.942385\n",
      "discriminator loss:  -0.11929767\n",
      "gan loss:  15.942385\n",
      "discriminator loss:  -0.14572178\n",
      "gan loss:  15.942385\n",
      "discriminator loss:  -0.1345743\n",
      "gan loss:  15.942385\n",
      "discriminator loss:  -0.15282524\n",
      "gan loss:  15.942385\n",
      "discriminator loss:  -0.16080649\n",
      "gan loss:  15.942385\n",
      "discriminator loss:  -0.12100365\n",
      "gan loss:  15.942385\n",
      "discriminator loss:  -0.11991161\n",
      "gan loss:  15.942385\n",
      "discriminator loss:  -0.15787518\n",
      "gan loss:  15.942385\n",
      "discriminator loss:  -0.14264913\n",
      "gan loss:  15.942385\n",
      "discriminator loss:  -0.17930925\n",
      "gan loss:  15.942385\n",
      "discriminator loss:  -0.10515127\n",
      "gan loss:  15.942385\n",
      "discriminator loss:  -0.13327312\n",
      "gan loss:  15.942385\n",
      "discriminator loss:  -0.1172717\n",
      "gan loss:  15.942385\n",
      "discriminator loss:  -0.11663239\n",
      "gan loss:  15.942385\n",
      "discriminator loss:  -0.15730263\n",
      "gan loss:  15.942385\n",
      "discriminator loss:  -0.14721671\n",
      "gan loss:  15.942385\n",
      "discriminator loss:  -0.1401899\n",
      "gan loss:  15.942385\n",
      "discriminator loss:  -0.12798572\n",
      "gan loss:  15.942385\n",
      "discriminator loss:  -0.18402503\n",
      "gan loss:  15.942385\n",
      "discriminator loss:  -0.11160892\n",
      "gan loss:  15.942385\n",
      "discriminator loss:  -0.15326872\n",
      "gan loss:  15.942385\n",
      "discriminator loss:  -0.12136988\n",
      "gan loss:  15.942385\n",
      "discriminator loss:  -0.13788456\n",
      "gan loss:  15.942385\n",
      "discriminator loss:  -0.2095654\n",
      "gan loss:  15.942385\n",
      "discriminator loss:  -0.14311714\n",
      "gan loss:  15.942385\n",
      "discriminator loss:  -0.14729948\n",
      "gan loss:  15.942385\n",
      "discriminator loss:  -0.12237705\n",
      "gan loss:  15.942385\n",
      "discriminator loss:  -0.14170982\n",
      "gan loss:  15.942385\n",
      "discriminator loss:  -0.15622927\n",
      "gan loss:  15.942385\n",
      "discriminator loss:  -0.09713818\n",
      "gan loss:  15.942385\n",
      "discriminator loss:  -0.1136453\n",
      "gan loss:  15.942385\n",
      "discriminator loss:  -0.11272216\n",
      "gan loss:  15.942385\n",
      "discriminator loss:  -0.10853722\n",
      "gan loss:  15.942385\n",
      "discriminator loss:  -0.10620372\n",
      "gan loss:  15.942385\n",
      "discriminator loss:  -0.11762984\n",
      "gan loss:  15.942385\n",
      "discriminator loss:  -0.14407669\n",
      "gan loss:  15.942385\n",
      "discriminator loss:  -0.10540893\n",
      "gan loss:  15.942385\n",
      "discriminator loss:  -0.11550368\n",
      "gan loss:  15.942385\n",
      "discriminator loss:  -0.09793476\n",
      "gan loss:  15.942385\n",
      "discriminator loss:  -0.13253286\n",
      "gan loss:  15.942385\n",
      "discriminator loss:  -0.15934034\n",
      "gan loss:  15.942385\n",
      "discriminator loss:  -0.087232575\n",
      "gan loss:  15.942385\n",
      "discriminator loss:  -0.099324465\n",
      "gan loss:  15.942385\n",
      "discriminator loss:  -0.1458424\n",
      "gan loss:  15.942385\n",
      "discriminator loss:  -0.09148295\n",
      "gan loss:  15.942385\n",
      "discriminator loss:  -0.1538186\n",
      "gan loss:  15.942385\n",
      "discriminator loss:  -0.14631483\n",
      "gan loss:  15.759207\n",
      "discriminator loss:  -0.15949234\n",
      "gan loss:  15.942385\n",
      "discriminator loss:  -0.15133819\n",
      "gan loss:  15.942385\n",
      "discriminator loss:  -0.09388375\n",
      "gan loss:  15.942385\n",
      "discriminator loss:  -0.17471866\n",
      "gan loss:  15.942385\n",
      "discriminator loss:  -0.13223389\n",
      "gan loss:  15.942385\n",
      "discriminator loss:  -0.18426771\n",
      "gan loss:  15.942385\n",
      "discriminator loss:  -0.12126555\n",
      "gan loss:  15.942385\n",
      "discriminator loss:  -0.12807669\n",
      "gan loss:  15.942385\n",
      "discriminator loss:  -0.16381608\n",
      "gan loss:  15.942385\n",
      "discriminator loss:  -0.11636206\n",
      "gan loss:  15.942385\n",
      "discriminator loss:  -0.12982307\n",
      "gan loss:  15.942385\n",
      "discriminator loss:  -0.15992463\n",
      "gan loss:  15.942385\n",
      "discriminator loss:  -0.13944331\n",
      "gan loss:  15.942385\n",
      "discriminator loss:  -0.1460858\n",
      "gan loss:  15.942385\n",
      "discriminator loss:  -0.14100172\n",
      "gan loss:  15.942385\n",
      "discriminator loss:  -0.19932735\n",
      "gan loss:  15.942385\n",
      "discriminator loss:  -0.12696245\n",
      "gan loss:  15.942385\n",
      "discriminator loss:  -0.18363507\n",
      "gan loss:  15.942385\n",
      "discriminator loss:  -0.14827485\n",
      "gan loss:  15.942385\n",
      "discriminator loss:  -0.12562382\n",
      "gan loss:  15.942385\n",
      "discriminator loss:  -0.15973377\n",
      "gan loss:  15.942385\n",
      "discriminator loss:  -0.15397009\n",
      "gan loss:  15.942385\n",
      "discriminator loss:  -0.1754426\n",
      "gan loss:  15.942385\n",
      "discriminator loss:  -0.11293801\n",
      "gan loss:  15.942385\n",
      "discriminator loss:  -0.18644938\n",
      "gan loss:  15.942385\n",
      "discriminator loss:  -0.13780412\n",
      "gan loss:  15.942385\n",
      "discriminator loss:  -0.12688032\n",
      "gan loss:  15.942385\n",
      "discriminator loss:  -0.17192651\n",
      "gan loss:  15.942385\n",
      "discriminator loss:  -0.16153212\n",
      "gan loss:  15.942385\n",
      "discriminator loss:  -0.14546111\n",
      "gan loss:  15.942385\n",
      "discriminator loss:  -0.1579149\n",
      "gan loss:  15.942385\n",
      "discriminator loss:  -0.13429694\n",
      "gan loss:  15.942385\n",
      "discriminator loss:  -0.13379495\n",
      "gan loss:  15.942385\n",
      "discriminator loss:  -0.14258964\n",
      "gan loss:  15.942385\n",
      "discriminator loss:  -0.076933056\n",
      "gan loss:  15.942385\n",
      "discriminator loss:  -0.12019203\n",
      "gan loss:  15.942385\n",
      "discriminator loss:  -0.17922142\n",
      "gan loss:  15.942385\n",
      "discriminator loss:  -0.15435275\n",
      "gan loss:  15.942385\n",
      "discriminator loss:  -0.17846356\n",
      "gan loss:  15.942385\n",
      "discriminator loss:  -0.13540237\n",
      "gan loss:  15.942385\n",
      "discriminator loss:  -0.16806445\n",
      "gan loss:  15.942385\n",
      "discriminator loss:  -0.14593895\n",
      "gan loss:  15.942385\n",
      "discriminator loss:  -0.13399588\n",
      "gan loss:  15.942385\n",
      "discriminator loss:  -0.10481534\n",
      "gan loss:  15.942385\n",
      "discriminator loss:  -0.18384662\n",
      "gan loss:  15.942385\n",
      "discriminator loss:  -0.16145055\n",
      "gan loss:  15.942385\n",
      "discriminator loss:  -0.10985632\n",
      "gan loss:  15.942385\n",
      "discriminator loss:  -0.12833658\n",
      "gan loss:  15.942385\n",
      "discriminator loss:  -0.113959216\n",
      "gan loss:  15.942385\n",
      "discriminator loss:  -0.1633012\n",
      "gan loss:  15.942385\n",
      "discriminator loss:  -0.096188076\n",
      "gan loss:  15.942385\n",
      "discriminator loss:  -0.09718714\n",
      "gan loss:  15.942385\n",
      "discriminator loss:  -0.08599618\n",
      "gan loss:  15.942385\n",
      "discriminator loss:  -0.09587673\n",
      "gan loss:  15.942385\n",
      "discriminator loss:  -0.102176346\n",
      "gan loss:  15.942385\n",
      "discriminator loss:  -0.14392214\n",
      "gan loss:  15.942385\n",
      "discriminator loss:  -0.15726264\n",
      "gan loss:  15.942385\n",
      "discriminator loss:  -0.13222782\n",
      "gan loss:  15.942385\n",
      "discriminator loss:  -0.16024302\n",
      "gan loss:  15.942385\n",
      "discriminator loss:  -0.12671342\n",
      "gan loss:  15.942385\n",
      "discriminator loss:  -0.087236464\n",
      "gan loss:  15.942385\n",
      "discriminator loss:  -0.12689584\n",
      "gan loss:  15.942385\n",
      "discriminator loss:  -0.18434843\n",
      "gan loss:  15.942385\n",
      "discriminator loss:  -0.13084549\n",
      "gan loss:  15.942385\n",
      "discriminator loss:  -0.13937317\n",
      "gan loss:  15.942385\n",
      "discriminator loss:  -0.13368563\n",
      "gan loss:  15.942385\n",
      "discriminator loss:  -0.1509533\n",
      "gan loss:  15.942385\n",
      "discriminator loss:  -0.115777686\n",
      "gan loss:  15.942385\n",
      "discriminator loss:  -0.13882735\n",
      "gan loss:  15.942385\n",
      "discriminator loss:  -0.16656937\n",
      "gan loss:  15.942385\n",
      "discriminator loss:  -0.14574035\n",
      "gan loss:  15.942385\n",
      "discriminator loss:  -0.13948102\n",
      "gan loss:  15.942385\n",
      "discriminator loss:  -0.12438742\n",
      "gan loss:  15.942385\n",
      "discriminator loss:  -0.14839652\n",
      "gan loss:  15.942385\n",
      "discriminator loss:  -0.13973574\n",
      "gan loss:  15.942385\n",
      "discriminator loss:  -0.114969805\n",
      "gan loss:  15.942385\n",
      "discriminator loss:  -0.106695\n",
      "gan loss:  15.942385\n"
     ]
    },
    {
     "name": "stdout",
     "output_type": "stream",
     "text": [
      "discriminator loss:  -0.12936291\n",
      "gan loss:  15.942385\n",
      "discriminator loss:  -0.15830667\n",
      "gan loss:  15.942385\n",
      "discriminator loss:  -0.12100054\n",
      "gan loss:  15.942385\n",
      "discriminator loss:  -0.09006938\n",
      "gan loss:  15.942385\n",
      "discriminator loss:  -0.1167144\n",
      "gan loss:  15.942385\n",
      "discriminator loss:  -0.11599078\n",
      "gan loss:  15.942385\n",
      "discriminator loss:  -0.13704467\n",
      "gan loss:  15.942385\n",
      "discriminator loss:  -0.16465047\n",
      "gan loss:  15.942385\n",
      "discriminator loss:  -0.19673151\n",
      "gan loss:  15.942385\n",
      "discriminator loss:  -0.123262405\n",
      "gan loss:  15.942385\n",
      "discriminator loss:  -0.13498439\n",
      "gan loss:  15.942385\n",
      "discriminator loss:  -0.15211482\n",
      "gan loss:  15.942385\n",
      "discriminator loss:  -0.11275093\n",
      "gan loss:  15.942385\n",
      "discriminator loss:  -0.12630716\n",
      "gan loss:  15.942385\n",
      "discriminator loss:  -0.09205715\n",
      "gan loss:  15.942385\n",
      "discriminator loss:  -0.13993624\n",
      "gan loss:  15.942385\n",
      "discriminator loss:  -0.1275923\n",
      "gan loss:  15.942385\n",
      "discriminator loss:  -0.118582584\n",
      "gan loss:  15.942385\n",
      "discriminator loss:  -0.17425229\n",
      "gan loss:  15.942385\n",
      "discriminator loss:  -0.10237183\n",
      "gan loss:  15.942385\n",
      "discriminator loss:  -0.14722843\n",
      "gan loss:  15.942385\n",
      "discriminator loss:  -0.1853906\n",
      "gan loss:  15.942385\n",
      "discriminator loss:  -0.16100052\n",
      "gan loss:  15.942385\n",
      "discriminator loss:  -0.14614809\n",
      "gan loss:  15.942385\n",
      "discriminator loss:  -0.10521388\n",
      "gan loss:  15.942385\n",
      "discriminator loss:  -0.13843176\n",
      "gan loss:  15.942385\n",
      "discriminator loss:  -0.1854051\n",
      "gan loss:  15.942385\n",
      "discriminator loss:  -0.14703982\n",
      "gan loss:  15.942385\n",
      "discriminator loss:  -0.10785017\n",
      "gan loss:  15.942385\n",
      "discriminator loss:  -0.15404941\n",
      "gan loss:  15.942385\n",
      "discriminator loss:  -0.14571062\n",
      "gan loss:  15.942385\n",
      "discriminator loss:  -0.1283522\n",
      "gan loss:  15.942385\n",
      "discriminator loss:  -0.14771006\n",
      "gan loss:  15.942385\n",
      "discriminator loss:  -0.10873618\n",
      "gan loss:  15.942385\n",
      "discriminator loss:  -0.12044966\n",
      "gan loss:  15.942385\n",
      "discriminator loss:  -0.18654022\n",
      "gan loss:  15.942385\n",
      "discriminator loss:  -0.1843304\n",
      "gan loss:  15.942385\n",
      "discriminator loss:  -0.12199066\n",
      "gan loss:  15.907727\n",
      "discriminator loss:  -0.12432438\n",
      "gan loss:  15.942385\n",
      "discriminator loss:  -0.08512952\n",
      "gan loss:  15.942385\n"
     ]
    }
   ],
   "source": [
    "# 記錄起始索引的參數\n",
    "idx_start = 0\n",
    "for i in range(iterations):\n",
    "    # 從高斯分佈空間中隨機sample出資料點\n",
    "    random_vectors = np.random.normal(size=(batch_size, laten_dim))\n",
    "    # 從generator model取得output\n",
    "    # 依我們所設置的模型，會回傳Nx32x32x3的資料\n",
    "    generator_img = generator.predict(random_vectors)\n",
    "    # 目前的結束索引\n",
    "    idx_stop = idx_start + batch_size\n",
    "    # 利用索引取得相對應的真實照片\n",
    "    true_imgs = x_train[idx_start: idx_stop]\n",
    "    # 將真假堆疊在一起\n",
    "    combian_imgs = np.concatenate([generator_img, true_imgs])\n",
    "    # 產生相對應的label，生成為假：1，真實照片：0\n",
    "    labels = np.concatenate([np.ones((batch_size, 1)), \n",
    "                             np.zeros((batch_size, 1))])\n",
    "    \n",
    "    # 在label中加入隨機的噪點，很多事不能說明為什麼\n",
    "    # 跟著打牌就不會放槍就是了\n",
    "    labels += 0.05 * np.random.random(labels.shape)\n",
    "    \n",
    "    # 目前已經隨機生成照片，要拿這些照片來訓練discriminator\n",
    "    discriminator_loss = discriminator.train_on_batch(combian_imgs, labels)\n",
    "    \n",
    "    # 現在，discriminator已經知道這些是假照片，因此要更新generator\n",
    "    # 接下來的生成照片，印象中李弘毅老師的線上課程中有提到，要不要重新生成都可以    \n",
    "    random_vectors = np.random.normal(size=(batch_size, laten_dim))\n",
    "    # 產生上面新生成照片的labels\n",
    "    # 這邊設置的標籤是『Positive』，這是因為我們要欺騙discriminator\n",
    "    # 讓discriminator感覺這個generator生成的照片是真的\n",
    "    # 這個過程之後generator就升級了\n",
    "    generator_labels = np.zeros((batch_size, 1))\n",
    "    # 訓練gan model，記得這時候訓練的是我們凍結discriminator的模型-gan\n",
    "    gan_loss = gan.train_on_batch(random_vectors, generator_labels)\n",
    "    \n",
    "    # 更新索引\n",
    "    idx_start = idx_start + batch_size \n",
    "    # 判斷索引是否超過資料集索引，超過的話就重新計算\n",
    "    # 這邊也要特別注意到資料集數量與batch_size的設置關係，要可以整除\n",
    "    if idx_start > len(x_train) - batch_size:\n",
    "        idx_start = 0\n",
    "        \n",
    "    # 這邊每100次迭代記錄一次\n",
    "    if i % 100 == 0:\n",
    "        gan.save_weights('gan.h5')\n",
    "        \n",
    "        print('discriminator loss: ', discriminator_loss)\n",
    "        print('gan loss: ', gan_loss)\n",
    "        \n",
    "        save_generator_img(generator_img, 4, 5, i)\n",
    "#         img = image.array_to_img(generator_img[0] * 255., scale=False)\n",
    "#         img.save(os.path.join(folder_path, 'epoch-' + str(i) + '-generator.jpg'))\n",
    "        \n",
    "#         img = image.array_to_img(true_imgs[0] * 255., scale=False)\n",
    "#         img.save(os.path.join(folder_path, 'epoch-' + str(i) + '-true_image.jpg'))        \n",
    "    "
   ]
  },
  {
   "cell_type": "markdown",
   "metadata": {},
   "source": [
    "## 確認生成照片"
   ]
  },
  {
   "cell_type": "code",
   "execution_count": 50,
   "metadata": {},
   "outputs": [],
   "source": [
    "import matplotlib.pyplot as plt\n",
    "import matplotlib.image as mpimg\n",
    "%matplotlib inline"
   ]
  },
  {
   "cell_type": "code",
   "execution_count": 70,
   "metadata": {},
   "outputs": [
    {
     "data": {
      "text/plain": [
       "<matplotlib.image.AxesImage at 0x7f18d01b3ba8>"
      ]
     },
     "execution_count": 70,
     "metadata": {},
     "output_type": "execute_result"
    },
    {
     "data": {
      "image/png": "[encoded data removed]",
      "text/plain": [
       "<Figure size 432x288 with 1 Axes>"
      ]
     },
     "metadata": {
      "needs_background": "light"
     },
     "output_type": "display_data"
    }
   ],
   "source": [
    "img_path = 'epoch-9600-generator.jpg'\n",
    "gen_img = mpimg.imread(img_path)\n",
    "plt.imshow(gen_img)"
   ]
  },
  {
   "cell_type": "markdown",
   "metadata": {},
   "source": [
    "像哈巴狗?"
   ]
  },
  {
   "cell_type": "code",
   "execution_count": 106,
   "metadata": {},
   "outputs": [
    {
     "data": {
      "text/plain": [
       "<matplotlib.image.AxesImage at 0x7f18c071c940>"
      ]
     },
     "execution_count": 106,
     "metadata": {},
     "output_type": "execute_result"
    },
    {
     "data": {
      "image/png": "[encoded data removed]",
      "text/plain": [
       "<Figure size 432x288 with 1 Axes>"
      ]
     },
     "metadata": {
      "needs_background": "light"
     },
     "output_type": "display_data"
    }
   ],
   "source": [
    "img_path = 'generator9800.png'\n",
    "gen_img = mpimg.imread(img_path)\n",
    "plt.imshow(gen_img)"
   ]
  },
  {
   "cell_type": "code",
   "execution_count": 117,
   "metadata": {},
   "outputs": [
    {
     "data": {
      "text/plain": [
       "<matplotlib.image.AxesImage at 0x7f18c04c4710>"
      ]
     },
     "execution_count": 117,
     "metadata": {},
     "output_type": "execute_result"
    },
    {
     "data": {
      "image/png": "[encoded data removed]",
      "text/plain": [
       "<Figure size 432x288 with 1 Axes>"
      ]
     },
     "metadata": {
      "needs_background": "light"
     },
     "output_type": "display_data"
    }
   ],
   "source": [
    "img_path = 'generator14800.png'\n",
    "gen_img = mpimg.imread(img_path)\n",
    "plt.imshow(gen_img)"
   ]
  },
  {
   "cell_type": "markdown",
   "metadata": {},
   "source": [
    "## 結論"
   ]
  },
  {
   "cell_type": "markdown",
   "metadata": {},
   "source": [
    "範例可以看的出來，在Keras的高階api協助之下，實作GAN並不是那麼樣子的困難，但GAN的訓練有許多比程式碼還要困難的部份(上面結果可以發現，優化的並不是那麼好)，不管是Generator還是Discriminator，過強或過弱對模型來說都不是好事，許多情況下GAN難以訓練，需要的是參數上的不斷調校，唯有不斷的踩雷才能擁有足夠的經驗。"
   ]
  },
  {
   "cell_type": "markdown",
   "metadata": {},
   "source": [
    "後記：後面繼續訓練約50,000次迭代之後就整個壞掉了!"
   ]
  },
  {
   "cell_type": "markdown",
   "metadata": {},
   "source": [
    "## 延伸"
   ]
  },
  {
   "cell_type": "markdown",
   "metadata": {},
   "source": [
    "單純保存一張照片似乎較難以判斷生成狀況，下面function將圖片串接起來"
   ]
  },
  {
   "cell_type": "markdown",
   "metadata": {},
   "source": [
    "直接使用keras自帶工具來處理照片保存的作業"
   ]
  },
  {
   "cell_type": "code",
   "execution_count": 72,
   "metadata": {},
   "outputs": [],
   "source": [
    "import numpy as np\n",
    "from keras.preprocessing import image"
   ]
  },
  {
   "cell_type": "code",
   "execution_count": 101,
   "metadata": {},
   "outputs": [],
   "source": [
    "def save_generator_img(generator_img, h_int, w_int, epoch, save_file_name='generator', save_dir='.'):\n",
    "    \"\"\"保存generator生成的照片\n",
    "    function:\n",
    "        利用keras自帶工具keras.preprocessing.Image保存照片\n",
    "    \n",
    "    parameters:\n",
    "        generator_img: generator生成的numpy object\n",
    "        h_int: 湊成一張照片的時候高要幾張\n",
    "        w_ing: 湊成一張照片的時候寬要幾張\n",
    "        epoch: 第幾次的迭代，保存照片的時候插入檔案名稱\n",
    "        save_file_name: 檔案名稱，預設為generator\n",
    "        save_dir: 保存的路徑，預設在執行程式的根目錄    \n",
    "        \n",
    "    remark:\n",
    "        h_int x w_int 不能超過generator_img的長度，一定只能等於\n",
    "    \n",
    "    example:\n",
    "        save_generator_img(generator_img, 4, 5, 9900)\n",
    "    \"\"\"\n",
    "    # 取得資料維度\n",
    "    N, H, W, C = generator_img.shape\n",
    "    \n",
    "    # 驗證拼湊照片數量相符\n",
    "    assert int(h_int) * int(w_int) == N        \n",
    "    \n",
    "    # 開一張全zero的大陣列\n",
    "    target_img = np.zeros(shape=(h_int * H, w_int * W, C))\n",
    "    \n",
    "    # 索引\n",
    "    now_idx = 0    \n",
    "    for h_idx in range(h_int):\n",
    "        for w_idx in range(w_int):\n",
    "            # 取得照片\n",
    "            _img = generator_img[now_idx]\n",
    "            # 取代相對應陣列位置\n",
    "            target_img[h_idx * H: h_idx * H + H, w_idx * W: w_idx * W + W] = _img                        \n",
    "            now_idx += 1\n",
    "    \n",
    "    \n",
    "    file_name = os.path.join(save_dir, save_file_name + str(epoch) + '.png')\n",
    "    save_img = image.array_to_img(target_img * 255., scale=False)\n",
    "    save_img.save(file_name)                         "
   ]
  }
 ],
 "metadata": {
  "kernelspec": {
   "display_name": "Python 3",
   "language": "python",
   "name": "python3"
  },
  "language_info": {
   "codemirror_mode": {
    "name": "ipython",
    "version": 3
   },
   "file_extension": ".py",
   "mimetype": "text/x-python",
   "name": "python",
   "nbconvert_exporter": "python",
   "pygments_lexer": "ipython3",
   "version": "3.5.2"
  }
 },
 "nbformat": 4,
 "nbformat_minor": 2
}
