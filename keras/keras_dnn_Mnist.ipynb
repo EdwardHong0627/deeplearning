{
 "cells": [
  {
   "cell_type": "markdown",
   "metadata": {},
   "source": [
    "載入需求套件  \n",
    "keras.utils.np_utils應用於numpy的延伸工具  \n",
    "預設backend為tensorflow"
   ]
  },
  {
   "cell_type": "code",
   "execution_count": 161,
   "metadata": {},
   "outputs": [],
   "source": [
    "from keras.utils import np_utils\n",
    "import numpy as np\n",
    "import pandas as pd\n",
    "import matplotlib.pyplot as plt\n",
    "from keras.models import Sequential, Model\n",
    "from keras.layers import Dense\n",
    "\n",
    "\n",
    "np.random.seed(10)\n",
    "%matplotlib inline"
   ]
  },
  {
   "cell_type": "markdown",
   "metadata": {},
   "source": [
    "確認keras版本  \n",
    "[官方中文文檔](https://keras.io/zh/)"
   ]
  },
  {
   "cell_type": "code",
   "execution_count": 4,
   "metadata": {},
   "outputs": [
    {
     "data": {
      "text/plain": [
       "'2.1.6'"
      ]
     },
     "execution_count": 4,
     "metadata": {},
     "output_type": "execute_result"
    }
   ],
   "source": [
    "keras.__version__"
   ]
  },
  {
   "cell_type": "markdown",
   "metadata": {},
   "source": [
    "此資料集為手寫辨識，若目錄底下沒有資料會重新下載，需要多點時間  \n",
    "下載之後檔案置於user\\.keras\\datasets"
   ]
  },
  {
   "cell_type": "code",
   "execution_count": 5,
   "metadata": {
    "collapsed": true
   },
   "outputs": [],
   "source": [
    "#  keras自帶資料集\n",
    "from keras.datasets import mnist\n",
    "mnist_data = mnist.load_data()"
   ]
  },
  {
   "cell_type": "markdown",
   "metadata": {},
   "source": [
    "載入資料集後的第一件事是觀察你的資料集，舉凡訓練集、測試集樣本數，以及資料維度  \n",
    "我們可以發現，資料集是二值化之後的照片，所以維度為(28,28)"
   ]
  },
  {
   "cell_type": "code",
   "execution_count": 6,
   "metadata": {},
   "outputs": [
    {
     "data": {
      "text/plain": [
       "2"
      ]
     },
     "execution_count": 6,
     "metadata": {},
     "output_type": "execute_result"
    }
   ],
   "source": [
    "#  觀察資料集\n",
    "len(mnist_data)"
   ]
  },
  {
   "cell_type": "code",
   "execution_count": 7,
   "metadata": {
    "collapsed": true
   },
   "outputs": [],
   "source": [
    "#  index[0]為訓練資料集，index[1]為測試驗證資料集\n",
    "#  做資料賦值\n",
    "X_train_original, y_train_original = mnist_data[0]\n",
    "X_test_original, y_test_original = mnist_data[1]"
   ]
  },
  {
   "cell_type": "code",
   "execution_count": 8,
   "metadata": {},
   "outputs": [
    {
     "name": "stdout",
     "output_type": "stream",
     "text": [
      "train example: 60000\n",
      "train_data_shape: (60000, 28, 28)\n",
      "train_label_shape: (60000,)\n",
      "test_example: 10000\n",
      "test_data_shape: (10000, 28, 28)\n",
      "test_label_shape: (10000,)\n"
     ]
    }
   ],
   "source": [
    "print('train example:', X_train_original.shape[0])\n",
    "print('train_data_shape:', X_train_original.shape)\n",
    "print('train_label_shape:', y_train_original.shape)\n",
    "print('test_example:', X_test_original.shape[0])\n",
    "print('test_data_shape:', X_test_original.shape)\n",
    "print('test_label_shape:', y_test_original.shape)"
   ]
  },
  {
   "cell_type": "markdown",
   "metadata": {},
   "source": [
    "嚐試利用plt.imshow來顯示資料集照片"
   ]
  },
  {
   "cell_type": "code",
   "execution_count": 9,
   "metadata": {},
   "outputs": [
    {
     "data": {
      "image/png": "[encoded data removed]",
      "text/plain": [
       "<matplotlib.figure.Figure at 0x16754f60>"
      ]
     },
     "metadata": {},
     "output_type": "display_data"
    }
   ],
   "source": [
    "plt.figure(figsize=(2,2))\n",
    "#  cmap=binary代表以灰階表示\n",
    "plt.imshow(X_train_original[0], cmap='binary')\n",
    "plt.show()"
   ]
  },
  {
   "cell_type": "markdown",
   "metadata": {},
   "source": [
    "也可以定義一個函數來做多圖片檢閱"
   ]
  },
  {
   "cell_type": "code",
   "execution_count": 28,
   "metadata": {},
   "outputs": [
    {
     "data": {
      "text/plain": [
       "numpy.uint8"
      ]
     },
     "execution_count": 28,
     "metadata": {},
     "output_type": "execute_result"
    }
   ],
   "source": [
    "type(y_test_original[1])"
   ]
  },
  {
   "cell_type": "code",
   "execution_count": 258,
   "metadata": {},
   "outputs": [],
   "source": [
    "import math\n",
    "\n",
    "def plt_image(images, labels, predict_labels=[], idx_start=0, idx_batch_size=10):\n",
    "    \"\"\"\n",
    "    images:來源照片(x)\n",
    "    labels：來源照片類別(y)\n",
    "    predict_labels:預測照片類別\n",
    "    idx_start:起始索引\n",
    "        預設為0\n",
    "    idx_batch_size:每次讀取量\n",
    "        預設為10\n",
    "    \n",
    "    當每次讀取批量>20的時候會以20取值\n",
    "    \"\"\"\n",
    "    #  判斷索引值是否超過10，若超過10則idx_end重新賦值\n",
    "    if idx_batch_size > 20:\n",
    "        idx_batch_size = 20   \n",
    "    \n",
    "    rows = int(math.ceil(idx_batch_size / 5))\n",
    "    #  設置圖表尺寸\n",
    "    plt.figure(figsize=(8,4))\n",
    "    for i in range(idx_batch_size): \n",
    "        ax = plt.subplot(rows,5,i+1)\n",
    "        #  取消x、y軸的刻度\n",
    "        plt.xticks(())        \n",
    "        plt.yticks(())\n",
    "        #  設置x軸的label為\n",
    "        ax.set_xlabel('True labels:' + str(labels[idx_start]) + ',idx:' + str(idx_start))\n",
    "        #  如果predict_labls不是空值，那就帶入資料\n",
    "        if len(predict_labels)>0:            \n",
    "            ax.set_title('Predict labels:' + str(predict_labels[idx_start]))\n",
    "        ax.imshow(images[idx_start], cmap='binary')\n",
    "        #  換下一筆\n",
    "        idx_start += 1        \n",
    "         \n",
    "    #  確保資料呈現正常    \n",
    "    plt.tight_layout()    \n",
    "    plt.show()        "
   ]
  },
  {
   "cell_type": "code",
   "execution_count": 246,
   "metadata": {},
   "outputs": [
    {
     "data": {
      "image/png": "[encoded data removed]",
      "text/plain": [
       "<matplotlib.figure.Figure at 0x3f30a630>"
      ]
     },
     "metadata": {},
     "output_type": "display_data"
    }
   ],
   "source": [
    "#  圖形檢閱資料集\n",
    "plt_image(X_test_original, y_test_original,idx_start=130, idx_batch_size=25)"
   ]
  },
  {
   "cell_type": "markdown",
   "metadata": {},
   "source": [
    "深度神經網路中，DNN的輸入維度是(n, m)，n為特徵，m為資料集，目前我們的資料集為(m, pixel_x, pixel_y)，也就是(60000, 28, 28)，我們必需將照片pixel向量化(或稱flatten)，變成28\\*28=784，意指特徵n=784，m=60000。"
   ]
  },
  {
   "cell_type": "code",
   "execution_count": 138,
   "metadata": {},
   "outputs": [
    {
     "data": {
      "text/plain": [
       "(784, 60000)"
      ]
     },
     "execution_count": 138,
     "metadata": {},
     "output_type": "execute_result"
    }
   ],
   "source": [
    "#  透過reshape將資料調整為(m, n)再轉置為(n, m)\n",
    "#  參數-1所指為剩下的，即28*28=784\n",
    "X_train_original.reshape(X_train_original.shape[0], -1).T.shape"
   ]
  },
  {
   "cell_type": "code",
   "execution_count": 139,
   "metadata": {},
   "outputs": [],
   "source": [
    "X_train_flatten = X_train_original.reshape(X_train_original.shape[0], -1).T\n",
    "X_test_flatten = X_test_original.reshape(X_test_original.shape[0], -1).T"
   ]
  },
  {
   "cell_type": "markdown",
   "metadata": {},
   "source": [
    "資料的處理通常都會做標準化來收縮資料分佈，在照片上最常見的處理方式就是除255"
   ]
  },
  {
   "cell_type": "code",
   "execution_count": 140,
   "metadata": {},
   "outputs": [],
   "source": [
    "X_train = X_train_flatten / 255\n",
    "X_test = X_test_flatten / 255"
   ]
  },
  {
   "cell_type": "markdown",
   "metadata": {},
   "source": [
    "label的部份，我們有10個類別(0-9)，這需要利用one-hot encoding來調整。  \n",
    "0 = [1,0,0,0,0,0,0,0,0,0]  \n",
    "1 = [0,1,0,0,0,0,0,0,0,0]  \n",
    "2 = [0,0,1,0,0,0,0,0,0,0]  \n",
    "3 = [0,0,0,1,0,0,0,0,0,0]  \n",
    "4 = [0,0,0,0,1,0,0,0,0,0]   \n",
    "5 = [0,0,0,0,0,1,0,0,0,0]   \n",
    "6 = [0,0,0,0,0,0,1,0,0,0]  \n",
    "7 = [0,0,0,0,0,0,0,1,0,0]  \n",
    "8 = [0,0,0,0,0,0,0,0,1,0]  \n",
    "9 = [0,0,0,0,0,0,0,0,0,1]  \n",
    "keras可以快速的幫我們完成這個變更，我們所import的np_utils.to_categorical可以完成one-hot encoding。"
   ]
  },
  {
   "cell_type": "code",
   "execution_count": 128,
   "metadata": {
    "collapsed": true
   },
   "outputs": [],
   "source": [
    "y_train = np_utils.to_categorical(y_train_original, num_classes=10)\n",
    "y_test =  np_utils.to_categorical(y_test_original, num_classes=10)"
   ]
  },
  {
   "cell_type": "markdown",
   "metadata": {},
   "source": [
    "在調整之後記得確認資料維度是否正確，並且檢查label是否轉置正常"
   ]
  },
  {
   "cell_type": "code",
   "execution_count": 143,
   "metadata": {},
   "outputs": [
    {
     "name": "stdout",
     "output_type": "stream",
     "text": [
      "feature numbers: 784\n",
      "train example: 60000\n",
      "train_data_shape: (784, 60000)\n",
      "train_label_shape: (60000, 10)\n",
      "test_example: 10000\n",
      "test_data_shape: (784, 10000)\n",
      "test_label_shape: (10000, 10)\n",
      "y_test: [0. 0. 1. 0. 0. 0. 0. 0. 0. 0.]\n",
      "y_test_original: 2\n"
     ]
    }
   ],
   "source": [
    "print('feature numbers:', X_train.shape[0])\n",
    "print('train example:', X_train.shape[1])\n",
    "print('train_data_shape:', X_train.shape)\n",
    "print('train_label_shape:', y_train.shape)\n",
    "print('test_example:', X_test.shape[1])\n",
    "print('test_data_shape:', X_test.shape)\n",
    "print('test_label_shape:', y_test.shape)\n",
    "print('y_test:',y_test[1])\n",
    "print('y_test_original:', y_test_original[1])"
   ]
  },
  {
   "cell_type": "markdown",
   "metadata": {},
   "source": [
    "目前為止，我們的資料預處理已經完成，特徵數(n)=784，訓練樣本數=60000，測試樣本數=10000，預測類別=10(0-9)，接下來要開始建置模型，keras創立之初就是希望從業人員可以專注在模型的建立，而不是程式架構的建置，也因此keras減少了很多在tensorflow上的很多工作。  \n",
    "DNN為標準神經網路，輸入層不算，最後一層為輸出層，中間為隱藏層，普遍來說，除非最後的輸出類別為二類才會特別使用sigmoid，否則隱藏層activation function多為relu(建議)或tanh，最後輸出多類別再使用softmax。  \n",
    "理論來說，愈深的神經網路效果會更好，因為有了更複雜的函數連結，但是相對的也可能產生梯度消失或梯度爆炸的問題，這部份需要特別注意。"
   ]
  },
  {
   "cell_type": "markdown",
   "metadata": {},
   "source": [
    "神經網路實作中首注意為維度問題，當然在利用framework來訓練模型的時候，很多部份都由framework來處理了，連最困擾的back propagation也會由framework計算完畢，行業人員只需要觀注在『模型架構』上即可。但對相關觀念建議還是需要有，避免在實作中遇到維度問題而無法排除。  "
   ]
  },
  {
   "cell_type": "markdown",
   "metadata": {},
   "source": [
    "此例我們預計使用5層神經網路，即為輸入層、隱藏層\\*4、輸出層，這邊注意到，L層神經網路中所指並不包含輸入層，故L=5為隱藏層\\*4+輸出層。  \n",
    "* forward propagation  \n",
    "$W^{[l]}=(n^{[l]}, n^{[l-1]})$   \n",
    "$b^{[l]}=(n^{[l]}, 1)$  \n",
    "$Z^{[l]}=W^{[l]}A^{[l-1]}$  \n",
    "$A^{[l]}=g(Z^{[l]})$  \n",
    "\n",
    "下面說明著整個神經網路在各層的維度  \n",
    "* 輸入層\n",
    "    * dimension:(784, 60000)\n",
    "    * n:784\n",
    "    * m:60000\n",
    "* 隱藏層\\_1\n",
    "    * hidden_unit:392\n",
    "    * weights:(392, 784)\n",
    "    * bias:(392, 1)\n",
    "    * output:(392, 60000)\n",
    "* 隱藏層\\_2\n",
    "    * hidden_unit:196\n",
    "    * weights:(196, 392)\n",
    "    * bias:(196, 1)\n",
    "    * output:(196, 60000)\n",
    "* 隱藏層\\_3\n",
    "    * hidden_unit:98\n",
    "    * weights:(98, 196)\n",
    "    * bias:(98, 1)\n",
    "    * output:(98, 60000)\n",
    "* 隱藏層\\_4\n",
    "    * hidden_unit:49\n",
    "    * weights:(49, 98)\n",
    "    * bias:(49, 1)\n",
    "    * output:(49, 60000)\n",
    "* 輸出層\n",
    "    * weights:(10, 49)\n",
    "    * bias:(10, 1)\n",
    "    * ouput:(10, 60000)\n",
    "\n"
   ]
  },
  {
   "cell_type": "markdown",
   "metadata": {},
   "source": [
    "keras在建置模型的時候有兩種方式，以順序架構(`keras.models.Sequential`)或是以函式設置(`keras.models.Model`)，前者可快速建模初步了解模型效能與資料關聯，後者重用性高，這部份沒有優劣，再各自以需求採用即可。"
   ]
  },
  {
   "cell_type": "markdown",
   "metadata": {},
   "source": [
    "## Sequential\n",
    "[sequential](https://keras.io/zh/getting-started/sequential-model-guide/)是順序性的堆疊起來的神經網路，可初始實作Sequential的時候即設置好模型，也可以利用`model.add`來加入各層。  \n",
    "[Dense](https://keras.io/zh/layers/core/)是普通全連接層，裡面眾多參數都請參考官方文件說明較為清楚。"
   ]
  },
  {
   "cell_type": "markdown",
   "metadata": {},
   "source": [
    "我們先設置輸入層，輸入層所設置的`input_shape`等同於`input_dim`，只是設置的方式稍有不同，同時會在輸入層中設置輸出數量(units)，即隱藏層(l=1)的的hidden_unit數量。"
   ]
  },
  {
   "cell_type": "code",
   "execution_count": 351,
   "metadata": {},
   "outputs": [],
   "source": [
    "#  實作\n",
    "model = Sequential()\n",
    "#  l=1\n",
    "#  注意到我們的shape設置為(784,)，在tensorflow會設置為None\n",
    "model.add(Dense(units=392  #  輸出數量\n",
    "                , activation='relu'  #  啟動函數\n",
    "                , kernel_initializer='he_normal'  #  權重初始化方式\n",
    "                , kernel_regularizer='l2'  #  正規化方式\n",
    "                , input_shape=(784,)))  #  輸入維度，僅l=1層需要設置"
   ]
  },
  {
   "cell_type": "markdown",
   "metadata": {},
   "source": [
    "設置其它隱藏層(l=2~4)"
   ]
  },
  {
   "cell_type": "code",
   "execution_count": 178,
   "metadata": {
    "collapsed": true
   },
   "outputs": [],
   "source": [
    "model.add(Dense(units=196  #  輸出數量，0-9\n",
    "                , activation='relu'  #  啟動函數\n",
    "                , kernel_initializer='he_normal'  #  權重初始化方式\n",
    "                , kernel_regularizer='l2'))  #  正規化方式\n",
    "model.add(Dense(units=98  #  輸出數量，0-9\n",
    "                , activation='relu'  #  啟動函數\n",
    "                , kernel_initializer='he_normal'  #  權重初始化方式\n",
    "                , kernel_regularizer='l2'))  #  正規化方式\n",
    "model.add(Dense(units=49  #  輸出數量，0-9\n",
    "                , activation='relu'  #  啟動函數\n",
    "                , kernel_initializer='he_normal'  #  權重初始化方式\n",
    "                , kernel_regularizer='l2'))  #  正規化方式"
   ]
  },
  {
   "cell_type": "markdown",
   "metadata": {},
   "source": [
    "設置輸出層(l=5)，輸出層跟其它隱藏層的不同在於啟動函數我們不再使用rele，而是softmax。"
   ]
  },
  {
   "cell_type": "code",
   "execution_count": 179,
   "metadata": {
    "collapsed": true
   },
   "outputs": [],
   "source": [
    "model.add(Dense(units=10  #  輸出數量，0-9\n",
    "                , activation='softmax'  #  啟動函數以softmax執行\n",
    "                , kernel_initializer='he_normal'  #  權重初始化方式\n",
    "                , kernel_regularizer='l2'))  #  正規化方式                "
   ]
  },
  {
   "cell_type": "markdown",
   "metadata": {},
   "source": [
    "在keras中，可以透過`model.summary()`來快速觀察目前的神經網路架構以及訓練參數數量，也可以看到OutputShape的部份有一個None，這是因為模型目前沒有資料集數量的原因。  \n",
    "第一層的權重參數=784\\*392(weights)+392(bias)=307720，其它層以相同方式計算。參數數量可以讓我們用來判斷需求的計算資源，如在CNN中如以VGG16架構來執行的話，總參數上億，需求計算資源非常可觀。"
   ]
  },
  {
   "cell_type": "code",
   "execution_count": 180,
   "metadata": {},
   "outputs": [
    {
     "name": "stdout",
     "output_type": "stream",
     "text": [
      "_________________________________________________________________\n",
      "Layer (type)                 Output Shape              Param #   \n",
      "=================================================================\n",
      "dense_6 (Dense)              (None, 392)               307720    \n",
      "_________________________________________________________________\n",
      "dense_7 (Dense)              (None, 196)               77028     \n",
      "_________________________________________________________________\n",
      "dense_8 (Dense)              (None, 98)                19306     \n",
      "_________________________________________________________________\n",
      "dense_9 (Dense)              (None, 49)                4851      \n",
      "_________________________________________________________________\n",
      "dense_10 (Dense)             (None, 10)                500       \n",
      "=================================================================\n",
      "Total params: 409,405\n",
      "Trainable params: 409,405\n",
      "Non-trainable params: 0\n",
      "_________________________________________________________________\n"
     ]
    }
   ],
   "source": [
    "model.summary()"
   ]
  },
  {
   "cell_type": "markdown",
   "metadata": {},
   "source": [
    "如上面所提，透過framework來執行的話我們只需要考量forward propagation，backpropagation的部份會依我們設置的參數由framework來做相對應的執行。  \n",
    "所以，接下來我們以`model.compile`來設置模型的訓練參數：\n",
    "* 設置[最佳化](https://keras.io/zh/optimizers/)：SGD、RMSprop、Dropout、Adam...等  \n",
    "* 設置[損失函數](https://keras.io/zh/losses/)：mean_squared_error、categorical_crossentropy...等\n",
    "* 設置[評估方式](https://keras.io/zh/metrics/)"
   ]
  },
  {
   "cell_type": "code",
   "execution_count": 181,
   "metadata": {},
   "outputs": [],
   "source": [
    "model.compile(optimizer='adam'\n",
    "              , loss='categorical_crossentropy'\n",
    "              , metrics=['accuracy'])"
   ]
  },
  {
   "cell_type": "markdown",
   "metadata": {},
   "source": [
    "最後，我們準備[訓練模型](https://keras.io/zh/models/sequential/)，主要設置的參數會有每次訓練批量以及迭代次數，如有需求可以設置驗證比例，這會從訓練集從取相對應的比例做驗證資料集，訓練之後會回傳`History`物件，裡面會保存著相關資料，所以我們設置一個history來接訓練之後的資料。  \n",
    "註：在keras中，訓練集的維度為(m, n)，故此例為(60000, 784)，所以在參數上做了矩陣轉置。"
   ]
  },
  {
   "cell_type": "code",
   "execution_count": 182,
   "metadata": {
    "scrolled": true
   },
   "outputs": [
    {
     "name": "stdout",
     "output_type": "stream",
     "text": [
      "Train on 48000 samples, validate on 12000 samples\n",
      "Epoch 1/20\n",
      "48000/48000 [==============================] - 7s 137us/step - loss: 3.7891 - acc: 0.8437 - val_loss: 1.4712 - val_acc: 0.9105\n",
      "Epoch 2/20\n",
      "48000/48000 [==============================] - 6s 122us/step - loss: 1.2479 - acc: 0.9069 - val_loss: 1.0738 - val_acc: 0.9243\n",
      "Epoch 3/20\n",
      "48000/48000 [==============================] - 6s 116us/step - loss: 1.0383 - acc: 0.9186 - val_loss: 0.9734 - val_acc: 0.9241\n",
      "Epoch 4/20\n",
      "48000/48000 [==============================] - 6s 118us/step - loss: 0.9572 - acc: 0.9214 - val_loss: 0.9032 - val_acc: 0.9318\n",
      "Epoch 5/20\n",
      "48000/48000 [==============================] - 6s 117us/step - loss: 0.9190 - acc: 0.9222 - val_loss: 0.8824 - val_acc: 0.9301\n",
      "Epoch 6/20\n",
      "48000/48000 [==============================] - 6s 117us/step - loss: 0.8876 - acc: 0.9262 - val_loss: 0.8582 - val_acc: 0.9325\n",
      "Epoch 7/20\n",
      "48000/48000 [==============================] - 6s 130us/step - loss: 0.8696 - acc: 0.9273 - val_loss: 0.8372 - val_acc: 0.9377\n",
      "Epoch 8/20\n",
      "48000/48000 [==============================] - 6s 119us/step - loss: 0.8596 - acc: 0.9266 - val_loss: 0.8299 - val_acc: 0.9327\n",
      "Epoch 9/20\n",
      "48000/48000 [==============================] - 6s 122us/step - loss: 0.8459 - acc: 0.9284 - val_loss: 0.8257 - val_acc: 0.9347\n",
      "Epoch 10/20\n",
      "48000/48000 [==============================] - 6s 121us/step - loss: 0.8356 - acc: 0.9303 - val_loss: 0.8314 - val_acc: 0.9311\n",
      "Epoch 11/20\n",
      "48000/48000 [==============================] - 6s 120us/step - loss: 0.8334 - acc: 0.9300 - val_loss: 0.8224 - val_acc: 0.9332\n",
      "Epoch 12/20\n",
      "48000/48000 [==============================] - 6s 121us/step - loss: 0.8238 - acc: 0.9315 - val_loss: 0.8060 - val_acc: 0.9383\n",
      "Epoch 13/20\n",
      "48000/48000 [==============================] - 6s 122us/step - loss: 0.8206 - acc: 0.9316 - val_loss: 0.8142 - val_acc: 0.9322\n",
      "Epoch 14/20\n",
      "48000/48000 [==============================] - 6s 122us/step - loss: 0.8192 - acc: 0.9330 - val_loss: 0.8039 - val_acc: 0.9418\n",
      "Epoch 15/20\n",
      "48000/48000 [==============================] - 6s 120us/step - loss: 0.8134 - acc: 0.9337 - val_loss: 0.8077 - val_acc: 0.9381\n",
      "Epoch 16/20\n",
      "48000/48000 [==============================] - 6s 120us/step - loss: 0.8094 - acc: 0.9349 - val_loss: 0.7942 - val_acc: 0.9404\n",
      "Epoch 17/20\n",
      "48000/48000 [==============================] - 6s 120us/step - loss: 0.8080 - acc: 0.9343 - val_loss: 0.7937 - val_acc: 0.9399\n",
      "Epoch 18/20\n",
      "48000/48000 [==============================] - 6s 120us/step - loss: 0.8065 - acc: 0.9351 - val_loss: 0.7887 - val_acc: 0.9432\n",
      "Epoch 19/20\n",
      "48000/48000 [==============================] - 6s 121us/step - loss: 0.8051 - acc: 0.9342 - val_loss: 0.8078 - val_acc: 0.9346\n",
      "Epoch 20/20\n",
      "48000/48000 [==============================] - 6s 120us/step - loss: 0.8009 - acc: 0.9360 - val_loss: 0.8250 - val_acc: 0.9262\n"
     ]
    }
   ],
   "source": [
    "history = model.fit(X_train.T, y_train, batch_size=256, epochs=20, validation_split=0.2)"
   ]
  },
  {
   "cell_type": "markdown",
   "metadata": {},
   "source": [
    "訓練結果可以看的出在訓練資料集與驗證資料集中還是存在著可避免方差，這部份可以透過模型調整來優化，但範例只是演示，故不會在調校上多著墨，在實作模型的時候我們可以嚐試著快速的執行一次，以了解目前的模型狀況，才有辦法依著定義的方向來調整，是資料集不足，或是特徵不足，諸如此類問題，甚至手動記錄錯誤資料，以此了解調整方向"
   ]
  },
  {
   "cell_type": "markdown",
   "metadata": {},
   "source": [
    "不管如何，在快速完成一次訓練之後，我們可以透過history將模型資訊可視化，以了解loss、acc比較。  \n",
    "先了解history內有資料結構，依據官方文件說明，`history.history`內保存著資料集的訓練記錄，格式為dict。"
   ]
  },
  {
   "cell_type": "code",
   "execution_count": 183,
   "metadata": {
    "scrolled": true
   },
   "outputs": [
    {
     "data": {
      "text/plain": [
       "{'acc': [0.8437083333333333,\n",
       "  0.9069375,\n",
       "  0.9185833333333333,\n",
       "  0.9214166666666667,\n",
       "  0.9221666666666667,\n",
       "  0.9261875,\n",
       "  0.9273333333333333,\n",
       "  0.9266041666666667,\n",
       "  0.9284375,\n",
       "  0.9302916666666666,\n",
       "  0.9299583333333333,\n",
       "  0.9315208333333334,\n",
       "  0.9316458333333333,\n",
       "  0.9329583333333333,\n",
       "  0.9336666666666666,\n",
       "  0.9348958333333334,\n",
       "  0.9342708333333334,\n",
       "  0.9351458333333333,\n",
       "  0.9342083333333333,\n",
       "  0.9359583333333333],\n",
       " 'loss': [3.7891460405985513,\n",
       "  1.2479315923055012,\n",
       "  1.0382914028167725,\n",
       "  0.9572180608113606,\n",
       "  0.9189907754262289,\n",
       "  0.8876275328000387,\n",
       "  0.8696463591257731,\n",
       "  0.8596362533569336,\n",
       "  0.8459326992034912,\n",
       "  0.835565132300059,\n",
       "  0.8333686955769857,\n",
       "  0.8237910758654277,\n",
       "  0.820629576365153,\n",
       "  0.8191762925783793,\n",
       "  0.8134132835070292,\n",
       "  0.8093970467249553,\n",
       "  0.8079525841077169,\n",
       "  0.8065310808817545,\n",
       "  0.8051052541732788,\n",
       "  0.800931831518809],\n",
       " 'val_acc': [0.9104999996821086,\n",
       "  0.9242500001589458,\n",
       "  0.9240833330154419,\n",
       "  0.9317500003178915,\n",
       "  0.9300833333333334,\n",
       "  0.9324999996821086,\n",
       "  0.9376666669845581,\n",
       "  0.9326666666666666,\n",
       "  0.9346666663487753,\n",
       "  0.9310833330154419,\n",
       "  0.9332499996821085,\n",
       "  0.9383333334922791,\n",
       "  0.9321666668256123,\n",
       "  0.9418333338101705,\n",
       "  0.9380833333333334,\n",
       "  0.9404166666666667,\n",
       "  0.9399166669845581,\n",
       "  0.943166666507721,\n",
       "  0.9345833330154419,\n",
       "  0.9261666663487752],\n",
       " 'val_loss': [1.4711937831242878,\n",
       "  1.0737560675938924,\n",
       "  0.9734405315717062,\n",
       "  0.9031665115356445,\n",
       "  0.8823823130925497,\n",
       "  0.8582136225700379,\n",
       "  0.8372369912465414,\n",
       "  0.8299148248036703,\n",
       "  0.8257329483032226,\n",
       "  0.8314128926595052,\n",
       "  0.8223506700197856,\n",
       "  0.8059749922752381,\n",
       "  0.8141832432746887,\n",
       "  0.803860037167867,\n",
       "  0.8077099259694417,\n",
       "  0.7941965715090433,\n",
       "  0.7937071421941121,\n",
       "  0.7887370341618856,\n",
       "  0.807788976987203,\n",
       "  0.8249771315256754]}"
      ]
     },
     "execution_count": 183,
     "metadata": {},
     "output_type": "execute_result"
    }
   ],
   "source": [
    "history.history"
   ]
  },
  {
   "cell_type": "markdown",
   "metadata": {},
   "source": [
    "了解資料結構之後，我們就可以設置一個function來做可視化"
   ]
  },
  {
   "cell_type": "code",
   "execution_count": 226,
   "metadata": {},
   "outputs": [],
   "source": [
    "def model_history_plot(history, epoch):\n",
    "    \"\"\"\n",
    "    history:訓練記錄，為keras.History.history\n",
    "    epoch:迭代次數，為keras.History.epoch\n",
    "    \n",
    "    首先判斷物件長度是否為4，如果是那代表有啟用驗證資料集，若為2，就代表只有訓練資料集。\n",
    "    \"\"\"\n",
    "    #  用以判斷是否有驗證資料集，如果dict長度為4則賦值為True\n",
    "    val = False\n",
    "    \n",
    "    if len(history)==4:\n",
    "        val = True\n",
    "        val_acc = history['val_acc']\n",
    "        val_loss = history['val_loss']\n",
    "        \n",
    "    acc = history['acc']\n",
    "    loss = history['loss']\n",
    "       \n",
    "    #  設置圖表\n",
    "    plt.figure(figsize=(16,9))\n",
    "    \n",
    "    #  準確度_acc\n",
    "    plt.subplot(121)\n",
    "    plt.xlabel('epoch')\n",
    "    plt.ylabel('acc')\n",
    "    plt.xlim(min(epoch), max(epoch)+1)\n",
    "    plt.plot(epoch, acc, label='train_acc')\n",
    "    \n",
    "    if val:\n",
    "        plt.plot(epoch, val_acc, label='val_cc')\n",
    "    plt.legend(loc='best')\n",
    "    \n",
    "    #  訓練成本_loss\n",
    "    plt.subplot(122)    \n",
    "    plt.xlabel('epoch')\n",
    "    plt.ylabel('loss')\n",
    "    plt.xlim(min(epoch), max(epoch)+1)\n",
    "    plt.plot(epoch, loss, label='train_loss')\n",
    "    \n",
    "    if val:\n",
    "        plt.plot(epoch, val_loss, label='val_loss')            \n",
    "    plt.legend(loc='best')\n",
    "    \n",
    "    plt.tight_layout()\n",
    "    plt.show()\n",
    "    "
   ]
  },
  {
   "cell_type": "code",
   "execution_count": 227,
   "metadata": {},
   "outputs": [
    {
     "data": {
      "image/png": "[encoded data removed]",
      "text/plain": [
       "<matplotlib.figure.Figure at 0x3f406438>"
      ]
     },
     "metadata": {},
     "output_type": "display_data"
    }
   ],
   "source": [
    "model_history_plot(history.history, history.epoch)"
   ]
  },
  {
   "cell_type": "markdown",
   "metadata": {},
   "source": [
    "從上面圖表可以看到，以準確度來說，驗證資料集與訓練資料集存在著方差問題，我們可以試著一個一個參數調校，如l2的正規化參數，或最佳化adam的學習效率，但對於$\\beta$的部份是不建議調整的。"
   ]
  },
  {
   "cell_type": "markdown",
   "metadata": {},
   "source": [
    "現在訓練資料集與驗證資料集都已完成，我們預計確認對於測試資料集的泛化效果，可以利用`model.evaluate`來完成。  \n",
    "`model.evaluate`的回傳是依據你所設置的評估模式，如果自己不確定的話可以利用`model.metrics_name`與`model.metric`來檢閱"
   ]
  },
  {
   "cell_type": "code",
   "execution_count": 228,
   "metadata": {},
   "outputs": [
    {
     "name": "stdout",
     "output_type": "stream",
     "text": [
      "10000/10000 [==============================] - 2s 233us/step\n"
     ]
    }
   ],
   "source": [
    "scores = model.evaluate(X_test.T, y_test)"
   ]
  },
  {
   "cell_type": "code",
   "execution_count": 233,
   "metadata": {},
   "outputs": [
    {
     "data": {
      "text/plain": [
       "['loss', 'acc']"
      ]
     },
     "execution_count": 233,
     "metadata": {},
     "output_type": "execute_result"
    }
   ],
   "source": [
    "model.metrics_names"
   ]
  },
  {
   "cell_type": "code",
   "execution_count": 239,
   "metadata": {},
   "outputs": [
    {
     "name": "stdout",
     "output_type": "stream",
     "text": [
      "train_accuracy: 0.9359583333333333\n",
      "train_accuracy: 0.9261666663487752\n",
      "test_accuracy: 0.9234\n"
     ]
    }
   ],
   "source": [
    "print('train_accuracy:', history.history['acc'][max(history.epoch)])\n",
    "if len(history.history)==4:\n",
    "    print('train_accuracy:', history.history['val_acc'][max(history.epoch)])\n",
    "print('test_accuracy:', scores[1])"
   ]
  },
  {
   "cell_type": "markdown",
   "metadata": {},
   "source": [
    "確認完三個資料集的loss與accuracy之後，我們可以來執行predict，以此了解模型預測的錯誤都在那邊，這部份可以利用keras的`model.predict_class`完成。   \n",
    "完成之後就可以再利用稍早所建立的函數(plt_image)來產生圖表檢識。"
   ]
  },
  {
   "cell_type": "code",
   "execution_count": 250,
   "metadata": {},
   "outputs": [
    {
     "name": "stdout",
     "output_type": "stream",
     "text": [
      "60000/60000 [==============================] - 5s 90us/step\n",
      "10000/10000 [==============================] - 1s 99us/step\n"
     ]
    }
   ],
   "source": [
    "train_predict = model.predict_classes(X_train.T, verbose=1)\n",
    "test_predict = model.predict_classes(X_test.T, verbose=1)"
   ]
  },
  {
   "cell_type": "code",
   "execution_count": 251,
   "metadata": {},
   "outputs": [
    {
     "data": {
      "text/plain": [
       "array([7, 2, 1, ..., 4, 5, 6], dtype=int64)"
      ]
     },
     "execution_count": 251,
     "metadata": {},
     "output_type": "execute_result"
    }
   ],
   "source": [
    "test_predict"
   ]
  },
  {
   "cell_type": "code",
   "execution_count": 259,
   "metadata": {},
   "outputs": [
    {
     "data": {
      "image/png": "[encoded data removed]",
      "text/plain": [
       "<matplotlib.figure.Figure at 0x3f71df60>"
      ]
     },
     "metadata": {},
     "output_type": "display_data"
    }
   ],
   "source": [
    "plt_image(X_train_original, y_train_original, predict_labels=train_predict, idx_start=0, idx_batch_size=20)"
   ]
  },
  {
   "cell_type": "code",
   "execution_count": 260,
   "metadata": {},
   "outputs": [
    {
     "data": {
      "image/png": "[encoded data removed]",
      "text/plain": [
       "<matplotlib.figure.Figure at 0x16b38668>"
      ]
     },
     "metadata": {},
     "output_type": "display_data"
    }
   ],
   "source": [
    "plt_image(X_test_original, y_test_original, predict_labels=test_predict, idx_start=100, idx_batch_size=20)"
   ]
  },
  {
   "cell_type": "markdown",
   "metadata": {},
   "source": [
    "設置遮罩來取得錯誤資料的索引，再利用遮罩來單純的檢閱錯誤資料"
   ]
  },
  {
   "cell_type": "code",
   "execution_count": 263,
   "metadata": {},
   "outputs": [],
   "source": [
    "mask_train = y_train_original != train_predict\n",
    "mask_test = y_test_original != test_predict"
   ]
  },
  {
   "cell_type": "code",
   "execution_count": 268,
   "metadata": {},
   "outputs": [
    {
     "name": "stdout",
     "output_type": "stream",
     "text": [
      "train_error_count: 4506\n",
      "test_error_count: 766\n"
     ]
    }
   ],
   "source": [
    "print('train_error_count:', y_train_original[mask_train].shape[0])\n",
    "print('test_error_count:', y_test_original[mask_test].shape[0])"
   ]
  },
  {
   "cell_type": "code",
   "execution_count": 267,
   "metadata": {},
   "outputs": [
    {
     "data": {
      "image/png": "[encoded data removed]",
      "text/plain": [
       "<matplotlib.figure.Figure at 0x1b2c7fd0>"
      ]
     },
     "metadata": {},
     "output_type": "display_data"
    }
   ],
   "source": [
    "plt_image(X_train_original[mask_train], y_train_original[mask_train], predict_labels=train_predict[mask_train], idx_start=0, idx_batch_size=20)"
   ]
  },
  {
   "cell_type": "code",
   "execution_count": 269,
   "metadata": {},
   "outputs": [
    {
     "data": {
      "image/png": "[encoded data removed]",
      "text/plain": [
       "<matplotlib.figure.Figure at 0x3fc14080>"
      ]
     },
     "metadata": {},
     "output_type": "display_data"
    }
   ],
   "source": [
    "plt_image(X_test_original[mask_test], y_test_original[mask_test], predict_labels=test_predict[mask_test], idx_start=100, idx_batch_size=20)"
   ]
  },
  {
   "cell_type": "markdown",
   "metadata": {},
   "source": [
    "看起來有些資料誤判是其來有自，如果判斷成功反而奇怪，但是不少是應該對而沒對的，這部份就需要透過模型調校來優化。"
   ]
  },
  {
   "cell_type": "markdown",
   "metadata": {},
   "source": [
    "在最後，我們預計利用pandas來呈現交叉比對的資料結果，這可以透過`pandas.crosstab`來完成  \n",
    "這邊提供兩個範例，分別為使用`crosstab`與`pivot_table`"
   ]
  },
  {
   "cell_type": "markdown",
   "metadata": {},
   "source": [
    "因為資料結構的關係，所以使用`crosstab`較為方便，一句就可以達成。"
   ]
  },
  {
   "cell_type": "code",
   "execution_count": 316,
   "metadata": {
    "scrolled": true
   },
   "outputs": [
    {
     "data": {
      "text/html": [
       "<div>\n",
       "<style>\n",
       "    .dataframe thead tr:only-child th {\n",
       "        text-align: right;\n",
       "    }\n",
       "\n",
       "    .dataframe thead th {\n",
       "        text-align: left;\n",
       "    }\n",
       "\n",
       "    .dataframe tbody tr th {\n",
       "        vertical-align: top;\n",
       "    }\n",
       "</style>\n",
       "<table border=\"1\" class=\"dataframe\">\n",
       "  <thead>\n",
       "    <tr style=\"text-align: right;\">\n",
       "      <th>predict_label</th>\n",
       "      <th>0</th>\n",
       "      <th>1</th>\n",
       "      <th>2</th>\n",
       "      <th>3</th>\n",
       "      <th>4</th>\n",
       "      <th>5</th>\n",
       "      <th>6</th>\n",
       "      <th>7</th>\n",
       "      <th>8</th>\n",
       "      <th>9</th>\n",
       "    </tr>\n",
       "    <tr>\n",
       "      <th>test_label</th>\n",
       "      <th></th>\n",
       "      <th></th>\n",
       "      <th></th>\n",
       "      <th></th>\n",
       "      <th></th>\n",
       "      <th></th>\n",
       "      <th></th>\n",
       "      <th></th>\n",
       "      <th></th>\n",
       "      <th></th>\n",
       "    </tr>\n",
       "  </thead>\n",
       "  <tbody>\n",
       "    <tr>\n",
       "      <th>0</th>\n",
       "      <td>966</td>\n",
       "      <td>0</td>\n",
       "      <td>1</td>\n",
       "      <td>3</td>\n",
       "      <td>0</td>\n",
       "      <td>5</td>\n",
       "      <td>0</td>\n",
       "      <td>1</td>\n",
       "      <td>4</td>\n",
       "      <td>0</td>\n",
       "    </tr>\n",
       "    <tr>\n",
       "      <th>1</th>\n",
       "      <td>0</td>\n",
       "      <td>1120</td>\n",
       "      <td>1</td>\n",
       "      <td>5</td>\n",
       "      <td>0</td>\n",
       "      <td>1</td>\n",
       "      <td>2</td>\n",
       "      <td>2</td>\n",
       "      <td>4</td>\n",
       "      <td>0</td>\n",
       "    </tr>\n",
       "    <tr>\n",
       "      <th>2</th>\n",
       "      <td>9</td>\n",
       "      <td>13</td>\n",
       "      <td>916</td>\n",
       "      <td>45</td>\n",
       "      <td>2</td>\n",
       "      <td>0</td>\n",
       "      <td>6</td>\n",
       "      <td>35</td>\n",
       "      <td>5</td>\n",
       "      <td>1</td>\n",
       "    </tr>\n",
       "    <tr>\n",
       "      <th>3</th>\n",
       "      <td>0</td>\n",
       "      <td>0</td>\n",
       "      <td>5</td>\n",
       "      <td>986</td>\n",
       "      <td>0</td>\n",
       "      <td>3</td>\n",
       "      <td>0</td>\n",
       "      <td>11</td>\n",
       "      <td>3</td>\n",
       "      <td>2</td>\n",
       "    </tr>\n",
       "    <tr>\n",
       "      <th>4</th>\n",
       "      <td>1</td>\n",
       "      <td>14</td>\n",
       "      <td>4</td>\n",
       "      <td>0</td>\n",
       "      <td>847</td>\n",
       "      <td>0</td>\n",
       "      <td>11</td>\n",
       "      <td>6</td>\n",
       "      <td>5</td>\n",
       "      <td>94</td>\n",
       "    </tr>\n",
       "    <tr>\n",
       "      <th>5</th>\n",
       "      <td>11</td>\n",
       "      <td>1</td>\n",
       "      <td>1</td>\n",
       "      <td>80</td>\n",
       "      <td>1</td>\n",
       "      <td>766</td>\n",
       "      <td>6</td>\n",
       "      <td>0</td>\n",
       "      <td>11</td>\n",
       "      <td>15</td>\n",
       "    </tr>\n",
       "    <tr>\n",
       "      <th>6</th>\n",
       "      <td>20</td>\n",
       "      <td>4</td>\n",
       "      <td>4</td>\n",
       "      <td>0</td>\n",
       "      <td>7</td>\n",
       "      <td>13</td>\n",
       "      <td>896</td>\n",
       "      <td>2</td>\n",
       "      <td>12</td>\n",
       "      <td>0</td>\n",
       "    </tr>\n",
       "    <tr>\n",
       "      <th>7</th>\n",
       "      <td>2</td>\n",
       "      <td>13</td>\n",
       "      <td>9</td>\n",
       "      <td>11</td>\n",
       "      <td>1</td>\n",
       "      <td>0</td>\n",
       "      <td>0</td>\n",
       "      <td>975</td>\n",
       "      <td>0</td>\n",
       "      <td>17</td>\n",
       "    </tr>\n",
       "    <tr>\n",
       "      <th>8</th>\n",
       "      <td>5</td>\n",
       "      <td>8</td>\n",
       "      <td>3</td>\n",
       "      <td>83</td>\n",
       "      <td>5</td>\n",
       "      <td>19</td>\n",
       "      <td>5</td>\n",
       "      <td>5</td>\n",
       "      <td>822</td>\n",
       "      <td>19</td>\n",
       "    </tr>\n",
       "    <tr>\n",
       "      <th>9</th>\n",
       "      <td>10</td>\n",
       "      <td>9</td>\n",
       "      <td>0</td>\n",
       "      <td>20</td>\n",
       "      <td>7</td>\n",
       "      <td>5</td>\n",
       "      <td>0</td>\n",
       "      <td>15</td>\n",
       "      <td>3</td>\n",
       "      <td>940</td>\n",
       "    </tr>\n",
       "  </tbody>\n",
       "</table>\n",
       "</div>"
      ],
      "text/plain": [
       "predict_label    0     1    2    3    4    5    6    7    8    9\n",
       "test_label                                                      \n",
       "0              966     0    1    3    0    5    0    1    4    0\n",
       "1                0  1120    1    5    0    1    2    2    4    0\n",
       "2                9    13  916   45    2    0    6   35    5    1\n",
       "3                0     0    5  986    0    3    0   11    3    2\n",
       "4                1    14    4    0  847    0   11    6    5   94\n",
       "5               11     1    1   80    1  766    6    0   11   15\n",
       "6               20     4    4    0    7   13  896    2   12    0\n",
       "7                2    13    9   11    1    0    0  975    0   17\n",
       "8                5     8    3   83    5   19    5    5  822   19\n",
       "9               10     9    0   20    7    5    0   15    3  940"
      ]
     },
     "execution_count": 316,
     "metadata": {},
     "output_type": "execute_result"
    }
   ],
   "source": [
    "pd.crosstab(y_test_original, test_predict, rownames=['test_label'], colnames=['predict_label'])"
   ]
  },
  {
   "cell_type": "markdown",
   "metadata": {},
   "source": [
    "如果要使用`pivot_table`的話，在下想到的方法是先合併向量，再提供為Dataframe的資料之後再做`pivot_table`  \n",
    "可參考[個人git](https://github.com/shaoeChen/pandas_foundation/blob/e059a14fcdf85cd7e1031452eed983deb33d4535/pandas/Pandas%2BMultiIndex.ipynb)\n",
    "1. margins:是否總計\n",
    "2. aggfunc:使用的聚合函數，預設為np.means"
   ]
  },
  {
   "cell_type": "code",
   "execution_count": 320,
   "metadata": {},
   "outputs": [
    {
     "data": {
      "text/plain": [
       "(10000, 2)"
      ]
     },
     "execution_count": 320,
     "metadata": {},
     "output_type": "execute_result"
    }
   ],
   "source": [
    "#  將資料合併\n",
    "hstack_test = np.hstack((y_test_original.reshape(y_test_original.shape[0],1), test_predict.reshape(test_predict.shape[0],1)))\n",
    "hstack_test.shape"
   ]
  },
  {
   "cell_type": "code",
   "execution_count": 350,
   "metadata": {},
   "outputs": [
    {
     "data": {
      "text/html": [
       "<div>\n",
       "<style>\n",
       "    .dataframe thead tr:only-child th {\n",
       "        text-align: right;\n",
       "    }\n",
       "\n",
       "    .dataframe thead th {\n",
       "        text-align: left;\n",
       "    }\n",
       "\n",
       "    .dataframe tbody tr th {\n",
       "        vertical-align: top;\n",
       "    }\n",
       "</style>\n",
       "<table border=\"1\" class=\"dataframe\">\n",
       "  <thead>\n",
       "    <tr style=\"text-align: right;\">\n",
       "      <th></th>\n",
       "      <th>y_test_original</th>\n",
       "      <th>test_predict</th>\n",
       "    </tr>\n",
       "  </thead>\n",
       "  <tbody>\n",
       "    <tr>\n",
       "      <th>0</th>\n",
       "      <td>7</td>\n",
       "      <td>7</td>\n",
       "    </tr>\n",
       "    <tr>\n",
       "      <th>1</th>\n",
       "      <td>2</td>\n",
       "      <td>2</td>\n",
       "    </tr>\n",
       "    <tr>\n",
       "      <th>2</th>\n",
       "      <td>1</td>\n",
       "      <td>1</td>\n",
       "    </tr>\n",
       "    <tr>\n",
       "      <th>3</th>\n",
       "      <td>0</td>\n",
       "      <td>0</td>\n",
       "    </tr>\n",
       "    <tr>\n",
       "      <th>4</th>\n",
       "      <td>4</td>\n",
       "      <td>4</td>\n",
       "    </tr>\n",
       "  </tbody>\n",
       "</table>\n",
       "</div>"
      ],
      "text/plain": [
       "   y_test_original  test_predict\n",
       "0                7             7\n",
       "1                2             2\n",
       "2                1             1\n",
       "3                0             0\n",
       "4                4             4"
      ]
     },
     "execution_count": 350,
     "metadata": {},
     "output_type": "execute_result"
    }
   ],
   "source": [
    "#  實作DataFrame\n",
    "data = pd.DataFrame(hstack_test)\n",
    "#  設置欄位名稱\n",
    "data.columns=['y_test_original','test_predict']\n",
    "#  檢查前五筆資料\n",
    "data.head()"
   ]
  },
  {
   "cell_type": "code",
   "execution_count": 349,
   "metadata": {},
   "outputs": [
    {
     "data": {
      "text/html": [
       "<div>\n",
       "<style>\n",
       "    .dataframe thead tr:only-child th {\n",
       "        text-align: right;\n",
       "    }\n",
       "\n",
       "    .dataframe thead th {\n",
       "        text-align: left;\n",
       "    }\n",
       "\n",
       "    .dataframe tbody tr th {\n",
       "        vertical-align: top;\n",
       "    }\n",
       "</style>\n",
       "<table border=\"1\" class=\"dataframe\">\n",
       "  <thead>\n",
       "    <tr style=\"text-align: right;\">\n",
       "      <th>test_predict</th>\n",
       "      <th>0</th>\n",
       "      <th>1</th>\n",
       "      <th>2</th>\n",
       "      <th>3</th>\n",
       "      <th>4</th>\n",
       "      <th>5</th>\n",
       "      <th>6</th>\n",
       "      <th>7</th>\n",
       "      <th>8</th>\n",
       "      <th>9</th>\n",
       "      <th>All</th>\n",
       "    </tr>\n",
       "    <tr>\n",
       "      <th>y_test_original</th>\n",
       "      <th></th>\n",
       "      <th></th>\n",
       "      <th></th>\n",
       "      <th></th>\n",
       "      <th></th>\n",
       "      <th></th>\n",
       "      <th></th>\n",
       "      <th></th>\n",
       "      <th></th>\n",
       "      <th></th>\n",
       "      <th></th>\n",
       "    </tr>\n",
       "  </thead>\n",
       "  <tbody>\n",
       "    <tr>\n",
       "      <th>0</th>\n",
       "      <td>966.0</td>\n",
       "      <td>NaN</td>\n",
       "      <td>1.0</td>\n",
       "      <td>3.0</td>\n",
       "      <td>NaN</td>\n",
       "      <td>5.0</td>\n",
       "      <td>NaN</td>\n",
       "      <td>1.0</td>\n",
       "      <td>4.0</td>\n",
       "      <td>NaN</td>\n",
       "      <td>980.0</td>\n",
       "    </tr>\n",
       "    <tr>\n",
       "      <th>1</th>\n",
       "      <td>NaN</td>\n",
       "      <td>1120.0</td>\n",
       "      <td>1.0</td>\n",
       "      <td>5.0</td>\n",
       "      <td>NaN</td>\n",
       "      <td>1.0</td>\n",
       "      <td>2.0</td>\n",
       "      <td>2.0</td>\n",
       "      <td>4.0</td>\n",
       "      <td>NaN</td>\n",
       "      <td>1135.0</td>\n",
       "    </tr>\n",
       "    <tr>\n",
       "      <th>2</th>\n",
       "      <td>9.0</td>\n",
       "      <td>13.0</td>\n",
       "      <td>916.0</td>\n",
       "      <td>45.0</td>\n",
       "      <td>2.0</td>\n",
       "      <td>NaN</td>\n",
       "      <td>6.0</td>\n",
       "      <td>35.0</td>\n",
       "      <td>5.0</td>\n",
       "      <td>1.0</td>\n",
       "      <td>1032.0</td>\n",
       "    </tr>\n",
       "    <tr>\n",
       "      <th>3</th>\n",
       "      <td>NaN</td>\n",
       "      <td>NaN</td>\n",
       "      <td>5.0</td>\n",
       "      <td>986.0</td>\n",
       "      <td>NaN</td>\n",
       "      <td>3.0</td>\n",
       "      <td>NaN</td>\n",
       "      <td>11.0</td>\n",
       "      <td>3.0</td>\n",
       "      <td>2.0</td>\n",
       "      <td>1010.0</td>\n",
       "    </tr>\n",
       "    <tr>\n",
       "      <th>4</th>\n",
       "      <td>1.0</td>\n",
       "      <td>14.0</td>\n",
       "      <td>4.0</td>\n",
       "      <td>NaN</td>\n",
       "      <td>847.0</td>\n",
       "      <td>NaN</td>\n",
       "      <td>11.0</td>\n",
       "      <td>6.0</td>\n",
       "      <td>5.0</td>\n",
       "      <td>94.0</td>\n",
       "      <td>982.0</td>\n",
       "    </tr>\n",
       "    <tr>\n",
       "      <th>5</th>\n",
       "      <td>11.0</td>\n",
       "      <td>1.0</td>\n",
       "      <td>1.0</td>\n",
       "      <td>80.0</td>\n",
       "      <td>1.0</td>\n",
       "      <td>766.0</td>\n",
       "      <td>6.0</td>\n",
       "      <td>NaN</td>\n",
       "      <td>11.0</td>\n",
       "      <td>15.0</td>\n",
       "      <td>892.0</td>\n",
       "    </tr>\n",
       "    <tr>\n",
       "      <th>6</th>\n",
       "      <td>20.0</td>\n",
       "      <td>4.0</td>\n",
       "      <td>4.0</td>\n",
       "      <td>NaN</td>\n",
       "      <td>7.0</td>\n",
       "      <td>13.0</td>\n",
       "      <td>896.0</td>\n",
       "      <td>2.0</td>\n",
       "      <td>12.0</td>\n",
       "      <td>NaN</td>\n",
       "      <td>958.0</td>\n",
       "    </tr>\n",
       "    <tr>\n",
       "      <th>7</th>\n",
       "      <td>2.0</td>\n",
       "      <td>13.0</td>\n",
       "      <td>9.0</td>\n",
       "      <td>11.0</td>\n",
       "      <td>1.0</td>\n",
       "      <td>NaN</td>\n",
       "      <td>NaN</td>\n",
       "      <td>975.0</td>\n",
       "      <td>NaN</td>\n",
       "      <td>17.0</td>\n",
       "      <td>1028.0</td>\n",
       "    </tr>\n",
       "    <tr>\n",
       "      <th>8</th>\n",
       "      <td>5.0</td>\n",
       "      <td>8.0</td>\n",
       "      <td>3.0</td>\n",
       "      <td>83.0</td>\n",
       "      <td>5.0</td>\n",
       "      <td>19.0</td>\n",
       "      <td>5.0</td>\n",
       "      <td>5.0</td>\n",
       "      <td>822.0</td>\n",
       "      <td>19.0</td>\n",
       "      <td>974.0</td>\n",
       "    </tr>\n",
       "    <tr>\n",
       "      <th>9</th>\n",
       "      <td>10.0</td>\n",
       "      <td>9.0</td>\n",
       "      <td>NaN</td>\n",
       "      <td>20.0</td>\n",
       "      <td>7.0</td>\n",
       "      <td>5.0</td>\n",
       "      <td>NaN</td>\n",
       "      <td>15.0</td>\n",
       "      <td>3.0</td>\n",
       "      <td>940.0</td>\n",
       "      <td>1009.0</td>\n",
       "    </tr>\n",
       "    <tr>\n",
       "      <th>All</th>\n",
       "      <td>1024.0</td>\n",
       "      <td>1182.0</td>\n",
       "      <td>944.0</td>\n",
       "      <td>1233.0</td>\n",
       "      <td>870.0</td>\n",
       "      <td>812.0</td>\n",
       "      <td>926.0</td>\n",
       "      <td>1052.0</td>\n",
       "      <td>869.0</td>\n",
       "      <td>1088.0</td>\n",
       "      <td>10000.0</td>\n",
       "    </tr>\n",
       "  </tbody>\n",
       "</table>\n",
       "</div>"
      ],
      "text/plain": [
       "test_predict          0       1      2       3      4      5      6       7  \\\n",
       "y_test_original                                                               \n",
       "0                 966.0     NaN    1.0     3.0    NaN    5.0    NaN     1.0   \n",
       "1                   NaN  1120.0    1.0     5.0    NaN    1.0    2.0     2.0   \n",
       "2                   9.0    13.0  916.0    45.0    2.0    NaN    6.0    35.0   \n",
       "3                   NaN     NaN    5.0   986.0    NaN    3.0    NaN    11.0   \n",
       "4                   1.0    14.0    4.0     NaN  847.0    NaN   11.0     6.0   \n",
       "5                  11.0     1.0    1.0    80.0    1.0  766.0    6.0     NaN   \n",
       "6                  20.0     4.0    4.0     NaN    7.0   13.0  896.0     2.0   \n",
       "7                   2.0    13.0    9.0    11.0    1.0    NaN    NaN   975.0   \n",
       "8                   5.0     8.0    3.0    83.0    5.0   19.0    5.0     5.0   \n",
       "9                  10.0     9.0    NaN    20.0    7.0    5.0    NaN    15.0   \n",
       "All              1024.0  1182.0  944.0  1233.0  870.0  812.0  926.0  1052.0   \n",
       "\n",
       "test_predict         8       9      All  \n",
       "y_test_original                          \n",
       "0                  4.0     NaN    980.0  \n",
       "1                  4.0     NaN   1135.0  \n",
       "2                  5.0     1.0   1032.0  \n",
       "3                  3.0     2.0   1010.0  \n",
       "4                  5.0    94.0    982.0  \n",
       "5                 11.0    15.0    892.0  \n",
       "6                 12.0     NaN    958.0  \n",
       "7                  NaN    17.0   1028.0  \n",
       "8                822.0    19.0    974.0  \n",
       "9                  3.0   940.0   1009.0  \n",
       "All              869.0  1088.0  10000.0  "
      ]
     },
     "execution_count": 349,
     "metadata": {},
     "output_type": "execute_result"
    }
   ],
   "source": [
    "data.pivot_table(index='y_test_original', columns='test_predict', aggfunc=len, margins=True)"
   ]
  },
  {
   "cell_type": "markdown",
   "metadata": {},
   "source": [
    "## 總結\n",
    "這只是資料分析的一個迭代，在快速的建立一個模型確認效能與資料集狀況之後，就要開始不斷的循環調控，以減少可避免誤差與方差，並接近人類水平。"
   ]
  }
 ],
 "metadata": {
  "kernelspec": {
   "display_name": "Python 3",
   "language": "python",
   "name": "python3"
  },
  "language_info": {
   "codemirror_mode": {
    "name": "ipython",
    "version": 3
   },
   "file_extension": ".py",
   "mimetype": "text/x-python",
   "name": "python",
   "nbconvert_exporter": "python",
   "pygments_lexer": "ipython3",
   "version": "3.5.3"
  }
 },
 "nbformat": 4,
 "nbformat_minor": 2
}
