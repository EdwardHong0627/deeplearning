{
 "cells": [
  {
   "cell_type": "markdown",
   "metadata": {},
   "source": [
    "# tensorflow_Basic\n",
    "在[快速利用簡單線性迴歸初步了解tensorflow](https://github.com/shaoeChen/deeplearning/blob/master/tensorflow/tensorflow_start.ipynb)之後，正式進入tensorflow這框架作業之前，還需要了解一些基礎的觀念：  \n",
    "1. tf的型別\n",
    "2. tf的算術計算\n",
    "3. tf的操作\n",
    "4. tf的matrix計算\n",
    "5. tf的reduce_\n",
    "\n",
    "這幾個基礎觀念再了解之後，大致上閱讀前輩的程式碼就沒什麼問題了(除了神經網路的觀念問題之外)，蠻多的用法都跟numpy類似，如果你熟悉numpy，應該可以不用看這邊。  \n",
    "\n",
    "當然這裡只是列出少許較常使用的函數，實際有需求的時候還是要查閱官方文件，下面提供了w3c的文件，是簡中資源。\n",
    "\n",
    "## 資源\n",
    "[w3c](https://www.w3cschool.cn/tensorflow_python/)"
   ]
  },
  {
   "cell_type": "code",
   "execution_count": 1,
   "metadata": {
    "collapsed": true
   },
   "outputs": [],
   "source": [
    "import tensorflow as tf"
   ]
  },
  {
   "cell_type": "code",
   "execution_count": 11,
   "metadata": {
    "collapsed": true
   },
   "outputs": [],
   "source": [
    "sess = tf.InteractiveSession()"
   ]
  },
  {
   "cell_type": "markdown",
   "metadata": {},
   "source": [
    "## 1. 型別\n",
    "tensorflow擁有的型別如下：\n",
    "* tf.float32\n",
    "    * 32位元浮點數\n",
    "* tf.float64\n",
    "    * 64位元浮點數\n",
    "* tf.int8\n",
    "    * 8位元帶正負符號整數\n",
    "* tf.int16\n",
    "    * 16位元帶正負符號整數\n",
    "* tf.int32\n",
    "    * 32位元帶正負符號整數\n",
    "* tf.int6\n",
    "    * 64位元帶正負符號整數\n",
    "* tf.uint8\n",
    "    * 8位元不帶正負符號整數\n",
    "* tf.string\n",
    "    * 字串\n",
    "* tf.bool\n",
    "    * 布林\n",
    "* tf.complex64\n",
    "    * 兩個32位元浮點數組點的複數\n",
    "    \n",
    "shape:dimension"
   ]
  },
  {
   "cell_type": "code",
   "execution_count": 3,
   "metadata": {},
   "outputs": [
    {
     "data": {
      "text/plain": [
       "<tf.Tensor 'Const_1:0' shape=(2, 3) dtype=int32>"
      ]
     },
     "execution_count": 3,
     "metadata": {},
     "output_type": "execute_result"
    }
   ],
   "source": [
    "#  宣告一個2x3的matrix, int32\n",
    "tensor_con = tf.constant([1,2,3,4,5,6], shape=[2,3])\n",
    "tensor_con"
   ]
  },
  {
   "cell_type": "code",
   "execution_count": 4,
   "metadata": {},
   "outputs": [
    {
     "data": {
      "text/plain": [
       "<tf.Tensor 'Const_2:0' shape=(2, 3) dtype=float32>"
      ]
     },
     "execution_count": 4,
     "metadata": {},
     "output_type": "execute_result"
    }
   ],
   "source": [
    "#  宣告一個2x3的matrix, float32\n",
    "tensor_con2 = tf.constant([1.,2.,3.,4.,5.,6.], shape=[2,3])\n",
    "tensor_con2"
   ]
  },
  {
   "cell_type": "code",
   "execution_count": 52,
   "metadata": {},
   "outputs": [
    {
     "data": {
      "text/plain": [
       "array([[0.7, 0.2, 0.3],\n",
       "       [0.4, 0.5, 0.6]], dtype=float32)"
      ]
     },
     "execution_count": 52,
     "metadata": {},
     "output_type": "execute_result"
    }
   ],
   "source": [
    "tensor_con3 = tf.constant([0.7,0.2,0.3,0.4,0.5,0.6], shape=[2,3])\n",
    "tensor_con3.eval()"
   ]
  },
  {
   "cell_type": "markdown",
   "metadata": {},
   "source": [
    "## 2. 算術計算\n",
    "算術計算不外乎加減乘除、平方、開根號....，一般來說直接使用符號也是可以的，但是個人習慣使用tf的函數操作，算術計算千百種，只列出幾個常用，其餘的要用的時候記得詳閱官方文檔。\n",
    "\n",
    "詳見下面實作說明："
   ]
  },
  {
   "cell_type": "code",
   "execution_count": 13,
   "metadata": {},
   "outputs": [
    {
     "data": {
      "text/plain": [
       "array([[ 2.,  4.,  6.],\n",
       "       [ 8., 10., 12.]])"
      ]
     },
     "execution_count": 13,
     "metadata": {},
     "output_type": "execute_result"
    }
   ],
   "source": [
    "#  加\n",
    "tensor_con.eval() + tensor_con2.eval()"
   ]
  },
  {
   "cell_type": "code",
   "execution_count": 17,
   "metadata": {},
   "outputs": [
    {
     "data": {
      "text/plain": [
       "array([[ 2,  4,  6],\n",
       "       [ 8, 10, 12]])"
      ]
     },
     "execution_count": 17,
     "metadata": {},
     "output_type": "execute_result"
    }
   ],
   "source": [
    "#  加\n",
    "tf.add(tensor_con.eval(), tensor_con2.eval()).eval()"
   ]
  },
  {
   "cell_type": "code",
   "execution_count": 19,
   "metadata": {},
   "outputs": [
    {
     "data": {
      "text/plain": [
       "array([[0, 0, 0],\n",
       "       [0, 0, 0]])"
      ]
     },
     "execution_count": 19,
     "metadata": {},
     "output_type": "execute_result"
    }
   ],
   "source": [
    "#  減\n",
    "tf.subtract(tensor_con.eval(), tensor_con2.eval()).eval()"
   ]
  },
  {
   "cell_type": "code",
   "execution_count": 20,
   "metadata": {},
   "outputs": [
    {
     "data": {
      "text/plain": [
       "array([[ 1,  4,  9],\n",
       "       [16, 25, 36]])"
      ]
     },
     "execution_count": 20,
     "metadata": {},
     "output_type": "execute_result"
    }
   ],
   "source": [
    "#  乘\n",
    "tf.multiply(tensor_con.eval(), tensor_con2.eval()).eval()"
   ]
  },
  {
   "cell_type": "code",
   "execution_count": 21,
   "metadata": {},
   "outputs": [
    {
     "data": {
      "text/plain": [
       "array([[1, 1, 1],\n",
       "       [1, 1, 1]])"
      ]
     },
     "execution_count": 21,
     "metadata": {},
     "output_type": "execute_result"
    }
   ],
   "source": [
    "#  除\n",
    "tf.div(tensor_con.eval(), tensor_con2.eval()).eval()"
   ]
  },
  {
   "cell_type": "code",
   "execution_count": 23,
   "metadata": {},
   "outputs": [
    {
     "data": {
      "text/plain": [
       "array([[1., 1., 1.],\n",
       "       [1., 1., 1.]])"
      ]
     },
     "execution_count": 23,
     "metadata": {},
     "output_type": "execute_result"
    }
   ],
   "source": [
    "#  除\n",
    "tf.divide(tensor_con.eval(), tensor_con2.eval())"
   ]
  },
  {
   "cell_type": "code",
   "execution_count": 37,
   "metadata": {},
   "outputs": [
    {
     "data": {
      "text/plain": [
       "array([[ 1,  4,  9],\n",
       "       [16, 25, 36]])"
      ]
     },
     "execution_count": 37,
     "metadata": {},
     "output_type": "execute_result"
    }
   ],
   "source": [
    "#  平方\n",
    "tf.square(tensor_con).eval()"
   ]
  },
  {
   "cell_type": "code",
   "execution_count": 39,
   "metadata": {},
   "outputs": [
    {
     "data": {
      "text/plain": [
       "array([[1.       , 1.4142135, 1.7320508],\n",
       "       [2.       , 2.236068 , 2.4494898]], dtype=float32)"
      ]
     },
     "execution_count": 39,
     "metadata": {},
     "output_type": "execute_result"
    }
   ],
   "source": [
    "#  開根號_only in float\n",
    "tf.sqrt(tensor_con2).eval()"
   ]
  },
  {
   "cell_type": "code",
   "execution_count": 41,
   "metadata": {},
   "outputs": [
    {
     "data": {
      "text/plain": [
       "array([[  1,   8,  27],\n",
       "       [ 64, 125, 216]])"
      ]
     },
     "execution_count": 41,
     "metadata": {},
     "output_type": "execute_result"
    }
   ],
   "source": [
    "#  n次方\n",
    "tf.pow(tensor_con, 3).eval()"
   ]
  },
  {
   "cell_type": "code",
   "execution_count": 53,
   "metadata": {},
   "outputs": [
    {
     "data": {
      "text/plain": [
       "array([[1., 0., 0.],\n",
       "       [0., 0., 1.]], dtype=float32)"
      ]
     },
     "execution_count": 53,
     "metadata": {},
     "output_type": "execute_result"
    }
   ],
   "source": [
    "#  這並不是一個真正的四捨五入而是bankers rounding模式\n",
    "tf.round(tensor_con3).eval()"
   ]
  },
  {
   "cell_type": "code",
   "execution_count": 61,
   "metadata": {},
   "outputs": [
    {
     "data": {
      "text/plain": [
       "array([[0.       , 0.6931472, 1.0986123],\n",
       "       [1.3862944, 1.609438 , 1.7917595]], dtype=float32)"
      ]
     },
     "execution_count": 61,
     "metadata": {},
     "output_type": "execute_result"
    }
   ],
   "source": [
    "#  only in float\n",
    "tf.log(tensor_con2).eval()"
   ]
  },
  {
   "cell_type": "code",
   "execution_count": 63,
   "metadata": {},
   "outputs": [
    {
     "data": {
      "text/plain": [
       "array([[  2.7182817,   7.389056 ,  20.085537 ],\n",
       "       [ 54.598152 , 148.41316  , 403.4288   ]], dtype=float32)"
      ]
     },
     "execution_count": 63,
     "metadata": {},
     "output_type": "execute_result"
    }
   ],
   "source": [
    "#  計算e\n",
    "tf.exp(tensor_con2).eval()"
   ]
  },
  {
   "cell_type": "code",
   "execution_count": 70,
   "metadata": {},
   "outputs": [
    {
     "data": {
      "text/plain": [
       "3"
      ]
     },
     "execution_count": 70,
     "metadata": {},
     "output_type": "execute_result"
    }
   ],
   "source": [
    "#  條件_滿足就執行條件一aa，否則條件二bb\n",
    "#  aa與bb必需是函式\n",
    "a = tf.constant(1)\n",
    "b = tf.constant(2)\n",
    "def aa():\n",
    "    return tf.add(a,b)\n",
    "def bb():\n",
    "    return tf.subtract(a,b)\n",
    "tf.cond(tf.less(a,b), aa, bb).eval()"
   ]
  },
  {
   "cell_type": "code",
   "execution_count": 72,
   "metadata": {},
   "outputs": [
    {
     "data": {
      "text/plain": [
       "array([[1., 4.],\n",
       "       [2., 5.],\n",
       "       [3., 6.]], dtype=float32)"
      ]
     },
     "execution_count": 72,
     "metadata": {},
     "output_type": "execute_result"
    }
   ],
   "source": [
    "#  矩陣轉置\n",
    "tf.transpose(tensor_con2).eval()"
   ]
  },
  {
   "cell_type": "markdown",
   "metadata": {},
   "source": [
    "## 3. 操作\n",
    "### 3-1. 型別轉換\n",
    "* to_double\n",
    "    * 轉float64\n",
    "* to_float\n",
    "    * 轉float32\n",
    "* to_int32\n",
    "    * 轉int32\n",
    "* to_int64\n",
    "    * 轉int64\n",
    "* cast\n",
    "    * cast(tensor, style)"
   ]
  },
  {
   "cell_type": "code",
   "execution_count": 75,
   "metadata": {},
   "outputs": [
    {
     "data": {
      "text/plain": [
       "<tf.Tensor 'Cast_2:0' shape=(2, 3) dtype=float32>"
      ]
     },
     "execution_count": 75,
     "metadata": {},
     "output_type": "execute_result"
    }
   ],
   "source": [
    "#  原本是dtype=int\n",
    "tf.cast(tensor_con, tf.float32)"
   ]
  },
  {
   "cell_type": "markdown",
   "metadata": {},
   "source": [
    "### 3-2. 產生亂數\n",
    "這在初始化權重的時候會使用到  "
   ]
  },
  {
   "cell_type": "code",
   "execution_count": 76,
   "metadata": {},
   "outputs": [
    {
     "data": {
      "text/plain": [
       "array([[-0.8113182 ,  1.4845988 ,  0.06532937],\n",
       "       [-2.4427042 ,  0.0992484 ,  0.5912243 ]], dtype=float32)"
      ]
     },
     "execution_count": 76,
     "metadata": {},
     "output_type": "execute_result"
    }
   ],
   "source": [
    "#  正態分佈隨機數值\n",
    "#  設置均值與標準差\n",
    "tensor_var1 = tf.Variable(tf.random_normal(shape=[2,3], seed=1))\n",
    "init = tf.global_variables_initializer()\n",
    "sess.run(init)\n",
    "tensor_var1.eval()"
   ]
  },
  {
   "cell_type": "code",
   "execution_count": 87,
   "metadata": {},
   "outputs": [
    {
     "data": {
      "text/plain": [
       "array([[2.390374  , 9.203996  , 0.50512433],\n",
       "       [4.9574447 , 8.355223  , 0.26470423]], dtype=float32)"
      ]
     },
     "execution_count": 87,
     "metadata": {},
     "output_type": "execute_result"
    }
   ],
   "source": [
    "#  範圍內的均勻分佈隨機數值\n",
    "#  設置區間範圍\n",
    "tensor_var2 = tf.Variable(tf.random_uniform(shape=[2,3], maxval=10, seed=1))\n",
    "init = tf.global_variables_initializer()\n",
    "sess.run(init)\n",
    "tensor_var2.eval()"
   ]
  },
  {
   "cell_type": "markdown",
   "metadata": {},
   "source": [
    "### 3-3. 其它操作 "
   ]
  },
  {
   "cell_type": "code",
   "execution_count": 78,
   "metadata": {},
   "outputs": [
    {
     "data": {
      "text/plain": [
       "array([1, 2, 3, 4, 5, 6, 7, 8, 9])"
      ]
     },
     "execution_count": 78,
     "metadata": {},
     "output_type": "execute_result"
    }
   ],
   "source": [
    "#  產生等差數列\n",
    "tf.range(1,10,1).eval()"
   ]
  },
  {
   "cell_type": "code",
   "execution_count": 79,
   "metadata": {},
   "outputs": [
    {
     "data": {
      "text/plain": [
       "array([1, 3, 5, 7, 9])"
      ]
     },
     "execution_count": 79,
     "metadata": {},
     "output_type": "execute_result"
    }
   ],
   "source": [
    "#  產生等差數列, delta=2\n",
    "tf.range(1,10,2).eval()"
   ]
  },
  {
   "cell_type": "code",
   "execution_count": 81,
   "metadata": {},
   "outputs": [
    {
     "data": {
      "text/plain": [
       "array([[0., 0., 0.],\n",
       "       [0., 0., 0.]], dtype=float32)"
      ]
     },
     "execution_count": 81,
     "metadata": {},
     "output_type": "execute_result"
    }
   ],
   "source": [
    "#  產生全0矩陣\n",
    "tf.zeros(shape=[2,3]).eval()"
   ]
  },
  {
   "cell_type": "code",
   "execution_count": 82,
   "metadata": {},
   "outputs": [
    {
     "data": {
      "text/plain": [
       "array([[1., 1., 1.],\n",
       "       [1., 1., 1.]], dtype=float32)"
      ]
     },
     "execution_count": 82,
     "metadata": {},
     "output_type": "execute_result"
    }
   ],
   "source": [
    "#  產生全1矩陣\n",
    "tf.ones(shape=[2,3]).eval()"
   ]
  },
  {
   "cell_type": "code",
   "execution_count": 85,
   "metadata": {},
   "outputs": [
    {
     "data": {
      "text/plain": [
       "array([ 1.       ,  1.4736842,  1.9473684,  2.4210527,  2.8947368,\n",
       "        3.368421 ,  3.8421054,  4.315789 ,  4.7894735,  5.263158 ,\n",
       "        5.736842 ,  6.2105265,  6.684211 ,  7.157895 ,  7.631579 ,\n",
       "        8.105263 ,  8.578947 ,  9.052631 ,  9.526316 , 10.       ],\n",
       "      dtype=float32)"
      ]
     },
     "execution_count": 85,
     "metadata": {},
     "output_type": "execute_result"
    }
   ],
   "source": [
    "#  範圍內產生n個等差數值\n",
    "#  only float\n",
    "tf.linspace(1.,10.,20).eval()"
   ]
  },
  {
   "cell_type": "code",
   "execution_count": 89,
   "metadata": {},
   "outputs": [
    {
     "data": {
      "text/plain": [
       "array([2, 3])"
      ]
     },
     "execution_count": 89,
     "metadata": {},
     "output_type": "execute_result"
    }
   ],
   "source": [
    "#  取得輸入參數tensor_con的維度\n",
    "tf.shape(tensor_con).eval()"
   ]
  },
  {
   "cell_type": "code",
   "execution_count": 90,
   "metadata": {},
   "outputs": [
    {
     "data": {
      "text/plain": [
       "6"
      ]
     },
     "execution_count": 90,
     "metadata": {},
     "output_type": "execute_result"
    }
   ],
   "source": [
    "#  取得輸入參數tensor_con的元素數量\n",
    "tf.size(tensor_con).eval()"
   ]
  },
  {
   "cell_type": "markdown",
   "metadata": {},
   "source": [
    "## 4. matrix計算"
   ]
  },
  {
   "cell_type": "code",
   "execution_count": 91,
   "metadata": {},
   "outputs": [
    {
     "data": {
      "text/plain": [
       "array([[1, 4],\n",
       "       [2, 5],\n",
       "       [3, 6]])"
      ]
     },
     "execution_count": 91,
     "metadata": {},
     "output_type": "execute_result"
    }
   ],
   "source": [
    "#  張量轉置\n",
    "tf.transpose(tensor_con).eval()"
   ]
  },
  {
   "cell_type": "code",
   "execution_count": 101,
   "metadata": {},
   "outputs": [
    {
     "data": {
      "text/plain": [
       "array([[14., 32.],\n",
       "       [32., 77.]], dtype=float32)"
      ]
     },
     "execution_count": 101,
     "metadata": {},
     "output_type": "execute_result"
    }
   ],
   "source": [
    "#  矩陣相乘\n",
    "tf.matmul(tensor_con2, tf.transpose(tensor_con2)).eval()"
   ]
  },
  {
   "cell_type": "code",
   "execution_count": 102,
   "metadata": {},
   "outputs": [
    {
     "data": {
      "text/plain": [
       "array([[14., 32.],\n",
       "       [32., 77.]], dtype=float32)"
      ]
     },
     "execution_count": 102,
     "metadata": {},
     "output_type": "execute_result"
    }
   ],
   "source": [
    "#  矩陣相乘\n",
    "tf.matmul(tensor_con2, tensor_con2, transpose_b=True).eval()"
   ]
  },
  {
   "cell_type": "code",
   "execution_count": 105,
   "metadata": {},
   "outputs": [
    {
     "data": {
      "text/plain": [
       "array([[ 1.425926  , -0.5925926 ],\n",
       "       [-0.5925926 ,  0.25925925]], dtype=float32)"
      ]
     },
     "execution_count": 105,
     "metadata": {},
     "output_type": "execute_result"
    }
   ],
   "source": [
    "#  求矩陣的逆，記得要方陣\n",
    "tf.matrix_inverse(tf.matmul(tensor_con2, tensor_con2, transpose_b=True)).eval()"
   ]
  },
  {
   "cell_type": "markdown",
   "metadata": {},
   "source": [
    "## 5. reduce_\n",
    "reduce的操作會有降維的效果，預設操作之後會剩下一個元素，也可指定axis操作。  \n",
    "* reduce_sum:加總\n",
    "* reduce_prod:乘積\n",
    "* reduce_min:找最小值\n",
    "* reduce_max:找最大值\n",
    "* reduce_mean:均值"
   ]
  },
  {
   "cell_type": "code",
   "execution_count": 113,
   "metadata": {},
   "outputs": [
    {
     "data": {
      "text/plain": [
       "array([[1, 2, 3],\n",
       "       [4, 5, 6]])"
      ]
     },
     "execution_count": 113,
     "metadata": {},
     "output_type": "execute_result"
    }
   ],
   "source": [
    "tensor_con.eval()"
   ]
  },
  {
   "cell_type": "code",
   "execution_count": 112,
   "metadata": {},
   "outputs": [
    {
     "data": {
      "text/plain": [
       "array([2, 3])"
      ]
     },
     "execution_count": 112,
     "metadata": {},
     "output_type": "execute_result"
    }
   ],
   "source": [
    "tf.shape(tensor_con).eval()"
   ]
  },
  {
   "cell_type": "code",
   "execution_count": 106,
   "metadata": {},
   "outputs": [
    {
     "data": {
      "text/plain": [
       "21"
      ]
     },
     "execution_count": 106,
     "metadata": {},
     "output_type": "execute_result"
    }
   ],
   "source": [
    "tf.reduce_sum(tensor_con).eval()"
   ]
  },
  {
   "cell_type": "code",
   "execution_count": 107,
   "metadata": {},
   "outputs": [
    {
     "data": {
      "text/plain": [
       "array([5, 7, 9])"
      ]
     },
     "execution_count": 107,
     "metadata": {},
     "output_type": "execute_result"
    }
   ],
   "source": [
    "tf.reduce_sum(tensor_con, axis=0).eval()"
   ]
  },
  {
   "cell_type": "code",
   "execution_count": 108,
   "metadata": {},
   "outputs": [
    {
     "data": {
      "text/plain": [
       "array([ 6, 15])"
      ]
     },
     "execution_count": 108,
     "metadata": {},
     "output_type": "execute_result"
    }
   ],
   "source": [
    "tf.reduce_sum(tensor_con, axis=1).eval()"
   ]
  },
  {
   "cell_type": "code",
   "execution_count": 110,
   "metadata": {},
   "outputs": [
    {
     "data": {
      "text/plain": [
       "array([[5, 7, 9]])"
      ]
     },
     "execution_count": 110,
     "metadata": {},
     "output_type": "execute_result"
    }
   ],
   "source": [
    "tf.reduce_sum(tensor_con, axis=0, keepdims=True).eval()"
   ]
  },
  {
   "cell_type": "code",
   "execution_count": 111,
   "metadata": {},
   "outputs": [
    {
     "data": {
      "text/plain": [
       "array([[ 6],\n",
       "       [15]])"
      ]
     },
     "execution_count": 111,
     "metadata": {},
     "output_type": "execute_result"
    }
   ],
   "source": [
    "tf.reduce_sum(tensor_con, axis=1, keepdims=True).eval()"
   ]
  }
 ],
 "metadata": {
  "kernelspec": {
   "display_name": "Python 3",
   "language": "python",
   "name": "python3"
  },
  "language_info": {
   "codemirror_mode": {
    "name": "ipython",
    "version": 3
   },
   "file_extension": ".py",
   "mimetype": "text/x-python",
   "name": "python",
   "nbconvert_exporter": "python",
   "pygments_lexer": "ipython3",
   "version": "3.5.3"
  }
 },
 "nbformat": 4,
 "nbformat_minor": 2
}
