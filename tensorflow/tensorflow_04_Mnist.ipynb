{
 "cells": [
  {
   "cell_type": "markdown",
   "metadata": {},
   "source": [
    "# Tensorflow Mnist\n",
    "## 說明\n",
    "[keras_mnist](https://github.com/shaoeChen/deeplearning/blob/master/keras/keras_cnn_mnist.ipynb)  \n",
    "MNIST是一個進入深度學習的經典案例，在理解後tensorflow的基礎框架概念之後，我們利用這個經典案例來更深入認識tensorflow。"
   ]
  },
  {
   "cell_type": "markdown",
   "metadata": {},
   "source": [
    "## 認識資料集\n",
    "[MNIST](http://yann.lecun.com/exdb/mnist)是一個手寫數字辨識的資料集，0-9，總共十個類別，資料集的部份可以從`keras.datasets.mnist`取得之外，也可以透過`tensorflow.examples.tutorials.mnist`取得。"
   ]
  },
  {
   "cell_type": "code",
   "execution_count": 100,
   "metadata": {
    "scrolled": true
   },
   "outputs": [
    {
     "name": "stdout",
     "output_type": "stream",
     "text": [
      "Extracting mnist_data/train-images-idx3-ubyte.gz\n",
      "Extracting mnist_data/train-labels-idx1-ubyte.gz\n",
      "Extracting mnist_data/t10k-images-idx3-ubyte.gz\n",
      "Extracting mnist_data/t10k-labels-idx1-ubyte.gz\n"
     ]
    }
   ],
   "source": [
    "#  取得資料集\n",
    "from tensorflow.examples.tutorials.mnist import input_data\n",
    "datasets_mnist = input_data.read_data_sets('mnist_data/', one_hot=True)"
   ]
  },
  {
   "cell_type": "markdown",
   "metadata": {},
   "source": [
    "上面warning主要說明著該function未來會棄用，要改用其它。  \n",
    "read_data_sets中，第一個放的參數是該資料集要放在執行目錄的那一個資料夾內，而one_hot=True則代表label直接下載的時候就是one_hot encoder，我們不需要再另外處理。\n",
    "\n",
    "註：可見[keras_dnn_mnist](https://github.com/shaoeChen/deeplearning/blob/master/keras/keras_dnn_Mnist.ipynb)中[In 140]說明"
   ]
  },
  {
   "cell_type": "code",
   "execution_count": 101,
   "metadata": {
    "collapsed": true
   },
   "outputs": [],
   "source": [
    "X_train_original = datasets_mnist.train.images\n",
    "X_test_original = datasets_mnist.test.images\n",
    "y_train_original = datasets_mnist.train.labels\n",
    "y_test_original = datasets_mnist.test.labels\n",
    "\n",
    "#  驗證資料集，如果需要的話\n",
    "# X_validator_original = datasets_mnist.validation.images\n",
    "# y_validator_original = datasets_mnist.validation.labels"
   ]
  },
  {
   "cell_type": "code",
   "execution_count": 102,
   "metadata": {
    "collapsed": true
   },
   "outputs": [],
   "source": [
    "X_train = np.rollaxis(X_train_original, 1, 0)\n",
    "X_test = np.rollaxis(X_test_original, 1, 0)\n",
    "y_train = np.rollaxis(y_train_original, 1, 0)\n",
    "y_test = np.rollaxis(y_test_original, 1, 0)"
   ]
  },
  {
   "cell_type": "markdown",
   "metadata": {},
   "source": [
    "資料集取得之後，首要確認資料的dimension，從dimension可以確認，這資料已經是平準化過的，所以如果是以dnn為模型的時候不需要再特別處理，但如果要以cnn來處理的話，就需要針對dimension做reshape。\n",
    "\n",
    "註：調整dimension：`X_train_original.reshape(55000,28,28)`   "
   ]
  },
  {
   "cell_type": "code",
   "execution_count": 103,
   "metadata": {},
   "outputs": [
    {
     "name": "stdout",
     "output_type": "stream",
     "text": [
      "X_train_dimension: (784, 55000)\n",
      "X_test_dimension: (784, 10000)\n",
      "y_train_dimension: (10, 55000)\n",
      "y_test_dimension: (10, 10000)\n"
     ]
    }
   ],
   "source": [
    "print('X_train_dimension:', X_train.shape)\n",
    "print('X_test_dimension:', X_test.shape)\n",
    "print('y_train_dimension:', y_train.shape)\n",
    "print('y_test_dimension:', y_test.shape)"
   ]
  },
  {
   "cell_type": "markdown",
   "metadata": {},
   "source": [
    "## 實作模型\n",
    "神經網路的流程如下：\n",
    "1. 定義輸出入\n",
    "2. 初始化參數權重\n",
    "3. forward propagation\n",
    "4. 計算cost function\n",
    "5. backpropagation\n",
    "\n",
    "模型結構如下：\n",
    "1. L=3(普遍來說，有學習參數的才會算一層)\n",
    "    * hidden layer-2\n",
    "    * output layer-1\n",
    "2. units\n",
    "    * l0:(784, None)\\_input layer\n",
    "        * input layer no weights\n",
    "    * l1:128\n",
    "        * weights dimension: 128, 784\n",
    "        * bias dimension: 128, 1\n",
    "    * l2:256\n",
    "        * weights dimension: 256, 128\n",
    "        * bias dimension: 256, 1 \n",
    "    * l3:10\\_output layer\n",
    "        * weights dimension: 10, 256\n",
    "        * bias dimension: 10, 1\n",
    "3. activation\n",
    "    * l1:relu\n",
    "    * l2:relu\n",
    "    * l3:softmax\n",
    "\n",
    "當然這只是一個簡單的說明，相關深度學習觀念可參考吳恩達老師的網易課程或coursera課程，範例上為了實作上的直觀，所以並不會很模組化的去架構，而是一步一步的建構。\n",
    "\n",
    "註：相關的神經網路觀念可參考個人課程筆記[andrew_Deeplearning](https://hackmd.io/c/HJUZTKMZz/https%3A%2F%2Fhackmd.io%2Fs%2Frk9-9anlG)  \n",
    "註：dimension的部份因為觀念來自andrew的課程，所以datasets的dimension會是(n, m)，n為特徵數，m為資料筆數"
   ]
  },
  {
   "cell_type": "markdown",
   "metadata": {},
   "source": [
    "### 載入需求套件"
   ]
  },
  {
   "cell_type": "code",
   "execution_count": 104,
   "metadata": {
    "collapsed": true
   },
   "outputs": [],
   "source": [
    "import numpy as np\n",
    "import tensorflow as tf\n",
    "import pandas as pd\n",
    "import matplotlib.pyplot as plt"
   ]
  },
  {
   "cell_type": "markdown",
   "metadata": {},
   "source": [
    "### 定義輸出入\n",
    "0. tf.reset_default_graph()\n",
    "    * 初始化graph\n",
    "        * 後篇說明用途\n",
    "1. 輸出、入的部份我們會利用`tf.placeholder`來做一個宣告\n",
    "    * 因為輸入的數量並不確定，所以宣告的時候會以None來帶入，這並不會造成異常"
   ]
  },
  {
   "cell_type": "code",
   "execution_count": 105,
   "metadata": {
    "collapsed": true
   },
   "outputs": [],
   "source": [
    "#  後篇說明\n",
    "tf.reset_default_graph()"
   ]
  },
  {
   "cell_type": "code",
   "execution_count": 106,
   "metadata": {
    "collapsed": true
   },
   "outputs": [],
   "source": [
    "#  輸入的dimension是m=784\n",
    "X = tf.placeholder(tf.float32, shape=[784, None])\n",
    "#  輸出的dimension是class=10\n",
    "y = tf.placeholder(tf.float32, shape=[10, None])"
   ]
  },
  {
   "cell_type": "markdown",
   "metadata": {},
   "source": [
    "### 初始化參數權重\n",
    "hidden layer都會帶著一組學習參數(權重)，透過不斷的迭代優化讓參數可以擬合我們的數據集，在forward propagation之後計算成本函數接著透過backpropagation更新學習參數。\n",
    "\n",
    "它是會迭代更新異動，所以我們會將學習參數宣告為`tf.Variable`並且以`tf.random_normal`來初始化權重。\n",
    "\n",
    "function hints:  \n",
    "* [tf.random_normal](https://www.tensorflow.org/api_docs/python/tf/random_normal)\n",
    "* [tf.Variable](https://www.tensorflow.org/api_docs/python/tf/Variable)\n",
    "* [tf.zeros](https://www.tensorflow.org/api_docs/python/tf/zeros)"
   ]
  },
  {
   "cell_type": "code",
   "execution_count": 107,
   "metadata": {
    "collapsed": true
   },
   "outputs": [],
   "source": [
    "W1 = tf.Variable(initial_value=tf.random_normal(shape=[128, 784]), name='W1')\n",
    "b1 = tf.Variable(initial_value=tf.zeros(shape=[128, 1]), name='b1')\n",
    "W2 = tf.Variable(initial_value=tf.random_normal(shape=[256, 128]), name='W2')\n",
    "b2 = tf.Variable(initial_value=tf.zeros(shape=[256, 1]), name='b2')\n",
    "W3 = tf.Variable(initial_value=tf.random_normal(shape=[10, 256]), name='W3')\n",
    "b3 = tf.Variable(initial_value=tf.zeros(shape=[10, 1]), name='b3')"
   ]
  },
  {
   "cell_type": "markdown",
   "metadata": {},
   "source": [
    "### forward propagation\n",
    "前向傳播：linear activate->nonlinear activate->linear activate->nonlinear linear    \n",
    "1. Z1 = W1 \\* X + b1\n",
    "2. A1 = tf.nn.relu(Z1)\n",
    "3. Z2 = W2 \\* A1 + b2\n",
    "4. A2 = tf.nn.relu(Z2)\n",
    "5. Z3 = W2 \\* A2 + b3\n",
    "\n",
    "注意到，前向傳播只會計算到Z3，在tensorflow中，最後一層線性輸出會被拿來做cost function的計算\n",
    "\n",
    "function hints:  \n",
    "* [tf.add](https://www.tensorflow.org/api_docs/python/tf/add)\n",
    "* [tf.matmul](https://www.tensorflow.org/api_docs/python/tf/matmul)\n",
    "* [tf.nn.relu](https://www.tensorflow.org/api_docs/python/tf/nn/relu)\n",
    "\n",
    "註：相關計算也可以參考[tensorflow_03_Basic](https://github.com/shaoeChen/deeplearning/blob/master/tensorflow/tensorflow_03_Basic.ipynb)  \n",
    "註：`tf.nn`是操作神經網路的package"
   ]
  },
  {
   "cell_type": "code",
   "execution_count": 108,
   "metadata": {
    "collapsed": true
   },
   "outputs": [],
   "source": [
    "Z1 = tf.add(tf.matmul(W1, X), b1, name='Z1')\n",
    "A1 = tf.nn.relu(Z1, name='A1')\n",
    "Z2 = tf.add(tf.matmul(W2, A1), b2, name='Z2')\n",
    "A2 = tf.nn.relu(Z2, name='A2')\n",
    "Z3 = tf.add(tf.matmul(W3, A2), b3, name='Z3')"
   ]
  },
  {
   "cell_type": "markdown",
   "metadata": {},
   "source": [
    "### 計算cost function\n",
    "\n",
    "function:  \n",
    "* [tf.reduce_mean](https://www.tensorflow.org/api_docs/python/tf/reduce_mean)\n",
    "* [tf.nn.sofrmax_cross_entropy_with_logits](https://www.tensorflow.org/api_docs/python/tf/nn/softmax_cross_entropy_with_logits)  \n",
    "    * 注意到dimension的部份需為[batch\\_sze, number\\_class]"
   ]
  },
  {
   "cell_type": "code",
   "execution_count": 109,
   "metadata": {
    "collapsed": true
   },
   "outputs": [],
   "source": [
    "cost_function = tf.reduce_mean(tf.nn.softmax_cross_entropy_with_logits(labels=tf.transpose(y), logits=tf.transpose(Z3)), name='cost_function')"
   ]
  },
  {
   "cell_type": "markdown",
   "metadata": {},
   "source": [
    "### backpropagation\n",
    "反向傳播的部份，在framework(tensowflow)的協助之下，我們是不需要特別的處理，唯一需要定義的就是最佳化的方式，剩餘的偏微分計算就由framework來處理即可。\n",
    "\n",
    "function:  \n",
    "* [tf.train.GradientDescentOptimizer](https://www.tensorflow.org/api_docs/python/tf/train/GradientDescentOptimizer)\n",
    "    * 梯度下降\n",
    "\n",
    "註：`tf.train`是tensorflow用來訓練模型的package"
   ]
  },
  {
   "cell_type": "code",
   "execution_count": 110,
   "metadata": {
    "collapsed": true
   },
   "outputs": [],
   "source": [
    "optimizer = tf.train.GradientDescentOptimizer(learning_rate=0.001).minimize(cost_function)"
   ]
  },
  {
   "cell_type": "markdown",
   "metadata": {},
   "source": [
    "### 模型訓練\n",
    "到上面，我們已經規劃好我們的graph，接下來就要利用`tf.Session()`來執行整個flow。"
   ]
  },
  {
   "cell_type": "code",
   "execution_count": 126,
   "metadata": {},
   "outputs": [
    {
     "name": "stdout",
     "output_type": "stream",
     "text": [
      "epoch: 1  and cost= 1123.5582\n",
      "accuracy: 0.08112727\n",
      "epoch: 2  and cost= 1008.85864\n",
      "accuracy: 0.086763635\n",
      "epoch: 3  and cost= 914.8965\n",
      "accuracy: 0.092327274\n",
      "epoch: 4  and cost= 836.2512\n",
      "accuracy: 0.09752727\n",
      "epoch: 5  and cost= 771.69977\n",
      "accuracy: 0.10261818\n",
      "epoch: 6  and cost= 720.30194\n",
      "accuracy: 0.10843636\n",
      "epoch: 7  and cost= 679.9344\n",
      "accuracy: 0.114\n",
      "epoch: 8  and cost= 648.00525\n",
      "accuracy: 0.121836364\n",
      "epoch: 9  and cost= 621.5344\n",
      "accuracy: 0.12949091\n",
      "epoch: 10  and cost= 598.71234\n",
      "accuracy: 0.13694546\n",
      "epoch: 11  and cost= 578.44965\n",
      "accuracy: 0.1444\n",
      "epoch: 12  and cost= 560.0136\n",
      "accuracy: 0.15212727\n",
      "epoch: 13  and cost= 542.93066\n",
      "accuracy: 0.16027273\n",
      "epoch: 14  and cost= 526.8824\n",
      "accuracy: 0.16790909\n",
      "epoch: 15  and cost= 511.70343\n",
      "accuracy: 0.17609091\n",
      "epoch: 16  and cost= 497.2819\n",
      "accuracy: 0.18345454\n",
      "epoch: 17  and cost= 483.5228\n",
      "accuracy: 0.19189091\n",
      "epoch: 18  and cost= 470.3995\n",
      "accuracy: 0.20001818\n",
      "epoch: 19  and cost= 457.86786\n",
      "accuracy: 0.20783636\n",
      "epoch: 20  and cost= 445.88385\n",
      "accuracy: 0.2151091\n"
     ]
    },
    {
     "data": {
      "image/png": "[encoded data removed]",
      "text/plain": [
       "<matplotlib.figure.Figure at 0x19535208>"
      ]
     },
     "metadata": {},
     "output_type": "display_data"
    }
   ],
   "source": [
    "init = tf.global_variables_initializer()\n",
    "costs = []\n",
    "eopchs = 20\n",
    "with tf.Session() as sess:\n",
    "    #  初始化所有變數    \n",
    "    sess.run(init)\n",
    "    \n",
    "    #  計算模型效能\n",
    "    predict = tf.argmax(Z3, 0)\n",
    "    label = tf.argmax(y, 0)\n",
    "    acc = tf.contrib.metrics.accuracy(predict, label)    \n",
    "    \n",
    "    \n",
    "    #  迴圈迭代計算\n",
    "    for epoch in range(eopchs):\n",
    "        sess.run(optimizer, feed_dict={X: X_train, y: y_train})\n",
    "        cost = sess.run(cost_function, feed_dict={X: X_train, y: y_train})\n",
    "        print('epoch:', epoch+1, ' and cost= ', cost)\n",
    "        costs.append(cost)\n",
    "        print('accuracy:', sess.run(acc, feed_dict={X: X_train, y: y_train}))\n",
    "       \n",
    "    \n",
    "    plt.plot(range(eopchs), costs)\n",
    "    plt.show()"
   ]
  },
  {
   "cell_type": "markdown",
   "metadata": {},
   "source": [
    "從上面結果來看，我們成功的收斂了Cost Function，當然模型還是有很大的改進空間，但是我們只是為了對tensowflow有更直觀的理解，所以並沒有建置的非常複雜。"
   ]
  },
  {
   "cell_type": "markdown",
   "metadata": {},
   "source": [
    "### TensorBoard"
   ]
  },
  {
   "cell_type": "code",
   "execution_count": 69,
   "metadata": {
    "collapsed": true
   },
   "outputs": [],
   "source": [
    "tf.summary.merge_all()\n",
    "tensor_log = tf.summary.FileWriter('log/mlp', sess.graph)"
   ]
  },
  {
   "cell_type": "markdown",
   "metadata": {},
   "source": [
    "注意到當前路徑應該是在log的時候才執行下列指令  \n",
    "```shell\n",
    "tensorboard --logdir=mlp\n",
    "```"
   ]
  },
  {
   "cell_type": "markdown",
   "metadata": {},
   "source": [
    "## 總結\n",
    "在這個案例中，我們對tensorflow多認識了兩個package：  \n",
    "1. tf.nn:對神經網路的操作，裡面有activation、dropout、conv、pool...\n",
    "2. tf.train:神經網路的最佳化，裡面有梯度下降、adam、RMSProp..\n",
    "\n",
    "\n",
    "另外我們也發現到，在實作模型之前我們有執行了`tf.reset_default_graph()`，它的作用後續會說明。"
   ]
  },
  {
   "cell_type": "markdown",
   "metadata": {},
   "source": [
    "## 延伸閱讀\n",
    "在實作的過程中發現到一件事，上層的output就是下層的input，每一層的計算就是一個線性(z=(y=wx+b))接一個非線性(relu(z))，利用這個特性我們也可以用較模組化的方式來建立模型。"
   ]
  },
  {
   "cell_type": "code",
   "execution_count": 26,
   "metadata": {
    "collapsed": true
   },
   "outputs": [],
   "source": [
    "def dnn_layer(layer_name, pre_layer, hidden_unit, activation=None):\n",
    "    \"\"\"\n",
    "    parameter:\n",
    "        layer_name:隱藏層名稱\n",
    "        pre_layer:上層神經網路的輸出，如果為第一層則該輸出即為資料集X\n",
    "        hidden_unit:神經單元數量\n",
    "        activation:啟動函數，格式為tf.nn.xxxx\n",
    "    return:\n",
    "        A:輸出資料    \n",
    "        \n",
    "    memo:\n",
    "        如果有需求的話，想法上回傳權重與偏差單元是一個不錯的作法\n",
    "    \"\"\"\n",
    "    \n",
    "    #  取得上層神經網路的unit數量\n",
    "    pre_layer_unit = pre_layer.shape.as_list()[0]\n",
    "    \n",
    "    W = tf.Variable(initial_value=tf.random_normal(shape=[hidden_unit, pre_layer_unit]), name='W_'+layer_name)\n",
    "    b = tf.Variable(initial_value=tf.zeros(shape=[hidden_unit, 1]), name='b_'+layer_name)\n",
    "    Z = tf.add(tf.matmul(W, pre_layer), b, name='Z_'+layer_name)\n",
    "    \n",
    "    #  部份時候可能需要線性輸出，所以允許None\n",
    "    if activation == None:\n",
    "        A = Z\n",
    "    else:\n",
    "        A = activation(Z, name='A_'+layer_name)\n",
    "    \n",
    "    return A\n",
    "    "
   ]
  },
  {
   "cell_type": "markdown",
   "metadata": {},
   "source": [
    "定義好模型之後，我們就可以直接以上層輸出即為下層輸入的概念來架構神經網路，整個程式碼更直觀，而且更有結構性，似乎也有點像keras或tensorlayer，不過重點還是在對神經網路的基本觀念以及對framework的熟悉。"
   ]
  },
  {
   "cell_type": "code",
   "execution_count": 38,
   "metadata": {
    "collapsed": true
   },
   "outputs": [],
   "source": [
    "#  後篇說明\n",
    "tf.reset_default_graph()\n",
    "\n",
    "#  輸入的dimension是mx784\n",
    "X = tf.placeholder(tf.float32, shape=[784, None])\n",
    "#  輸出的eimension是mx10\n",
    "y = tf.placeholder(tf.float32, shape=[10, None])"
   ]
  },
  {
   "cell_type": "code",
   "execution_count": 39,
   "metadata": {
    "collapsed": true
   },
   "outputs": [],
   "source": [
    "#  利用剛才定義的layer來計算\n",
    "layer_1 = dnn_layer('layer_1', X, 128, tf.nn.relu)\n",
    "layer_2 = dnn_layer('layer_2', layer_1, 256, tf.nn.relu)\n",
    "layer_3 = dnn_layer('output_layer', layer_2, 10, None)"
   ]
  },
  {
   "cell_type": "code",
   "execution_count": 41,
   "metadata": {
    "collapsed": true
   },
   "outputs": [],
   "source": [
    "cost_function = tf.reduce_mean(tf.nn.softmax_cross_entropy_with_logits(labels=tf.transpose(y), logits=tf.transpose(layer_3)), name='cost_function')\n",
    "optimizer = tf.train.GradientDescentOptimizer(learning_rate=0.001).minimize(cost_function)"
   ]
  },
  {
   "cell_type": "code",
   "execution_count": 43,
   "metadata": {},
   "outputs": [
    {
     "name": "stdout",
     "output_type": "stream",
     "text": [
      "epoch: 1  and cost= 1182.2762\n",
      "epoch: 2  and cost= 1051.0151\n",
      "epoch: 3  and cost= 968.6061\n",
      "epoch: 4  and cost= 909.9714\n",
      "epoch: 5  and cost= 862.91345\n",
      "epoch: 6  and cost= 821.93427\n",
      "epoch: 7  and cost= 784.76917\n",
      "epoch: 8  and cost= 750.33746\n",
      "epoch: 9  and cost= 718.0798\n",
      "epoch: 10  and cost= 687.60986\n",
      "epoch: 11  and cost= 658.6306\n",
      "epoch: 12  and cost= 631.03174\n",
      "epoch: 13  and cost= 604.74225\n",
      "epoch: 14  and cost= 579.8643\n",
      "epoch: 15  and cost= 556.8481\n",
      "epoch: 16  and cost= 536.20355\n",
      "epoch: 17  and cost= 518.1911\n",
      "epoch: 18  and cost= 502.66312\n",
      "epoch: 19  and cost= 488.96198\n",
      "epoch: 20  and cost= 476.50684\n"
     ]
    },
    {
     "data": {
      "image/png": "[encoded data removed]",
      "text/plain": [
       "<matplotlib.figure.Figure at 0x1877c0b8>"
      ]
     },
     "metadata": {},
     "output_type": "display_data"
    }
   ],
   "source": [
    "init = tf.global_variables_initializer()\n",
    "costs = []\n",
    "with tf.Session() as sess:\n",
    "    #  初始化所有變數    \n",
    "    sess.run(init)\n",
    "    \n",
    "    #  迴圈迭代計算\n",
    "    for epoch in range(20):\n",
    "        sess.run(optimizer, feed_dict={X: X_train, y: y_train})\n",
    "        cost = sess.run(cost_function, feed_dict={X: X_train, y: y_train})\n",
    "        print('epoch:', epoch+1, ' and cost=', cost)\n",
    "        costs.append(cost)\n",
    "    \n",
    "    plt.plot(range(20), costs)\n",
    "    plt.show()"
   ]
  }
 ],
 "metadata": {
  "kernelspec": {
   "display_name": "Python 3",
   "language": "python",
   "name": "python3"
  },
  "language_info": {
   "codemirror_mode": {
    "name": "ipython",
    "version": 3
   },
   "file_extension": ".py",
   "mimetype": "text/x-python",
   "name": "python",
   "nbconvert_exporter": "python",
   "pygments_lexer": "ipython3",
   "version": "3.6.1"
  }
 },
 "nbformat": 4,
 "nbformat_minor": 2
}
