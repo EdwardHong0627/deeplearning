{
 "cells": [
  {
   "cell_type": "markdown",
   "metadata": {},
   "source": [
    "前面幾章操作下來，我們已經成功的匯出`.pb`的模型，接下來就可以將模型佈上正式區，TensorFlow一樣提供方便的套件讓我們使用，為了方便，整個過程都是以docker來操作"
   ]
  },
  {
   "cell_type": "markdown",
   "metadata": {},
   "source": [
    "[官方連結](https://www.tensorflow.org/tfx/serving/docker)"
   ]
  },
  {
   "cell_type": "markdown",
   "metadata": {},
   "source": [
    "官方連結上有著詳細的說明，可以先將image接下來之後再依實際上的資料結構啟動容器，後面我們假設已經成功啟動容器。 "
   ]
  },
  {
   "cell_type": "code",
   "execution_count": 1,
   "metadata": {},
   "outputs": [],
   "source": [
    "import tensorflow as tf\n",
    "import numpy as np"
   ]
  },
  {
   "cell_type": "code",
   "execution_count": 2,
   "metadata": {},
   "outputs": [
    {
     "data": {
      "text/plain": [
       "'2.1.0'"
      ]
     },
     "execution_count": 2,
     "metadata": {},
     "output_type": "execute_result"
    }
   ],
   "source": [
    "tf.__version__"
   ]
  },
  {
   "cell_type": "markdown",
   "metadata": {},
   "source": [
    "取得MNIST資料集並做標準化。"
   ]
  },
  {
   "cell_type": "code",
   "execution_count": 3,
   "metadata": {},
   "outputs": [],
   "source": [
    "mnist = tf.keras.datasets.mnist\n",
    "(x_train, y_train), (x_test, y_test) = mnist.load_data()\n",
    "x_train = np.expand_dims(x_train / 255., -1)\n",
    "x_test = np.expand_dims(x_test / 255., -1)"
   ]
  },
  {
   "cell_type": "code",
   "execution_count": 4,
   "metadata": {},
   "outputs": [
    {
     "data": {
      "text/plain": [
       "((60000, 28, 28, 1), (10000, 28, 28, 1))"
      ]
     },
     "execution_count": 4,
     "metadata": {},
     "output_type": "execute_result"
    }
   ],
   "source": [
    "x_train.shape, x_test.shape"
   ]
  },
  {
   "cell_type": "markdown",
   "metadata": {},
   "source": [
    "載入需求套件"
   ]
  },
  {
   "cell_type": "code",
   "execution_count": 5,
   "metadata": {},
   "outputs": [],
   "source": [
    "import json\n",
    "import requests"
   ]
  },
  {
   "cell_type": "markdown",
   "metadata": {},
   "source": [
    "如果是post的話，那資料格式為\n",
    "```json\n",
    "{\n",
    "    \"signature_name\": \"需要調用的函數簽名（Sequential模式不需要）\",\n",
    "    \"instances\": 輸入資料\n",
    "}\n",
    "```"
   ]
  },
  {
   "cell_type": "markdown",
   "metadata": {},
   "source": [
    "而得到的json為\n",
    "```json\n",
    "{\n",
    "    \"predictions\": 返回值\n",
    "}\n",
    "```"
   ]
  },
  {
   "cell_type": "markdown",
   "metadata": {},
   "source": [
    "資料序列化"
   ]
  },
  {
   "cell_type": "code",
   "execution_count": 6,
   "metadata": {},
   "outputs": [],
   "source": [
    "data = json.dumps({\n",
    "    \"instances\": np.expand_dims(x_train[0], 0).tolist()\n",
    "})"
   ]
  },
  {
   "cell_type": "markdown",
   "metadata": {},
   "source": [
    "設置header"
   ]
  },
  {
   "cell_type": "code",
   "execution_count": 7,
   "metadata": {},
   "outputs": [],
   "source": [
    "headers = {\"content-type\": \"application/json\"}"
   ]
  },
  {
   "cell_type": "markdown",
   "metadata": {},
   "source": [
    "利用`request.post`取得回應"
   ]
  },
  {
   "cell_type": "code",
   "execution_count": 8,
   "metadata": {},
   "outputs": [],
   "source": [
    "json_response = requests.post(\n",
    "    'http://10.56.34.180:8501/v1/models/MLP:predict',\n",
    "    data=data,\n",
    "    headers=headers\n",
    ")"
   ]
  },
  {
   "cell_type": "markdown",
   "metadata": {},
   "source": [
    "得到200的回應，成功"
   ]
  },
  {
   "cell_type": "code",
   "execution_count": 9,
   "metadata": {},
   "outputs": [
    {
     "data": {
      "text/plain": [
       "<Response [200]>"
      ]
     },
     "execution_count": 9,
     "metadata": {},
     "output_type": "execute_result"
    }
   ],
   "source": [
    "json_response"
   ]
  },
  {
   "cell_type": "code",
   "execution_count": 15,
   "metadata": {},
   "outputs": [
    {
     "data": {
      "text/plain": [
       "{'predictions': [[0.000273156445,\n",
       "   0.000197476,\n",
       "   0.00171972613,\n",
       "   0.146828488,\n",
       "   7.99330508e-07,\n",
       "   0.848601043,\n",
       "   0.000133246474,\n",
       "   0.000922977109,\n",
       "   0.000853003934,\n",
       "   0.000470101426]]}"
      ]
     },
     "execution_count": 15,
     "metadata": {},
     "output_type": "execute_result"
    }
   ],
   "source": [
    "json_response.json()"
   ]
  },
  {
   "cell_type": "markdown",
   "metadata": {},
   "source": [
    "如果你跟我一樣是利用docker來執行的話，那要注意一點：\n",
    "```shell\n",
    "docker run --runtime=nvidia -p 8501:8501 \\\n",
    "  -v /home/marty/deepLearning/tf2/model:/models/MLP \\\n",
    "  -e MODEL_NAME=MLP \\\n",
    "  -t tensorflow/serving:latest-gpu &\n",
    "```"
   ]
  },
  {
   "cell_type": "markdown",
   "metadata": {},
   "source": [
    "那就是，在mount資料夾的時候，在container內的路徑一定是`/models/your model`，而且你並不需要指定版本，因為系統會自動去取最新版本。"
   ]
  },
  {
   "cell_type": "markdown",
   "metadata": {},
   "source": [
    "下面是我們利用MNIST_11的說明所保存版本的資料結構，只要指定到saved_model_files即可\n",
    "```\n",
    "/saved_model_files\n",
    "    /1      # 版本號為1的模型文件\n",
    "        /assets\n",
    "        /variables\n",
    "        saved_model.pb\n",
    "    ...\n",
    "    /N      # 版本號為N的模型文件\n",
    "        /assets\n",
    "        /variables\n",
    "        saved_model.pb\n",
    "```"
   ]
  },
  {
   "cell_type": "markdown",
   "metadata": {},
   "source": [
    "針對繼承`tf.keras.Model`的類別有幾點要注意：\n",
    "1. `call`的部份一定需要以`@tf.function`裝飾\n",
    "2. `@tf.function`的參數要加入指定輸入的shape\n",
    "3. `tf.saved_model.save`匯出模型的時候，要利用參數`signature`來提供函數的Signature"
   ]
  },
  {
   "cell_type": "markdown",
   "metadata": {},
   "source": [
    "```python\n",
    "class MLP(tf.keras.Model):\n",
    "    ...\n",
    "\n",
    "    @tf.function(input_signature=[tf.TensorSpec([None, 28, 28, 1], tf.float32)])\n",
    "    def call(self, inputs):\n",
    "        ...\n",
    "```"
   ]
  },
  {
   "cell_type": "markdown",
   "metadata": {},
   "source": [
    "上面範例指出，我們在裝飾函數中指定預計輸入的維度，記得匯出模型的時候要指定signatures"
   ]
  },
  {
   "cell_type": "markdown",
   "metadata": {},
   "source": [
    "```python\n",
    "tf.saved_model.save(model, \"saved_with_signature/1\", signatures={\"call\": model.call})\n",
    "```"
   ]
  },
  {
   "cell_type": "markdown",
   "metadata": {},
   "source": [
    "在呼叫api的時候就記得指定`signature_name`：  \n",
    "```python \n",
    "data = json.dumps({\n",
    "    \"signature_name\": \"call\",\n",
    "    \"instances\": data_loader.test_data[0:10].tolist()\n",
    "    })\n",
    "```"
   ]
  }
 ],
 "metadata": {
  "kernelspec": {
   "display_name": "Python 3",
   "language": "python",
   "name": "python3"
  },
  "language_info": {
   "codemirror_mode": {
    "name": "ipython",
    "version": 3
   },
   "file_extension": ".py",
   "mimetype": "text/x-python",
   "name": "python",
   "nbconvert_exporter": "python",
   "pygments_lexer": "ipython3",
   "version": "3.6.9"
  }
 },
 "nbformat": 4,
 "nbformat_minor": 2
}
